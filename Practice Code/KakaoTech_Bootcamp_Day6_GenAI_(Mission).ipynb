{
  "nbformat": 4,
  "nbformat_minor": 0,
  "metadata": {
    "colab": {
      "provenance": []
    },
    "kernelspec": {
      "name": "python3",
      "display_name": "Python 3"
    },
    "language_info": {
      "name": "python"
    }
  },
  "cells": [
    {
      "cell_type": "markdown",
      "source": [
        "## 실습 과제\n",
        "1. 데이터 분석하기\n",
        "- (https://www.kaggle.com/datasets/nikhil7280/weather-type-classification)"
      ],
      "metadata": {
        "id": "FmhnkZ0-TriG"
      }
    },
    {
      "cell_type": "code",
      "execution_count": 1,
      "metadata": {
        "colab": {
          "base_uri": "https://localhost:8080/"
        },
        "id": "90g1fyoZ-3Xv",
        "outputId": "81a274d8-fc60-4688-fb9c-86fdc97e2ea6"
      },
      "outputs": [
        {
          "output_type": "stream",
          "name": "stdout",
          "text": [
            "Dataset URL: https://www.kaggle.com/datasets/nikhil7280/weather-type-classification\n",
            "License(s): other\n",
            "Downloading weather-type-classification.zip to /content\n",
            "  0% 0.00/186k [00:00<?, ?B/s]\n",
            "100% 186k/186k [00:00<00:00, 18.2MB/s]\n"
          ]
        }
      ],
      "source": [
        "! kaggle datasets download -d nikhil7280/weather-type-classification"
      ]
    },
    {
      "cell_type": "code",
      "source": [
        "! unzip /content/weather-type-classification.zip"
      ],
      "metadata": {
        "colab": {
          "base_uri": "https://localhost:8080/"
        },
        "id": "j1q6S6Pr_jVE",
        "outputId": "db9e95e7-7ac6-4aa7-fc96-3e318e96c85d"
      },
      "execution_count": 3,
      "outputs": [
        {
          "output_type": "stream",
          "name": "stdout",
          "text": [
            "Archive:  /content/weather-type-classification.zip\n",
            "replace weather_classification_data.csv? [y]es, [n]o, [A]ll, [N]one, [r]ename: "
          ]
        }
      ]
    },
    {
      "cell_type": "code",
      "source": [
        "import pandas as pd\n",
        "\n",
        "data = pd.read_csv('/content/weather_classification_data.csv')\n",
        "\n",
        "# 데이터의 처음 몇 줄을 출력하여 구조 확인\n",
        "print(\"데이터의 처음 몇 줄을 출력하여 구조 확인\")\n",
        "data.head()"
      ],
      "metadata": {
        "colab": {
          "base_uri": "https://localhost:8080/",
          "height": 296
        },
        "id": "BInzzI7D-FY4",
        "outputId": "4e71ff6b-b6e0-4868-f7c7-9fc5bbe6f496"
      },
      "execution_count": 11,
      "outputs": [
        {
          "output_type": "stream",
          "name": "stdout",
          "text": [
            "데이터의 처음 몇 줄을 출력하여 구조 확인\n"
          ]
        },
        {
          "output_type": "execute_result",
          "data": {
            "text/plain": [
              "   Temperature  Humidity  Wind Speed  Precipitation (%)    Cloud Cover  \\\n",
              "0         14.0        73         9.5               82.0  partly cloudy   \n",
              "1         39.0        96         8.5               71.0  partly cloudy   \n",
              "2         30.0        64         7.0               16.0          clear   \n",
              "3         38.0        83         1.5               82.0          clear   \n",
              "4         27.0        74        17.0               66.0       overcast   \n",
              "\n",
              "   Atmospheric Pressure  UV Index  Season  Visibility (km)  Location  \\\n",
              "0               1010.82         2  Winter              3.5    inland   \n",
              "1               1011.43         7  Spring             10.0    inland   \n",
              "2               1018.72         5  Spring              5.5  mountain   \n",
              "3               1026.25         7  Spring              1.0   coastal   \n",
              "4                990.67         1  Winter              2.5  mountain   \n",
              "\n",
              "  Weather Type  \n",
              "0        Rainy  \n",
              "1       Cloudy  \n",
              "2        Sunny  \n",
              "3        Sunny  \n",
              "4        Rainy  "
            ],
            "text/html": [
              "\n",
              "  <div id=\"df-6bb05f8b-1bbe-4cd1-b02d-0289246e477c\" class=\"colab-df-container\">\n",
              "    <div>\n",
              "<style scoped>\n",
              "    .dataframe tbody tr th:only-of-type {\n",
              "        vertical-align: middle;\n",
              "    }\n",
              "\n",
              "    .dataframe tbody tr th {\n",
              "        vertical-align: top;\n",
              "    }\n",
              "\n",
              "    .dataframe thead th {\n",
              "        text-align: right;\n",
              "    }\n",
              "</style>\n",
              "<table border=\"1\" class=\"dataframe\">\n",
              "  <thead>\n",
              "    <tr style=\"text-align: right;\">\n",
              "      <th></th>\n",
              "      <th>Temperature</th>\n",
              "      <th>Humidity</th>\n",
              "      <th>Wind Speed</th>\n",
              "      <th>Precipitation (%)</th>\n",
              "      <th>Cloud Cover</th>\n",
              "      <th>Atmospheric Pressure</th>\n",
              "      <th>UV Index</th>\n",
              "      <th>Season</th>\n",
              "      <th>Visibility (km)</th>\n",
              "      <th>Location</th>\n",
              "      <th>Weather Type</th>\n",
              "    </tr>\n",
              "  </thead>\n",
              "  <tbody>\n",
              "    <tr>\n",
              "      <th>0</th>\n",
              "      <td>14.0</td>\n",
              "      <td>73</td>\n",
              "      <td>9.5</td>\n",
              "      <td>82.0</td>\n",
              "      <td>partly cloudy</td>\n",
              "      <td>1010.82</td>\n",
              "      <td>2</td>\n",
              "      <td>Winter</td>\n",
              "      <td>3.5</td>\n",
              "      <td>inland</td>\n",
              "      <td>Rainy</td>\n",
              "    </tr>\n",
              "    <tr>\n",
              "      <th>1</th>\n",
              "      <td>39.0</td>\n",
              "      <td>96</td>\n",
              "      <td>8.5</td>\n",
              "      <td>71.0</td>\n",
              "      <td>partly cloudy</td>\n",
              "      <td>1011.43</td>\n",
              "      <td>7</td>\n",
              "      <td>Spring</td>\n",
              "      <td>10.0</td>\n",
              "      <td>inland</td>\n",
              "      <td>Cloudy</td>\n",
              "    </tr>\n",
              "    <tr>\n",
              "      <th>2</th>\n",
              "      <td>30.0</td>\n",
              "      <td>64</td>\n",
              "      <td>7.0</td>\n",
              "      <td>16.0</td>\n",
              "      <td>clear</td>\n",
              "      <td>1018.72</td>\n",
              "      <td>5</td>\n",
              "      <td>Spring</td>\n",
              "      <td>5.5</td>\n",
              "      <td>mountain</td>\n",
              "      <td>Sunny</td>\n",
              "    </tr>\n",
              "    <tr>\n",
              "      <th>3</th>\n",
              "      <td>38.0</td>\n",
              "      <td>83</td>\n",
              "      <td>1.5</td>\n",
              "      <td>82.0</td>\n",
              "      <td>clear</td>\n",
              "      <td>1026.25</td>\n",
              "      <td>7</td>\n",
              "      <td>Spring</td>\n",
              "      <td>1.0</td>\n",
              "      <td>coastal</td>\n",
              "      <td>Sunny</td>\n",
              "    </tr>\n",
              "    <tr>\n",
              "      <th>4</th>\n",
              "      <td>27.0</td>\n",
              "      <td>74</td>\n",
              "      <td>17.0</td>\n",
              "      <td>66.0</td>\n",
              "      <td>overcast</td>\n",
              "      <td>990.67</td>\n",
              "      <td>1</td>\n",
              "      <td>Winter</td>\n",
              "      <td>2.5</td>\n",
              "      <td>mountain</td>\n",
              "      <td>Rainy</td>\n",
              "    </tr>\n",
              "  </tbody>\n",
              "</table>\n",
              "</div>\n",
              "    <div class=\"colab-df-buttons\">\n",
              "\n",
              "  <div class=\"colab-df-container\">\n",
              "    <button class=\"colab-df-convert\" onclick=\"convertToInteractive('df-6bb05f8b-1bbe-4cd1-b02d-0289246e477c')\"\n",
              "            title=\"Convert this dataframe to an interactive table.\"\n",
              "            style=\"display:none;\">\n",
              "\n",
              "  <svg xmlns=\"http://www.w3.org/2000/svg\" height=\"24px\" viewBox=\"0 -960 960 960\">\n",
              "    <path d=\"M120-120v-720h720v720H120Zm60-500h600v-160H180v160Zm220 220h160v-160H400v160Zm0 220h160v-160H400v160ZM180-400h160v-160H180v160Zm440 0h160v-160H620v160ZM180-180h160v-160H180v160Zm440 0h160v-160H620v160Z\"/>\n",
              "  </svg>\n",
              "    </button>\n",
              "\n",
              "  <style>\n",
              "    .colab-df-container {\n",
              "      display:flex;\n",
              "      gap: 12px;\n",
              "    }\n",
              "\n",
              "    .colab-df-convert {\n",
              "      background-color: #E8F0FE;\n",
              "      border: none;\n",
              "      border-radius: 50%;\n",
              "      cursor: pointer;\n",
              "      display: none;\n",
              "      fill: #1967D2;\n",
              "      height: 32px;\n",
              "      padding: 0 0 0 0;\n",
              "      width: 32px;\n",
              "    }\n",
              "\n",
              "    .colab-df-convert:hover {\n",
              "      background-color: #E2EBFA;\n",
              "      box-shadow: 0px 1px 2px rgba(60, 64, 67, 0.3), 0px 1px 3px 1px rgba(60, 64, 67, 0.15);\n",
              "      fill: #174EA6;\n",
              "    }\n",
              "\n",
              "    .colab-df-buttons div {\n",
              "      margin-bottom: 4px;\n",
              "    }\n",
              "\n",
              "    [theme=dark] .colab-df-convert {\n",
              "      background-color: #3B4455;\n",
              "      fill: #D2E3FC;\n",
              "    }\n",
              "\n",
              "    [theme=dark] .colab-df-convert:hover {\n",
              "      background-color: #434B5C;\n",
              "      box-shadow: 0px 1px 3px 1px rgba(0, 0, 0, 0.15);\n",
              "      filter: drop-shadow(0px 1px 2px rgba(0, 0, 0, 0.3));\n",
              "      fill: #FFFFFF;\n",
              "    }\n",
              "  </style>\n",
              "\n",
              "    <script>\n",
              "      const buttonEl =\n",
              "        document.querySelector('#df-6bb05f8b-1bbe-4cd1-b02d-0289246e477c button.colab-df-convert');\n",
              "      buttonEl.style.display =\n",
              "        google.colab.kernel.accessAllowed ? 'block' : 'none';\n",
              "\n",
              "      async function convertToInteractive(key) {\n",
              "        const element = document.querySelector('#df-6bb05f8b-1bbe-4cd1-b02d-0289246e477c');\n",
              "        const dataTable =\n",
              "          await google.colab.kernel.invokeFunction('convertToInteractive',\n",
              "                                                    [key], {});\n",
              "        if (!dataTable) return;\n",
              "\n",
              "        const docLinkHtml = 'Like what you see? Visit the ' +\n",
              "          '<a target=\"_blank\" href=https://colab.research.google.com/notebooks/data_table.ipynb>data table notebook</a>'\n",
              "          + ' to learn more about interactive tables.';\n",
              "        element.innerHTML = '';\n",
              "        dataTable['output_type'] = 'display_data';\n",
              "        await google.colab.output.renderOutput(dataTable, element);\n",
              "        const docLink = document.createElement('div');\n",
              "        docLink.innerHTML = docLinkHtml;\n",
              "        element.appendChild(docLink);\n",
              "      }\n",
              "    </script>\n",
              "  </div>\n",
              "\n",
              "\n",
              "<div id=\"df-4fa4f400-b8b9-46bb-868d-e39ddff84774\">\n",
              "  <button class=\"colab-df-quickchart\" onclick=\"quickchart('df-4fa4f400-b8b9-46bb-868d-e39ddff84774')\"\n",
              "            title=\"Suggest charts\"\n",
              "            style=\"display:none;\">\n",
              "\n",
              "<svg xmlns=\"http://www.w3.org/2000/svg\" height=\"24px\"viewBox=\"0 0 24 24\"\n",
              "     width=\"24px\">\n",
              "    <g>\n",
              "        <path d=\"M19 3H5c-1.1 0-2 .9-2 2v14c0 1.1.9 2 2 2h14c1.1 0 2-.9 2-2V5c0-1.1-.9-2-2-2zM9 17H7v-7h2v7zm4 0h-2V7h2v10zm4 0h-2v-4h2v4z\"/>\n",
              "    </g>\n",
              "</svg>\n",
              "  </button>\n",
              "\n",
              "<style>\n",
              "  .colab-df-quickchart {\n",
              "      --bg-color: #E8F0FE;\n",
              "      --fill-color: #1967D2;\n",
              "      --hover-bg-color: #E2EBFA;\n",
              "      --hover-fill-color: #174EA6;\n",
              "      --disabled-fill-color: #AAA;\n",
              "      --disabled-bg-color: #DDD;\n",
              "  }\n",
              "\n",
              "  [theme=dark] .colab-df-quickchart {\n",
              "      --bg-color: #3B4455;\n",
              "      --fill-color: #D2E3FC;\n",
              "      --hover-bg-color: #434B5C;\n",
              "      --hover-fill-color: #FFFFFF;\n",
              "      --disabled-bg-color: #3B4455;\n",
              "      --disabled-fill-color: #666;\n",
              "  }\n",
              "\n",
              "  .colab-df-quickchart {\n",
              "    background-color: var(--bg-color);\n",
              "    border: none;\n",
              "    border-radius: 50%;\n",
              "    cursor: pointer;\n",
              "    display: none;\n",
              "    fill: var(--fill-color);\n",
              "    height: 32px;\n",
              "    padding: 0;\n",
              "    width: 32px;\n",
              "  }\n",
              "\n",
              "  .colab-df-quickchart:hover {\n",
              "    background-color: var(--hover-bg-color);\n",
              "    box-shadow: 0 1px 2px rgba(60, 64, 67, 0.3), 0 1px 3px 1px rgba(60, 64, 67, 0.15);\n",
              "    fill: var(--button-hover-fill-color);\n",
              "  }\n",
              "\n",
              "  .colab-df-quickchart-complete:disabled,\n",
              "  .colab-df-quickchart-complete:disabled:hover {\n",
              "    background-color: var(--disabled-bg-color);\n",
              "    fill: var(--disabled-fill-color);\n",
              "    box-shadow: none;\n",
              "  }\n",
              "\n",
              "  .colab-df-spinner {\n",
              "    border: 2px solid var(--fill-color);\n",
              "    border-color: transparent;\n",
              "    border-bottom-color: var(--fill-color);\n",
              "    animation:\n",
              "      spin 1s steps(1) infinite;\n",
              "  }\n",
              "\n",
              "  @keyframes spin {\n",
              "    0% {\n",
              "      border-color: transparent;\n",
              "      border-bottom-color: var(--fill-color);\n",
              "      border-left-color: var(--fill-color);\n",
              "    }\n",
              "    20% {\n",
              "      border-color: transparent;\n",
              "      border-left-color: var(--fill-color);\n",
              "      border-top-color: var(--fill-color);\n",
              "    }\n",
              "    30% {\n",
              "      border-color: transparent;\n",
              "      border-left-color: var(--fill-color);\n",
              "      border-top-color: var(--fill-color);\n",
              "      border-right-color: var(--fill-color);\n",
              "    }\n",
              "    40% {\n",
              "      border-color: transparent;\n",
              "      border-right-color: var(--fill-color);\n",
              "      border-top-color: var(--fill-color);\n",
              "    }\n",
              "    60% {\n",
              "      border-color: transparent;\n",
              "      border-right-color: var(--fill-color);\n",
              "    }\n",
              "    80% {\n",
              "      border-color: transparent;\n",
              "      border-right-color: var(--fill-color);\n",
              "      border-bottom-color: var(--fill-color);\n",
              "    }\n",
              "    90% {\n",
              "      border-color: transparent;\n",
              "      border-bottom-color: var(--fill-color);\n",
              "    }\n",
              "  }\n",
              "</style>\n",
              "\n",
              "  <script>\n",
              "    async function quickchart(key) {\n",
              "      const quickchartButtonEl =\n",
              "        document.querySelector('#' + key + ' button');\n",
              "      quickchartButtonEl.disabled = true;  // To prevent multiple clicks.\n",
              "      quickchartButtonEl.classList.add('colab-df-spinner');\n",
              "      try {\n",
              "        const charts = await google.colab.kernel.invokeFunction(\n",
              "            'suggestCharts', [key], {});\n",
              "      } catch (error) {\n",
              "        console.error('Error during call to suggestCharts:', error);\n",
              "      }\n",
              "      quickchartButtonEl.classList.remove('colab-df-spinner');\n",
              "      quickchartButtonEl.classList.add('colab-df-quickchart-complete');\n",
              "    }\n",
              "    (() => {\n",
              "      let quickchartButtonEl =\n",
              "        document.querySelector('#df-4fa4f400-b8b9-46bb-868d-e39ddff84774 button');\n",
              "      quickchartButtonEl.style.display =\n",
              "        google.colab.kernel.accessAllowed ? 'block' : 'none';\n",
              "    })();\n",
              "  </script>\n",
              "</div>\n",
              "\n",
              "    </div>\n",
              "  </div>\n"
            ],
            "application/vnd.google.colaboratory.intrinsic+json": {
              "type": "dataframe",
              "variable_name": "data",
              "summary": "{\n  \"name\": \"data\",\n  \"rows\": 13200,\n  \"fields\": [\n    {\n      \"column\": \"Temperature\",\n      \"properties\": {\n        \"dtype\": \"number\",\n        \"std\": 17.386326582360788,\n        \"min\": -25.0,\n        \"max\": 109.0,\n        \"num_unique_values\": 126,\n        \"samples\": [\n          80.0,\n          4.0,\n          88.0\n        ],\n        \"semantic_type\": \"\",\n        \"description\": \"\"\n      }\n    },\n    {\n      \"column\": \"Humidity\",\n      \"properties\": {\n        \"dtype\": \"number\",\n        \"std\": 20,\n        \"min\": 20,\n        \"max\": 109,\n        \"num_unique_values\": 90,\n        \"samples\": [\n          84,\n          72,\n          38\n        ],\n        \"semantic_type\": \"\",\n        \"description\": \"\"\n      }\n    },\n    {\n      \"column\": \"Wind Speed\",\n      \"properties\": {\n        \"dtype\": \"number\",\n        \"std\": 6.908704141531295,\n        \"min\": 0.0,\n        \"max\": 48.5,\n        \"num_unique_values\": 97,\n        \"samples\": [\n          26.5,\n          14.5,\n          47.5\n        ],\n        \"semantic_type\": \"\",\n        \"description\": \"\"\n      }\n    },\n    {\n      \"column\": \"Precipitation (%)\",\n      \"properties\": {\n        \"dtype\": \"number\",\n        \"std\": 31.946540769981375,\n        \"min\": 0.0,\n        \"max\": 109.0,\n        \"num_unique_values\": 110,\n        \"samples\": [\n          51.0,\n          8.0,\n          26.0\n        ],\n        \"semantic_type\": \"\",\n        \"description\": \"\"\n      }\n    },\n    {\n      \"column\": \"Cloud Cover\",\n      \"properties\": {\n        \"dtype\": \"category\",\n        \"num_unique_values\": 4,\n        \"samples\": [\n          \"clear\",\n          \"cloudy\",\n          \"partly cloudy\"\n        ],\n        \"semantic_type\": \"\",\n        \"description\": \"\"\n      }\n    },\n    {\n      \"column\": \"Atmospheric Pressure\",\n      \"properties\": {\n        \"dtype\": \"number\",\n        \"std\": 37.199588697503295,\n        \"min\": 800.12,\n        \"max\": 1199.21,\n        \"num_unique_values\": 5456,\n        \"samples\": [\n          939.13,\n          985.08,\n          987.72\n        ],\n        \"semantic_type\": \"\",\n        \"description\": \"\"\n      }\n    },\n    {\n      \"column\": \"UV Index\",\n      \"properties\": {\n        \"dtype\": \"number\",\n        \"std\": 3,\n        \"min\": 0,\n        \"max\": 14,\n        \"num_unique_values\": 15,\n        \"samples\": [\n          4,\n          10,\n          2\n        ],\n        \"semantic_type\": \"\",\n        \"description\": \"\"\n      }\n    },\n    {\n      \"column\": \"Season\",\n      \"properties\": {\n        \"dtype\": \"category\",\n        \"num_unique_values\": 4,\n        \"samples\": [\n          \"Spring\",\n          \"Autumn\",\n          \"Winter\"\n        ],\n        \"semantic_type\": \"\",\n        \"description\": \"\"\n      }\n    },\n    {\n      \"column\": \"Visibility (km)\",\n      \"properties\": {\n        \"dtype\": \"number\",\n        \"std\": 3.371498910353949,\n        \"min\": 0.0,\n        \"max\": 20.0,\n        \"num_unique_values\": 41,\n        \"samples\": [\n          13.0,\n          9.5,\n          1.5\n        ],\n        \"semantic_type\": \"\",\n        \"description\": \"\"\n      }\n    },\n    {\n      \"column\": \"Location\",\n      \"properties\": {\n        \"dtype\": \"category\",\n        \"num_unique_values\": 3,\n        \"samples\": [\n          \"inland\",\n          \"mountain\",\n          \"coastal\"\n        ],\n        \"semantic_type\": \"\",\n        \"description\": \"\"\n      }\n    },\n    {\n      \"column\": \"Weather Type\",\n      \"properties\": {\n        \"dtype\": \"category\",\n        \"num_unique_values\": 4,\n        \"samples\": [\n          \"Cloudy\",\n          \"Snowy\",\n          \"Rainy\"\n        ],\n        \"semantic_type\": \"\",\n        \"description\": \"\"\n      }\n    }\n  ]\n}"
            }
          },
          "metadata": {},
          "execution_count": 11
        }
      ]
    },
    {
      "cell_type": "code",
      "source": [
        "# 데이터의 각 컬럼에 대한 정보 확인\n",
        "print(\"데이터의 각 컬럼에 대한 정보 확인\")\n",
        "data.info()"
      ],
      "metadata": {
        "colab": {
          "base_uri": "https://localhost:8080/"
        },
        "id": "vm1S4-1W-sE1",
        "outputId": "b90f2e94-7055-4df1-ff8c-7ba838fb0e39"
      },
      "execution_count": 12,
      "outputs": [
        {
          "output_type": "stream",
          "name": "stdout",
          "text": [
            "데이터의 각 컬럼에 대한 정보 확인\n",
            "<class 'pandas.core.frame.DataFrame'>\n",
            "RangeIndex: 13200 entries, 0 to 13199\n",
            "Data columns (total 11 columns):\n",
            " #   Column                Non-Null Count  Dtype  \n",
            "---  ------                --------------  -----  \n",
            " 0   Temperature           13200 non-null  float64\n",
            " 1   Humidity              13200 non-null  int64  \n",
            " 2   Wind Speed            13200 non-null  float64\n",
            " 3   Precipitation (%)     13200 non-null  float64\n",
            " 4   Cloud Cover           13200 non-null  object \n",
            " 5   Atmospheric Pressure  13200 non-null  float64\n",
            " 6   UV Index              13200 non-null  int64  \n",
            " 7   Season                13200 non-null  object \n",
            " 8   Visibility (km)       13200 non-null  float64\n",
            " 9   Location              13200 non-null  object \n",
            " 10  Weather Type          13200 non-null  object \n",
            "dtypes: float64(5), int64(2), object(4)\n",
            "memory usage: 1.1+ MB\n"
          ]
        }
      ]
    },
    {
      "cell_type": "code",
      "source": [
        "# 데이터 타입 확인\n",
        "print(\"#\"*10)\n",
        "print(\"데이터 타입 확인\")\n",
        "print(\"Data Types:\\n\", data.dtypes)\n",
        "\n",
        "# 범주형 및 수치형 데이터 분리하여 분석\n",
        "categorical_cols = data.select_dtypes(include=['object', 'category']).columns\n",
        "numerical_cols = data.select_dtypes(include=['int64', 'float64']).columns\n",
        "\n",
        "print(\"#\"*10)\n",
        "print(\"범주형 데이터 분리하여 분석\")\n",
        "print(\"\\nCategorical Columns:\\n\", categorical_cols)\n",
        "\n",
        "print(\"#\"*10)\n",
        "print(\"수치형 데이터 분리하여 분석\")\n",
        "print(\"\\nNumerical Columns:\\n\", numerical_cols)"
      ],
      "metadata": {
        "colab": {
          "base_uri": "https://localhost:8080/"
        },
        "id": "-Hk3n1zkA2Uh",
        "outputId": "a711cc8b-aa3e-459f-f103-1dfc79e823b7"
      },
      "execution_count": 13,
      "outputs": [
        {
          "output_type": "stream",
          "name": "stdout",
          "text": [
            "##########\n",
            "데이터 타입 확인\n",
            "Data Types:\n",
            " Temperature             float64\n",
            "Humidity                  int64\n",
            "Wind Speed              float64\n",
            "Precipitation (%)       float64\n",
            "Cloud Cover              object\n",
            "Atmospheric Pressure    float64\n",
            "UV Index                  int64\n",
            "Season                   object\n",
            "Visibility (km)         float64\n",
            "Location                 object\n",
            "Weather Type             object\n",
            "dtype: object\n",
            "##########\n",
            "범주형 데이터 분리하여 분석\n",
            "\n",
            "Categorical Columns:\n",
            " Index(['Cloud Cover', 'Season', 'Location', 'Weather Type'], dtype='object')\n",
            "##########\n",
            "수치형 데이터 분리하여 분석\n",
            "\n",
            "Numerical Columns:\n",
            " Index(['Temperature', 'Humidity', 'Wind Speed', 'Precipitation (%)',\n",
            "       'Atmospheric Pressure', 'UV Index', 'Visibility (km)'],\n",
            "      dtype='object')\n"
          ]
        }
      ]
    },
    {
      "cell_type": "code",
      "source": [
        "# 결측치 파악\n",
        "missing_values = data.isnull().sum()\n",
        "print(\"Missing Values:\")\n",
        "print(missing_values)\n",
        "\n",
        "# 중복 데이터 파악\n",
        "duplicate_rows = data[data.duplicated()]\n",
        "print(\"\\nDuplicate Rows:\")\n",
        "print(duplicate_rows)"
      ],
      "metadata": {
        "colab": {
          "base_uri": "https://localhost:8080/"
        },
        "id": "ggBlGDyjBD1l",
        "outputId": "18b30f2c-6086-4730-c223-9e9682976b9f"
      },
      "execution_count": 14,
      "outputs": [
        {
          "output_type": "stream",
          "name": "stdout",
          "text": [
            "Missing Values:\n",
            "Temperature             0\n",
            "Humidity                0\n",
            "Wind Speed              0\n",
            "Precipitation (%)       0\n",
            "Cloud Cover             0\n",
            "Atmospheric Pressure    0\n",
            "UV Index                0\n",
            "Season                  0\n",
            "Visibility (km)         0\n",
            "Location                0\n",
            "Weather Type            0\n",
            "dtype: int64\n",
            "\n",
            "Duplicate Rows:\n",
            "Empty DataFrame\n",
            "Columns: [Temperature, Humidity, Wind Speed, Precipitation (%), Cloud Cover, Atmospheric Pressure, UV Index, Season, Visibility (km), Location, Weather Type]\n",
            "Index: []\n"
          ]
        }
      ]
    },
    {
      "cell_type": "code",
      "source": [
        "# 각 범주형 변수의 유니크한 값과 빈도수\n",
        "for col in categorical_cols:\n",
        "    print(f\"\\nUnique values in {col}:\\n\", data[col].value_counts())"
      ],
      "metadata": {
        "colab": {
          "base_uri": "https://localhost:8080/"
        },
        "id": "LKcBkH4XBF1q",
        "outputId": "c6425b02-1dfa-4105-dc56-d4824063c3a0"
      },
      "execution_count": 15,
      "outputs": [
        {
          "output_type": "stream",
          "name": "stdout",
          "text": [
            "\n",
            "Unique values in Cloud Cover:\n",
            " Cloud Cover\n",
            "overcast         6090\n",
            "partly cloudy    4560\n",
            "clear            2139\n",
            "cloudy            411\n",
            "Name: count, dtype: int64\n",
            "\n",
            "Unique values in Season:\n",
            " Season\n",
            "Winter    5610\n",
            "Spring    2598\n",
            "Autumn    2500\n",
            "Summer    2492\n",
            "Name: count, dtype: int64\n",
            "\n",
            "Unique values in Location:\n",
            " Location\n",
            "inland      4816\n",
            "mountain    4813\n",
            "coastal     3571\n",
            "Name: count, dtype: int64\n",
            "\n",
            "Unique values in Weather Type:\n",
            " Weather Type\n",
            "Rainy     3300\n",
            "Cloudy    3300\n",
            "Sunny     3300\n",
            "Snowy     3300\n",
            "Name: count, dtype: int64\n"
          ]
        }
      ]
    },
    {
      "cell_type": "code",
      "source": [
        "# 수치형 데이터의 기초 통계\n",
        "print(\"\\nDescriptive Statistics for Numerical Data:\\n\", data[numerical_cols].describe())"
      ],
      "metadata": {
        "colab": {
          "base_uri": "https://localhost:8080/"
        },
        "id": "F9pS6IGGBIU-",
        "outputId": "8a403674-3299-4c79-ef83-278eae382559"
      },
      "execution_count": 16,
      "outputs": [
        {
          "output_type": "stream",
          "name": "stdout",
          "text": [
            "\n",
            "Descriptive Statistics for Numerical Data:\n",
            "         Temperature      Humidity    Wind Speed  Precipitation (%)  \\\n",
            "count  13200.000000  13200.000000  13200.000000       13200.000000   \n",
            "mean      19.127576     68.710833      9.832197          53.644394   \n",
            "std       17.386327     20.194248      6.908704          31.946541   \n",
            "min      -25.000000     20.000000      0.000000           0.000000   \n",
            "25%        4.000000     57.000000      5.000000          19.000000   \n",
            "50%       21.000000     70.000000      9.000000          58.000000   \n",
            "75%       31.000000     84.000000     13.500000          82.000000   \n",
            "max      109.000000    109.000000     48.500000         109.000000   \n",
            "\n",
            "       Atmospheric Pressure      UV Index  Visibility (km)  \n",
            "count          13200.000000  13200.000000     13200.000000  \n",
            "mean            1005.827896      4.005758         5.462917  \n",
            "std               37.199589      3.856600         3.371499  \n",
            "min              800.120000      0.000000         0.000000  \n",
            "25%              994.800000      1.000000         3.000000  \n",
            "50%             1007.650000      3.000000         5.000000  \n",
            "75%             1016.772500      7.000000         7.500000  \n",
            "max             1199.210000     14.000000        20.000000  \n"
          ]
        }
      ]
    },
    {
      "cell_type": "code",
      "source": [
        "# 왜도와 첨도 확인\n",
        "\"\"\"\n",
        "왜도(Skewness): 0에 가까울수록 정규분포에 근사, 양의 값은 오른쪽 꼬리가 긴 분포(왼쪽으로 치우친), 음의 값은 왼쪽 꼬리가 긴 분포(오른쪽으로 치우친)\n",
        "첨도(Kurtosis): 0에 가까울수록 정규분포에 근사, 높으면 분포가 뾰족하고, 낮으면 평평\n",
        "\"\"\"\n",
        "\n",
        "print(\"\\nSkewness of the data:\\n\", data[numerical_cols].skew())\n",
        "print(\"\\nKurtosis of the data:\\n\", data[numerical_cols].kurt())"
      ],
      "metadata": {
        "colab": {
          "base_uri": "https://localhost:8080/"
        },
        "id": "HnN2WwElJJUm",
        "outputId": "7307eead-50d0-4263-f9be-e9b56d220c20"
      },
      "execution_count": 17,
      "outputs": [
        {
          "output_type": "stream",
          "name": "stdout",
          "text": [
            "\n",
            "Skewness of the data:\n",
            " Temperature             0.221741\n",
            "Humidity               -0.401614\n",
            "Wind Speed              1.360263\n",
            "Precipitation (%)      -0.152457\n",
            "Atmospheric Pressure   -0.293899\n",
            "UV Index                0.900010\n",
            "Visibility (km)         1.233275\n",
            "dtype: float64\n",
            "\n",
            "Kurtosis of the data:\n",
            " Temperature              0.586051\n",
            "Humidity                -0.338366\n",
            "Wind Speed               3.255194\n",
            "Precipitation (%)       -1.354039\n",
            "Atmospheric Pressure    12.778071\n",
            "UV Index                -0.362166\n",
            "Visibility (km)          2.517275\n",
            "dtype: float64\n"
          ]
        }
      ]
    },
    {
      "cell_type": "code",
      "source": [
        "\"\"\"\n",
        "상관계수 값이 1에 가까울수록 완벽한 양의 상관관계, -1에 가까울수록 완벽한 음의 상관관계를 나타냅니다.\n",
        "\"\"\"\n",
        "\n",
        "# 피어슨 상관 계수\n",
        "print(\"Pearson Correlation:\\n\", data[numerical_cols].corr(method='pearson'))\n",
        "\n",
        "# 스피어만 상관 계수\n",
        "print(\"\\nSpearman Correlation:\\n\", data[numerical_cols].corr(method='spearman'))"
      ],
      "metadata": {
        "colab": {
          "base_uri": "https://localhost:8080/"
        },
        "id": "2jFzY_6WJLN1",
        "outputId": "3bf9f379-56f5-42cb-c42d-7d0d432779ed"
      },
      "execution_count": 18,
      "outputs": [
        {
          "output_type": "stream",
          "name": "stdout",
          "text": [
            "Pearson Correlation:\n",
            "                       Temperature  Humidity  Wind Speed  Precipitation (%)  \\\n",
            "Temperature              1.000000 -0.207969   -0.070022          -0.287206   \n",
            "Humidity                -0.207969  1.000000    0.406079           0.638631   \n",
            "Wind Speed              -0.070022  0.406079    1.000000           0.443770   \n",
            "Precipitation (%)       -0.287206  0.638631    0.443770           1.000000   \n",
            "Atmospheric Pressure     0.209188 -0.120653   -0.077757          -0.177444   \n",
            "UV Index                 0.374773 -0.342694   -0.068147          -0.291601   \n",
            "Visibility (km)          0.250751 -0.479969   -0.311828          -0.457444   \n",
            "\n",
            "                      Atmospheric Pressure  UV Index  Visibility (km)  \n",
            "Temperature                       0.209188  0.374773         0.250751  \n",
            "Humidity                         -0.120653 -0.342694        -0.479969  \n",
            "Wind Speed                       -0.077757 -0.068147        -0.311828  \n",
            "Precipitation (%)                -0.177444 -0.291601        -0.457444  \n",
            "Atmospheric Pressure              1.000000  0.154128         0.120182  \n",
            "UV Index                          0.154128  1.000000         0.362922  \n",
            "Visibility (km)                   0.120182  0.362922         1.000000  \n",
            "\n",
            "Spearman Correlation:\n",
            "                       Temperature  Humidity  Wind Speed  Precipitation (%)  \\\n",
            "Temperature              1.000000 -0.271164   -0.127869          -0.330614   \n",
            "Humidity                -0.271164  1.000000    0.407446           0.643299   \n",
            "Wind Speed              -0.127869  0.407446    1.000000           0.431469   \n",
            "Precipitation (%)       -0.330614  0.643299    0.431469           1.000000   \n",
            "Atmospheric Pressure     0.542602 -0.377543   -0.228444          -0.448192   \n",
            "UV Index                 0.459532 -0.372222   -0.180138          -0.350087   \n",
            "Visibility (km)          0.363947 -0.536933   -0.361720          -0.562146   \n",
            "\n",
            "                      Atmospheric Pressure  UV Index  Visibility (km)  \n",
            "Temperature                       0.542602  0.459532         0.363947  \n",
            "Humidity                         -0.377543 -0.372222        -0.536933  \n",
            "Wind Speed                       -0.228444 -0.180138        -0.361720  \n",
            "Precipitation (%)                -0.448192 -0.350087        -0.562146  \n",
            "Atmospheric Pressure              1.000000  0.472643         0.449171  \n",
            "UV Index                          0.472643  1.000000         0.441077  \n",
            "Visibility (km)                   0.449171  0.441077         1.000000  \n"
          ]
        }
      ]
    },
    {
      "cell_type": "markdown",
      "source": [
        "## 2. 일상생활에서 겪을 만한 사건을 시나리오로 설정하고 데이터 분석"
      ],
      "metadata": {
        "id": "JhsN46u3TyD2"
      }
    },
    {
      "cell_type": "markdown",
      "source": [
        "1. 질문하기\n",
        "2. 작은 단위에서 큰 단위로\n",
        "3. 여러가지 분석과 결과 분석하기\n",
        "4. 현장을 이해하고 방향 만들기\n",
        "5. 스토리 만들기\n",
        "6. 피드백 준비하기"
      ],
      "metadata": {
        "id": "vWuBzx1hT3BI"
      }
    },
    {
      "cell_type": "markdown",
      "source": [
        "### 예시. 여러분은 우리나라의 항공사의 최고 경영책임자 입니다.\n",
        "- 근데 최근에 항공사의 수익성이 점점 약화되어 구조조정을 할 위기입니다.\n",
        "- 경제가 안좋은건가요? 아니면 장사가 안되는건가요? 근데, 운항하는 비행기마다 늘 만석입니다.\n",
        "- 근데 요즘 고객분들의 항공사에 데한 만족도가 떨어진다는 조사 결과가 나왔습니다. 아마 이 문제일듯 합니다.\n",
        "- 여러분은 항공사의 만족도가 떨어지는 문제를 해결하기 위하여 데이터를 분석해야 합니다."
      ],
      "metadata": {
        "id": "9Fs8G3CxUW-M"
      }
    },
    {
      "cell_type": "markdown",
      "source": [
        "#### 1. 질문하기\n",
        "- 데이터를 향해 질문해보기\n",
        "  - 여행 목적에 따른 만족도 차이\n",
        "- 원하는 바를 향해 질문해보기\n",
        "  - 가장 고객 만족도를 떨어트리는 원인\n",
        "- 지식, 생각을 채워나갈 수 있는 질문 해보기\n",
        "  - 기내 엔터테이먼트가 만족도에 끼치는 영향"
      ],
      "metadata": {
        "id": "atrMJReNU1cQ"
      }
    },
    {
      "cell_type": "code",
      "source": [
        "! kaggle datasets download -d teejmahal20/airline-passenger-satisfaction"
      ],
      "metadata": {
        "colab": {
          "base_uri": "https://localhost:8080/"
        },
        "id": "uN74MGKubFzm",
        "outputId": "a27d88aa-e8d0-488a-859d-605b25325753"
      },
      "execution_count": 21,
      "outputs": [
        {
          "output_type": "stream",
          "name": "stdout",
          "text": [
            "Dataset URL: https://www.kaggle.com/datasets/teejmahal20/airline-passenger-satisfaction\n",
            "License(s): other\n",
            "Downloading airline-passenger-satisfaction.zip to /content\n",
            "  0% 0.00/2.71M [00:00<?, ?B/s]\n",
            "100% 2.71M/2.71M [00:00<00:00, 162MB/s]\n"
          ]
        }
      ]
    },
    {
      "cell_type": "code",
      "source": [
        "! unzip /content/airline-passenger-satisfaction.zip"
      ],
      "metadata": {
        "colab": {
          "base_uri": "https://localhost:8080/"
        },
        "id": "lWSxK058bTWc",
        "outputId": "16d084c2-a0c4-4252-e6b6-98bc55115d5e"
      },
      "execution_count": 22,
      "outputs": [
        {
          "output_type": "stream",
          "name": "stdout",
          "text": [
            "Archive:  /content/airline-passenger-satisfaction.zip\n",
            "  inflating: test.csv                \n",
            "  inflating: train.csv               \n"
          ]
        }
      ]
    },
    {
      "cell_type": "code",
      "source": [
        "import pandas as pd\n",
        "\n",
        "data = pd.read_csv('/content/train.csv')\n",
        "\n",
        "# 데이터의 처음 몇 줄을 출력하여 구조 확인\n",
        "print(\"데이터의 처음 몇 줄을 출력하여 구조 확인\")\n",
        "data.head()"
      ],
      "metadata": {
        "colab": {
          "base_uri": "https://localhost:8080/",
          "height": 412
        },
        "id": "SyQWu4qZbXvY",
        "outputId": "eea4f6f2-b07f-4e68-be8e-800e73344216"
      },
      "execution_count": 23,
      "outputs": [
        {
          "output_type": "stream",
          "name": "stdout",
          "text": [
            "데이터의 처음 몇 줄을 출력하여 구조 확인\n"
          ]
        },
        {
          "output_type": "execute_result",
          "data": {
            "text/plain": [
              "   Unnamed: 0      id  Gender      Customer Type  Age   Type of Travel  \\\n",
              "0           0   70172    Male     Loyal Customer   13  Personal Travel   \n",
              "1           1    5047    Male  disloyal Customer   25  Business travel   \n",
              "2           2  110028  Female     Loyal Customer   26  Business travel   \n",
              "3           3   24026  Female     Loyal Customer   25  Business travel   \n",
              "4           4  119299    Male     Loyal Customer   61  Business travel   \n",
              "\n",
              "      Class  Flight Distance  Inflight wifi service  \\\n",
              "0  Eco Plus              460                      3   \n",
              "1  Business              235                      3   \n",
              "2  Business             1142                      2   \n",
              "3  Business              562                      2   \n",
              "4  Business              214                      3   \n",
              "\n",
              "   Departure/Arrival time convenient  ...  Inflight entertainment  \\\n",
              "0                                  4  ...                       5   \n",
              "1                                  2  ...                       1   \n",
              "2                                  2  ...                       5   \n",
              "3                                  5  ...                       2   \n",
              "4                                  3  ...                       3   \n",
              "\n",
              "   On-board service  Leg room service  Baggage handling  Checkin service  \\\n",
              "0                 4                 3                 4                4   \n",
              "1                 1                 5                 3                1   \n",
              "2                 4                 3                 4                4   \n",
              "3                 2                 5                 3                1   \n",
              "4                 3                 4                 4                3   \n",
              "\n",
              "   Inflight service  Cleanliness  Departure Delay in Minutes  \\\n",
              "0                 5            5                          25   \n",
              "1                 4            1                           1   \n",
              "2                 4            5                           0   \n",
              "3                 4            2                          11   \n",
              "4                 3            3                           0   \n",
              "\n",
              "   Arrival Delay in Minutes             satisfaction  \n",
              "0                      18.0  neutral or dissatisfied  \n",
              "1                       6.0  neutral or dissatisfied  \n",
              "2                       0.0                satisfied  \n",
              "3                       9.0  neutral or dissatisfied  \n",
              "4                       0.0                satisfied  \n",
              "\n",
              "[5 rows x 25 columns]"
            ],
            "text/html": [
              "\n",
              "  <div id=\"df-c55d15c6-b57b-4097-a5d3-024f75deb30e\" class=\"colab-df-container\">\n",
              "    <div>\n",
              "<style scoped>\n",
              "    .dataframe tbody tr th:only-of-type {\n",
              "        vertical-align: middle;\n",
              "    }\n",
              "\n",
              "    .dataframe tbody tr th {\n",
              "        vertical-align: top;\n",
              "    }\n",
              "\n",
              "    .dataframe thead th {\n",
              "        text-align: right;\n",
              "    }\n",
              "</style>\n",
              "<table border=\"1\" class=\"dataframe\">\n",
              "  <thead>\n",
              "    <tr style=\"text-align: right;\">\n",
              "      <th></th>\n",
              "      <th>Unnamed: 0</th>\n",
              "      <th>id</th>\n",
              "      <th>Gender</th>\n",
              "      <th>Customer Type</th>\n",
              "      <th>Age</th>\n",
              "      <th>Type of Travel</th>\n",
              "      <th>Class</th>\n",
              "      <th>Flight Distance</th>\n",
              "      <th>Inflight wifi service</th>\n",
              "      <th>Departure/Arrival time convenient</th>\n",
              "      <th>...</th>\n",
              "      <th>Inflight entertainment</th>\n",
              "      <th>On-board service</th>\n",
              "      <th>Leg room service</th>\n",
              "      <th>Baggage handling</th>\n",
              "      <th>Checkin service</th>\n",
              "      <th>Inflight service</th>\n",
              "      <th>Cleanliness</th>\n",
              "      <th>Departure Delay in Minutes</th>\n",
              "      <th>Arrival Delay in Minutes</th>\n",
              "      <th>satisfaction</th>\n",
              "    </tr>\n",
              "  </thead>\n",
              "  <tbody>\n",
              "    <tr>\n",
              "      <th>0</th>\n",
              "      <td>0</td>\n",
              "      <td>70172</td>\n",
              "      <td>Male</td>\n",
              "      <td>Loyal Customer</td>\n",
              "      <td>13</td>\n",
              "      <td>Personal Travel</td>\n",
              "      <td>Eco Plus</td>\n",
              "      <td>460</td>\n",
              "      <td>3</td>\n",
              "      <td>4</td>\n",
              "      <td>...</td>\n",
              "      <td>5</td>\n",
              "      <td>4</td>\n",
              "      <td>3</td>\n",
              "      <td>4</td>\n",
              "      <td>4</td>\n",
              "      <td>5</td>\n",
              "      <td>5</td>\n",
              "      <td>25</td>\n",
              "      <td>18.0</td>\n",
              "      <td>neutral or dissatisfied</td>\n",
              "    </tr>\n",
              "    <tr>\n",
              "      <th>1</th>\n",
              "      <td>1</td>\n",
              "      <td>5047</td>\n",
              "      <td>Male</td>\n",
              "      <td>disloyal Customer</td>\n",
              "      <td>25</td>\n",
              "      <td>Business travel</td>\n",
              "      <td>Business</td>\n",
              "      <td>235</td>\n",
              "      <td>3</td>\n",
              "      <td>2</td>\n",
              "      <td>...</td>\n",
              "      <td>1</td>\n",
              "      <td>1</td>\n",
              "      <td>5</td>\n",
              "      <td>3</td>\n",
              "      <td>1</td>\n",
              "      <td>4</td>\n",
              "      <td>1</td>\n",
              "      <td>1</td>\n",
              "      <td>6.0</td>\n",
              "      <td>neutral or dissatisfied</td>\n",
              "    </tr>\n",
              "    <tr>\n",
              "      <th>2</th>\n",
              "      <td>2</td>\n",
              "      <td>110028</td>\n",
              "      <td>Female</td>\n",
              "      <td>Loyal Customer</td>\n",
              "      <td>26</td>\n",
              "      <td>Business travel</td>\n",
              "      <td>Business</td>\n",
              "      <td>1142</td>\n",
              "      <td>2</td>\n",
              "      <td>2</td>\n",
              "      <td>...</td>\n",
              "      <td>5</td>\n",
              "      <td>4</td>\n",
              "      <td>3</td>\n",
              "      <td>4</td>\n",
              "      <td>4</td>\n",
              "      <td>4</td>\n",
              "      <td>5</td>\n",
              "      <td>0</td>\n",
              "      <td>0.0</td>\n",
              "      <td>satisfied</td>\n",
              "    </tr>\n",
              "    <tr>\n",
              "      <th>3</th>\n",
              "      <td>3</td>\n",
              "      <td>24026</td>\n",
              "      <td>Female</td>\n",
              "      <td>Loyal Customer</td>\n",
              "      <td>25</td>\n",
              "      <td>Business travel</td>\n",
              "      <td>Business</td>\n",
              "      <td>562</td>\n",
              "      <td>2</td>\n",
              "      <td>5</td>\n",
              "      <td>...</td>\n",
              "      <td>2</td>\n",
              "      <td>2</td>\n",
              "      <td>5</td>\n",
              "      <td>3</td>\n",
              "      <td>1</td>\n",
              "      <td>4</td>\n",
              "      <td>2</td>\n",
              "      <td>11</td>\n",
              "      <td>9.0</td>\n",
              "      <td>neutral or dissatisfied</td>\n",
              "    </tr>\n",
              "    <tr>\n",
              "      <th>4</th>\n",
              "      <td>4</td>\n",
              "      <td>119299</td>\n",
              "      <td>Male</td>\n",
              "      <td>Loyal Customer</td>\n",
              "      <td>61</td>\n",
              "      <td>Business travel</td>\n",
              "      <td>Business</td>\n",
              "      <td>214</td>\n",
              "      <td>3</td>\n",
              "      <td>3</td>\n",
              "      <td>...</td>\n",
              "      <td>3</td>\n",
              "      <td>3</td>\n",
              "      <td>4</td>\n",
              "      <td>4</td>\n",
              "      <td>3</td>\n",
              "      <td>3</td>\n",
              "      <td>3</td>\n",
              "      <td>0</td>\n",
              "      <td>0.0</td>\n",
              "      <td>satisfied</td>\n",
              "    </tr>\n",
              "  </tbody>\n",
              "</table>\n",
              "<p>5 rows × 25 columns</p>\n",
              "</div>\n",
              "    <div class=\"colab-df-buttons\">\n",
              "\n",
              "  <div class=\"colab-df-container\">\n",
              "    <button class=\"colab-df-convert\" onclick=\"convertToInteractive('df-c55d15c6-b57b-4097-a5d3-024f75deb30e')\"\n",
              "            title=\"Convert this dataframe to an interactive table.\"\n",
              "            style=\"display:none;\">\n",
              "\n",
              "  <svg xmlns=\"http://www.w3.org/2000/svg\" height=\"24px\" viewBox=\"0 -960 960 960\">\n",
              "    <path d=\"M120-120v-720h720v720H120Zm60-500h600v-160H180v160Zm220 220h160v-160H400v160Zm0 220h160v-160H400v160ZM180-400h160v-160H180v160Zm440 0h160v-160H620v160ZM180-180h160v-160H180v160Zm440 0h160v-160H620v160Z\"/>\n",
              "  </svg>\n",
              "    </button>\n",
              "\n",
              "  <style>\n",
              "    .colab-df-container {\n",
              "      display:flex;\n",
              "      gap: 12px;\n",
              "    }\n",
              "\n",
              "    .colab-df-convert {\n",
              "      background-color: #E8F0FE;\n",
              "      border: none;\n",
              "      border-radius: 50%;\n",
              "      cursor: pointer;\n",
              "      display: none;\n",
              "      fill: #1967D2;\n",
              "      height: 32px;\n",
              "      padding: 0 0 0 0;\n",
              "      width: 32px;\n",
              "    }\n",
              "\n",
              "    .colab-df-convert:hover {\n",
              "      background-color: #E2EBFA;\n",
              "      box-shadow: 0px 1px 2px rgba(60, 64, 67, 0.3), 0px 1px 3px 1px rgba(60, 64, 67, 0.15);\n",
              "      fill: #174EA6;\n",
              "    }\n",
              "\n",
              "    .colab-df-buttons div {\n",
              "      margin-bottom: 4px;\n",
              "    }\n",
              "\n",
              "    [theme=dark] .colab-df-convert {\n",
              "      background-color: #3B4455;\n",
              "      fill: #D2E3FC;\n",
              "    }\n",
              "\n",
              "    [theme=dark] .colab-df-convert:hover {\n",
              "      background-color: #434B5C;\n",
              "      box-shadow: 0px 1px 3px 1px rgba(0, 0, 0, 0.15);\n",
              "      filter: drop-shadow(0px 1px 2px rgba(0, 0, 0, 0.3));\n",
              "      fill: #FFFFFF;\n",
              "    }\n",
              "  </style>\n",
              "\n",
              "    <script>\n",
              "      const buttonEl =\n",
              "        document.querySelector('#df-c55d15c6-b57b-4097-a5d3-024f75deb30e button.colab-df-convert');\n",
              "      buttonEl.style.display =\n",
              "        google.colab.kernel.accessAllowed ? 'block' : 'none';\n",
              "\n",
              "      async function convertToInteractive(key) {\n",
              "        const element = document.querySelector('#df-c55d15c6-b57b-4097-a5d3-024f75deb30e');\n",
              "        const dataTable =\n",
              "          await google.colab.kernel.invokeFunction('convertToInteractive',\n",
              "                                                    [key], {});\n",
              "        if (!dataTable) return;\n",
              "\n",
              "        const docLinkHtml = 'Like what you see? Visit the ' +\n",
              "          '<a target=\"_blank\" href=https://colab.research.google.com/notebooks/data_table.ipynb>data table notebook</a>'\n",
              "          + ' to learn more about interactive tables.';\n",
              "        element.innerHTML = '';\n",
              "        dataTable['output_type'] = 'display_data';\n",
              "        await google.colab.output.renderOutput(dataTable, element);\n",
              "        const docLink = document.createElement('div');\n",
              "        docLink.innerHTML = docLinkHtml;\n",
              "        element.appendChild(docLink);\n",
              "      }\n",
              "    </script>\n",
              "  </div>\n",
              "\n",
              "\n",
              "<div id=\"df-c42a2393-2ac7-4a87-b1a8-a3cc5443b93e\">\n",
              "  <button class=\"colab-df-quickchart\" onclick=\"quickchart('df-c42a2393-2ac7-4a87-b1a8-a3cc5443b93e')\"\n",
              "            title=\"Suggest charts\"\n",
              "            style=\"display:none;\">\n",
              "\n",
              "<svg xmlns=\"http://www.w3.org/2000/svg\" height=\"24px\"viewBox=\"0 0 24 24\"\n",
              "     width=\"24px\">\n",
              "    <g>\n",
              "        <path d=\"M19 3H5c-1.1 0-2 .9-2 2v14c0 1.1.9 2 2 2h14c1.1 0 2-.9 2-2V5c0-1.1-.9-2-2-2zM9 17H7v-7h2v7zm4 0h-2V7h2v10zm4 0h-2v-4h2v4z\"/>\n",
              "    </g>\n",
              "</svg>\n",
              "  </button>\n",
              "\n",
              "<style>\n",
              "  .colab-df-quickchart {\n",
              "      --bg-color: #E8F0FE;\n",
              "      --fill-color: #1967D2;\n",
              "      --hover-bg-color: #E2EBFA;\n",
              "      --hover-fill-color: #174EA6;\n",
              "      --disabled-fill-color: #AAA;\n",
              "      --disabled-bg-color: #DDD;\n",
              "  }\n",
              "\n",
              "  [theme=dark] .colab-df-quickchart {\n",
              "      --bg-color: #3B4455;\n",
              "      --fill-color: #D2E3FC;\n",
              "      --hover-bg-color: #434B5C;\n",
              "      --hover-fill-color: #FFFFFF;\n",
              "      --disabled-bg-color: #3B4455;\n",
              "      --disabled-fill-color: #666;\n",
              "  }\n",
              "\n",
              "  .colab-df-quickchart {\n",
              "    background-color: var(--bg-color);\n",
              "    border: none;\n",
              "    border-radius: 50%;\n",
              "    cursor: pointer;\n",
              "    display: none;\n",
              "    fill: var(--fill-color);\n",
              "    height: 32px;\n",
              "    padding: 0;\n",
              "    width: 32px;\n",
              "  }\n",
              "\n",
              "  .colab-df-quickchart:hover {\n",
              "    background-color: var(--hover-bg-color);\n",
              "    box-shadow: 0 1px 2px rgba(60, 64, 67, 0.3), 0 1px 3px 1px rgba(60, 64, 67, 0.15);\n",
              "    fill: var(--button-hover-fill-color);\n",
              "  }\n",
              "\n",
              "  .colab-df-quickchart-complete:disabled,\n",
              "  .colab-df-quickchart-complete:disabled:hover {\n",
              "    background-color: var(--disabled-bg-color);\n",
              "    fill: var(--disabled-fill-color);\n",
              "    box-shadow: none;\n",
              "  }\n",
              "\n",
              "  .colab-df-spinner {\n",
              "    border: 2px solid var(--fill-color);\n",
              "    border-color: transparent;\n",
              "    border-bottom-color: var(--fill-color);\n",
              "    animation:\n",
              "      spin 1s steps(1) infinite;\n",
              "  }\n",
              "\n",
              "  @keyframes spin {\n",
              "    0% {\n",
              "      border-color: transparent;\n",
              "      border-bottom-color: var(--fill-color);\n",
              "      border-left-color: var(--fill-color);\n",
              "    }\n",
              "    20% {\n",
              "      border-color: transparent;\n",
              "      border-left-color: var(--fill-color);\n",
              "      border-top-color: var(--fill-color);\n",
              "    }\n",
              "    30% {\n",
              "      border-color: transparent;\n",
              "      border-left-color: var(--fill-color);\n",
              "      border-top-color: var(--fill-color);\n",
              "      border-right-color: var(--fill-color);\n",
              "    }\n",
              "    40% {\n",
              "      border-color: transparent;\n",
              "      border-right-color: var(--fill-color);\n",
              "      border-top-color: var(--fill-color);\n",
              "    }\n",
              "    60% {\n",
              "      border-color: transparent;\n",
              "      border-right-color: var(--fill-color);\n",
              "    }\n",
              "    80% {\n",
              "      border-color: transparent;\n",
              "      border-right-color: var(--fill-color);\n",
              "      border-bottom-color: var(--fill-color);\n",
              "    }\n",
              "    90% {\n",
              "      border-color: transparent;\n",
              "      border-bottom-color: var(--fill-color);\n",
              "    }\n",
              "  }\n",
              "</style>\n",
              "\n",
              "  <script>\n",
              "    async function quickchart(key) {\n",
              "      const quickchartButtonEl =\n",
              "        document.querySelector('#' + key + ' button');\n",
              "      quickchartButtonEl.disabled = true;  // To prevent multiple clicks.\n",
              "      quickchartButtonEl.classList.add('colab-df-spinner');\n",
              "      try {\n",
              "        const charts = await google.colab.kernel.invokeFunction(\n",
              "            'suggestCharts', [key], {});\n",
              "      } catch (error) {\n",
              "        console.error('Error during call to suggestCharts:', error);\n",
              "      }\n",
              "      quickchartButtonEl.classList.remove('colab-df-spinner');\n",
              "      quickchartButtonEl.classList.add('colab-df-quickchart-complete');\n",
              "    }\n",
              "    (() => {\n",
              "      let quickchartButtonEl =\n",
              "        document.querySelector('#df-c42a2393-2ac7-4a87-b1a8-a3cc5443b93e button');\n",
              "      quickchartButtonEl.style.display =\n",
              "        google.colab.kernel.accessAllowed ? 'block' : 'none';\n",
              "    })();\n",
              "  </script>\n",
              "</div>\n",
              "\n",
              "    </div>\n",
              "  </div>\n"
            ],
            "application/vnd.google.colaboratory.intrinsic+json": {
              "type": "dataframe",
              "variable_name": "data"
            }
          },
          "metadata": {},
          "execution_count": 23
        }
      ]
    },
    {
      "cell_type": "code",
      "source": [
        "# 데이터의 각 컬럼에 대한 정보 확인\n",
        "print(\"데이터의 각 컬럼에 대한 정보 확인\")\n",
        "data.info()"
      ],
      "metadata": {
        "colab": {
          "base_uri": "https://localhost:8080/"
        },
        "id": "22Bzz6dWbglk",
        "outputId": "a9792f4a-f437-4171-fcc6-0da989b74825"
      },
      "execution_count": 24,
      "outputs": [
        {
          "output_type": "stream",
          "name": "stdout",
          "text": [
            "데이터의 각 컬럼에 대한 정보 확인\n",
            "<class 'pandas.core.frame.DataFrame'>\n",
            "RangeIndex: 103904 entries, 0 to 103903\n",
            "Data columns (total 25 columns):\n",
            " #   Column                             Non-Null Count   Dtype  \n",
            "---  ------                             --------------   -----  \n",
            " 0   Unnamed: 0                         103904 non-null  int64  \n",
            " 1   id                                 103904 non-null  int64  \n",
            " 2   Gender                             103904 non-null  object \n",
            " 3   Customer Type                      103904 non-null  object \n",
            " 4   Age                                103904 non-null  int64  \n",
            " 5   Type of Travel                     103904 non-null  object \n",
            " 6   Class                              103904 non-null  object \n",
            " 7   Flight Distance                    103904 non-null  int64  \n",
            " 8   Inflight wifi service              103904 non-null  int64  \n",
            " 9   Departure/Arrival time convenient  103904 non-null  int64  \n",
            " 10  Ease of Online booking             103904 non-null  int64  \n",
            " 11  Gate location                      103904 non-null  int64  \n",
            " 12  Food and drink                     103904 non-null  int64  \n",
            " 13  Online boarding                    103904 non-null  int64  \n",
            " 14  Seat comfort                       103904 non-null  int64  \n",
            " 15  Inflight entertainment             103904 non-null  int64  \n",
            " 16  On-board service                   103904 non-null  int64  \n",
            " 17  Leg room service                   103904 non-null  int64  \n",
            " 18  Baggage handling                   103904 non-null  int64  \n",
            " 19  Checkin service                    103904 non-null  int64  \n",
            " 20  Inflight service                   103904 non-null  int64  \n",
            " 21  Cleanliness                        103904 non-null  int64  \n",
            " 22  Departure Delay in Minutes         103904 non-null  int64  \n",
            " 23  Arrival Delay in Minutes           103594 non-null  float64\n",
            " 24  satisfaction                       103904 non-null  object \n",
            "dtypes: float64(1), int64(19), object(5)\n",
            "memory usage: 19.8+ MB\n"
          ]
        }
      ]
    },
    {
      "cell_type": "markdown",
      "source": [
        "다음은 데이터셋의 변수(열)에 대한 설명입니다:\n",
        "\n",
        "1. **Unnamed: 0**: 인덱스 열로, 의미 없음.\n",
        "2. **id**: 각 항목의 고유 식별자.\n",
        "3. **Gender**: 고객의 성별 (남성/여성).\n",
        "4. **Customer Type**: 고객 유형 (충성 고객 또는 비충성 고객).\n",
        "5. **Age**: 고객의 나이.\n",
        "6. **Type of Travel**: 여행 목적 (개인 여행 또는 비즈니스 여행).\n",
        "7. **Class**: 여행 클래스 (이코노미, 이코노미 플러스, 비즈니스).\n",
        "8. **Flight Distance**: 비행 거리(마일).\n",
        "9. **Inflight wifi service**: 기내 와이파이 서비스 평가 (0에서 5).\n",
        "10. **Departure/Arrival time convenient**: 출발 및 도착 시간의 편리성 평가 (0에서 5).\n",
        "11. **Ease of Online booking**: 온라인 예약의 편리성 평가 (0에서 5).\n",
        "12. **Gate location**: 게이트 위치의 편리성 평가 (0에서 5).\n",
        "13. **Food and drink**: 기내 음식 및 음료 서비스 평가 (0에서 5).\n",
        "14. **Online boarding**: 온라인 탑승 수속 평가 (0에서 5).\n",
        "15. **Seat comfort**: 좌석 편안함 평가 (0에서 5).\n",
        "16. **Inflight entertainment**: 기내 엔터테인먼트 평가 (0에서 5).\n",
        "17. **On-board service**: 기내 서비스 평가 (0에서 5).\n",
        "18. **Leg room service**: 다리 공간 서비스 평가 (0에서 5).\n",
        "19. **Baggage handling**: 수하물 처리 평가 (0에서 5).\n",
        "20. **Checkin service**: 체크인 서비스 평가 (0에서 5).\n",
        "21. **Inflight service**: 기내 서비스 평가 (0에서 5).\n",
        "22. **Cleanliness**: 청결도 평가 (0에서 5).\n",
        "23. **Departure Delay in Minutes**: 출발 지연 시간(분).\n",
        "24. **Arrival Delay in Minutes**: 도착 지연 시간(분).\n",
        "25. **satisfaction**: 고객의 전체 만족도 수준 (만족 또는 중립 또는 불만족)."
      ],
      "metadata": {
        "id": "wzZsyDTDcVpk"
      }
    },
    {
      "cell_type": "markdown",
      "source": [
        "2. 작은 단위에서 큰 단위로\n",
        "- 질문을 작은 단위로 쪼개서 데이터로 바꾸기\n",
        "- 작은 단위의 분석부터 시작하기"
      ],
      "metadata": {
        "id": "8FEByS4qWVHm"
      }
    },
    {
      "cell_type": "markdown",
      "source": [
        "#### 질문: 여행 목적과 클래스에 따른 만족도 차이는 어떻게 되나요?\n",
        "- 데이터 확인\n",
        "- 여행 목적(Type of Travel), 클래스(Class), 그리고 만족도(satisfaction) 변수를 확인합니다.\n",
        "여행 목적별 만족도 분포\n",
        "\n",
        "- 여행 목적별로 만족도(satisfaction)가 \"satisfied\"인 비율과 \"neutral or dissatisfied\"인 비율을 계산합니다.\n",
        "클래스별 만족도 분포\n",
        "\n",
        "- 클래스별로 만족도(satisfaction)가 \"satisfied\"인 비율과 \"neutral or dissatisfied\"인 비율을 계산합니다.\n",
        "여행 목적과 클래스에 따른 만족도 비교\n",
        "\n",
        "- 여행 목적 및 클래스에 따라 만족도 차이를 시각화합니다."
      ],
      "metadata": {
        "id": "va-wjvaKi4JH"
      }
    },
    {
      "cell_type": "code",
      "source": [
        "# 데이터 확인: 여행 목적(Type of Travel), 클래스(Class), 그리고 만족도(satisfaction) 변수를 확인합니다.\n",
        "travel_class_satisfaction = data[['Type of Travel', 'Class', 'satisfaction']]\n",
        "\n",
        "# 여행 목적별 만족도 분포 계산\n",
        "travel_satisfaction_distribution = travel_class_satisfaction.groupby(['Type of Travel', 'satisfaction']).size().unstack().fillna(0)\n",
        "travel_satisfaction_distribution_percentage = travel_satisfaction_distribution.div(travel_satisfaction_distribution.sum(axis=1), axis=0) * 100\n",
        "\n",
        "# 클래스별 만족도 분포 계산\n",
        "class_satisfaction_distribution = travel_class_satisfaction.groupby(['Class', 'satisfaction']).size().unstack().fillna(0)\n",
        "class_satisfaction_distribution_percentage = class_satisfaction_distribution.div(class_satisfaction_distribution.sum(axis=1), axis=0) * 100"
      ],
      "metadata": {
        "id": "ppF0S4Oni9Lx"
      },
      "execution_count": 27,
      "outputs": []
    },
    {
      "cell_type": "code",
      "source": [
        "# 시각화\n",
        "import matplotlib.pyplot as plt\n",
        "\n",
        "fig, axes = plt.subplots(nrows=1, ncols=2, figsize=(14, 6))\n",
        "\n",
        "# 여행 목적별 만족도 분포\n",
        "travel_satisfaction_distribution_percentage.plot(kind='bar', stacked=True, ax=axes[0])\n",
        "axes[0].set_title('Satisfaction Distribution by Type of Travel')\n",
        "axes[0].set_ylabel('Percentage')\n",
        "axes[0].set_xlabel('Type of Travel')\n",
        "\n",
        "# 클래스별 만족도 분포\n",
        "class_satisfaction_distribution_percentage.plot(kind='bar', stacked=True, ax=axes[1])\n",
        "axes[1].set_title('Satisfaction Distribution by Class')\n",
        "axes[1].set_ylabel('Percentage')\n",
        "axes[1].set_xlabel('Class')\n",
        "\n",
        "plt.tight_layout()\n",
        "plt.show()"
      ],
      "metadata": {
        "colab": {
          "base_uri": "https://localhost:8080/",
          "height": 322
        },
        "id": "hIGPKhA1kNBK",
        "outputId": "2d9944c1-5ae7-4432-d6ac-16ef3701d23c"
      },
      "execution_count": 28,
      "outputs": [
        {
          "output_type": "display_data",
          "data": {
            "text/plain": [
              "<Figure size 1400x600 with 2 Axes>"
            ],
            "image/png": "[encoded data removed]"
          },
          "metadata": {}
        }
      ]
    },
    {
      "cell_type": "markdown",
      "source": [
        "#### 클래스와 여행 목적에 따른 만족도 분석 결과\n",
        "- 개인 여행(Personal Travel)\n",
        "\n",
        "- 이코노미 클래스(Eco): \"neutral or dissatisfied\" 비율이 높고, \"satisfied\" 비율이 낮습니다.\n",
        "- 이코노미 플러스 클래스(Eco Plus): \"satisfied\" 비율이 중간 정도입니다.\n",
        "- 비즈니스 클래스(Business): \"satisfied\" 비율이 가장 높습니다.\n",
        "\n",
        "- 비즈니스 여행(Business Travel)\n",
        "\n",
        "- 이코노미 클래스(Eco): \"neutral or dissatisfied\" 비율이 높고, \"satisfied\" 비율이 낮습니다.\n",
        "- 이코노미 플러스 클래스(Eco Plus): \"satisfied\" 비율이 중간 정도입니다.\n",
        "비즈니스 클래스(Business): \"satisfied\" 비율이 가장 높습니다.\n",
        "\n",
        "#### 종합 분석 결과\n",
        "- 성별에 따른 만족도\n",
        "\n",
        "- 남성 고객이 여성 고객보다 약간 더 높은 만족도를 보입니다."
      ],
      "metadata": {
        "id": "HwLqIge7luHN"
      }
    },
    {
      "cell_type": "code",
      "source": [
        "# 성별별 만족도 분포 계산\n",
        "gender_satisfaction_distribution = data[['Gender', 'satisfaction']].groupby(['Gender', 'satisfaction']).size().unstack().fillna(0)\n",
        "gender_satisfaction_distribution_percentage = gender_satisfaction_distribution.div(gender_satisfaction_distribution.sum(axis=1), axis=0) * 100\n",
        "\n",
        "# 시각화\n",
        "gender_satisfaction_distribution_percentage.plot(kind='bar', stacked=True, title='Satisfaction Distribution by Gender')\n",
        "plt.ylabel('Percentage')\n",
        "plt.xlabel('Gender')\n",
        "plt.show()"
      ],
      "metadata": {
        "colab": {
          "base_uri": "https://localhost:8080/",
          "height": 508
        },
        "id": "zmDGn8J7mBwF",
        "outputId": "e09570b8-f814-4156-e3a2-1c5f65933787"
      },
      "execution_count": 30,
      "outputs": [
        {
          "output_type": "display_data",
          "data": {
            "text/plain": [
              "<Figure size 640x480 with 1 Axes>"
            ],
            "image/png": "[encoded data removed]"
          },
          "metadata": {}
        }
      ]
    },
    {
      "cell_type": "markdown",
      "source": [
        "\n",
        "#### 연령대에 따른 만족도\n",
        "- 19-30세와 31-40세 연령대가 가장 높은 만족도를 보입니다.\n",
        "- 0-18세와 71-80세 연령대는 상대적으로 낮은 만족도를 보입니다.\n"
      ],
      "metadata": {
        "id": "lLAC_3u_mz_C"
      }
    },
    {
      "cell_type": "code",
      "source": [
        "# 연령대를 구간으로 나누기\n",
        "data['Age Group'] = pd.cut(data['Age'], bins=[0, 18, 30, 40, 50, 60, 70, 80], labels=['0-18', '19-30', '31-40', '41-50', '51-60', '61-70', '71-80'])\n",
        "\n",
        "# 연령대별 만족도 분포 계산\n",
        "age_satisfaction_distribution = data[['Age Group', 'satisfaction']].groupby(['Age Group', 'satisfaction']).size().unstack().fillna(0)\n",
        "age_satisfaction_distribution_percentage = age_satisfaction_distribution.div(age_satisfaction_distribution.sum(axis=1), axis=0) * 100\n",
        "\n",
        "# 시각화\n",
        "age_satisfaction_distribution_percentage.plot(kind='bar', stacked=True, title='Satisfaction Distribution by Age Group')\n",
        "plt.ylabel('Percentage')\n",
        "plt.xlabel('Age Group')\n",
        "plt.show()"
      ],
      "metadata": {
        "colab": {
          "base_uri": "https://localhost:8080/",
          "height": 498
        },
        "id": "W8HzrrmHm1Jn",
        "outputId": "d463632a-83f1-46e0-85ea-30d6424a3df5"
      },
      "execution_count": 31,
      "outputs": [
        {
          "output_type": "display_data",
          "data": {
            "text/plain": [
              "<Figure size 640x480 with 1 Axes>"
            ],
            "image/png": "[encoded data removed]"
          },
          "metadata": {}
        }
      ]
    },
    {
      "cell_type": "markdown",
      "source": [
        "#### 출발 지연 시간과 만족도\n",
        "- 출발 지연 시간이 길수록 고객의 만족도가 낮아집니다.\n"
      ],
      "metadata": {
        "id": "NS7M8MgQm1Uq"
      }
    },
    {
      "cell_type": "code",
      "source": [
        "import seaborn as sns\n",
        "\n",
        "# 출발 지연 시간과 만족도 관계 시각화\n",
        "plt.figure(figsize=(10, 6))\n",
        "sns.boxplot(x='satisfaction', y='Departure Delay in Minutes', data=data)\n",
        "plt.title('Departure Delay in Minutes by Satisfaction')\n",
        "plt.ylabel('Departure Delay in Minutes')\n",
        "plt.xlabel('Satisfaction')\n",
        "plt.show()"
      ],
      "metadata": {
        "colab": {
          "base_uri": "https://localhost:8080/",
          "height": 474
        },
        "id": "IauCpEw1m2t6",
        "outputId": "1340426e-c002-4a6f-f310-77ec41add345"
      },
      "execution_count": 33,
      "outputs": [
        {
          "output_type": "display_data",
          "data": {
            "text/plain": [
              "<Figure size 1000x600 with 1 Axes>"
            ],
            "image/png": "[encoded data removed]"
          },
          "metadata": {}
        }
      ]
    },
    {
      "cell_type": "markdown",
      "source": [
        "#### 클래스와 여행 목적에 따른 만족도\n",
        "- 비즈니스 클래스가 가장 높은 만족도를 보이며,\n",
        "- 이코노미 클래스가 가장 낮은 만족도를 보입니다.\n",
        "- 비즈니스 여행객이 개인 여행객보다 전반적으로 더 높은 만족도를 보입니다."
      ],
      "metadata": {
        "id": "CCYp5aTrm3D5"
      }
    },
    {
      "cell_type": "code",
      "source": [
        "# 클래스와 여행 목적별 만족도 분포 계산\n",
        "class_travel_satisfaction_distribution = data.groupby(['Class', 'Type of Travel', 'satisfaction']).size().unstack().fillna(0)\n",
        "class_travel_satisfaction_distribution_percentage = class_travel_satisfaction_distribution.div(class_travel_satisfaction_distribution.sum(axis=1), axis=0) * 100\n",
        "\n",
        "# 시각화\n",
        "fig, axes = plt.subplots(nrows=1, ncols=3, figsize=(18, 6))\n",
        "\n",
        "for i, travel_type in enumerate(class_travel_satisfaction_distribution_percentage.index.levels[1]):\n",
        "    class_travel_satisfaction_distribution_percentage.xs(travel_type, level='Type of Travel').plot(kind='bar', stacked=True, ax=axes[i])\n",
        "    axes[i].set_title(f'Satisfaction Distribution by Class for {travel_type}')\n",
        "    axes[i].set_ylabel('Percentage')\n",
        "    axes[i].set_xlabel('Class')\n",
        "\n",
        "plt.tight_layout()\n",
        "plt.show()\n"
      ],
      "metadata": {
        "colab": {
          "base_uri": "https://localhost:8080/",
          "height": 253
        },
        "id": "vG983kdTm38u",
        "outputId": "872e6527-9e42-4873-f7d9-e1db479528bb"
      },
      "execution_count": 34,
      "outputs": [
        {
          "output_type": "display_data",
          "data": {
            "text/plain": [
              "<Figure size 1800x600 with 3 Axes>"
            ],
            "image/png": "[encoded data removed]"
          },
          "metadata": {}
        }
      ]
    },
    {
      "cell_type": "markdown",
      "source": [
        "#### 4. 현장을 이해하고 방향 만들기, 분석 결과를 통해 방향, 전략 수정하기"
      ],
      "metadata": {
        "id": "Iwdc6h7YnW4L"
      }
    },
    {
      "cell_type": "markdown",
      "source": [
        "### 전략 및 방향 수정\n",
        "\n",
        "1. **이코노미 클래스 서비스 개선**\n",
        "   - **목표**: 이코노미 클래스 승객의 만족도를 높이기 위한 서비스 개선.\n",
        "   - **전략**:\n",
        "     - 좌석 편안함 개선: 추가적인 다리 공간 제공 및 좌석 쿠션 개선.\n",
        "     - 기내 음식 및 음료 서비스 향상: 다양한 메뉴 제공 및 품질 개선.\n",
        "     - 기내 엔터테인먼트 옵션 확대: 더 많은 영화, TV 쇼, 음악 등을 제공.\n",
        "   - **현장 적용**:\n",
        "     - 승무원 교육을 통해 서비스 개선 방법을 공유하고 적용.\n",
        "     - 고객 피드백을 정기적으로 수집하여 개선점을 파악.\n",
        "\n",
        "2. **출발 지연 시간 최소화**\n",
        "   - **목표**: 출발 지연 시간을 최소화하여 고객 만족도 향상.\n",
        "   - **전략**:\n",
        "     - 정시 출발을 위한 프로세스 개선: 체크인 절차 간소화, 수하물 처리 속도 향상.\n",
        "     - 실시간 정보 제공: 출발 지연 시 고객에게 신속하게 정보를 제공하여 불만 최소화.\n",
        "   - **현장 적용**:\n",
        "     - 공항 내 프로세스 효율화 작업 시행.\n",
        "     - 모바일 앱을 통해 실시간 출발 및 도착 정보 제공.\n",
        "\n",
        "3. **특정 연령대 및 성별 맞춤형 서비스 제공**\n",
        "   - **목표**: 고객 특성에 맞춘 맞춤형 서비스 제공으로 만족도 향상.\n",
        "   - **전략**:\n",
        "     - 젊은 고객층(19-30세, 31-40세) 대상: 기내 엔터테인먼트 강화, 최신 기술 도입 (Wi-Fi, 충전 포트 등).\n",
        "     - 고령층(0-18세, 71-80세) 대상: 편안한 좌석, 건강식 메뉴 제공, 승무원 도움 서비스 강화.\n",
        "   - **현장 적용**:\n",
        "     - 고객 데이터를 분석하여 맞춤형 서비스 제공.\n",
        "     - 승무원에게 연령대 및 성별별 서비스 방법 교육.\n",
        "\n",
        "4. **비즈니스 여행객 대상 추가 혜택 제공**\n",
        "   - **목표**: 비즈니스 여행객의 만족도 유지 및 향상.\n",
        "   - **전략**:\n",
        "     - 비즈니스 클래스 승객 대상 추가 혜택 제공: 빠른 체크인, 라운지 이용권, 기내 편의시설 강화.\n",
        "     - 비즈니스 여행객 대상 맞춤형 패키지 제공: 출장 맞춤 패키지, 예약 변경 유연성 제공.\n",
        "   - **현장 적용**:\n",
        "     - 비즈니스 클래스 승객을 위한 전용 서비스 데스크 운영.\n",
        "     - 기업 고객과의 제휴 프로그램 강화.\n",
        "\n",
        "### 현장 적합성 파악\n",
        "\n",
        "1. **피드백 수집 및 반영**\n",
        "   - 전략 시행 후 정기적으로 고객 피드백을 수집하여 만족도 변화를 모니터링합니다.\n",
        "   - 피드백을 기반으로 지속적인 개선 작업을 진행합니다.\n",
        "\n",
        "2. **직원 교육 및 참여**\n",
        "   - 승무원 및 공항 직원들에게 새로운 전략과 방향에 대한 교육을 실시합니다.\n",
        "   - 현장에서 전략이 효과적으로 적용될 수 있도록 직원들의 의견을 수렴하고 참여를 유도합니다.\n",
        "\n",
        "3. **데이터 분석 및 모니터링**\n",
        "   - 지속적으로 데이터를 분석하여 전략이 고객 만족도에 미치는 영향을 평가합니다.\n",
        "   - 데이터에 기반한 의사결정을 통해 전략을 지속적으로 조정합니다."
      ],
      "metadata": {
        "id": "q6EIJ7tqnZgH"
      }
    },
    {
      "cell_type": "markdown",
      "source": [
        "### 5. 스토리 만들기\n",
        "\n",
        "#### 1. 경영진 대상 스토리\n",
        "**배경**\n",
        "최근 고객 만족도 조사에서 특정 항목에 대한 불만이 증가하고 있습니다. 이를 해결하기 위해 성별, 연령대, 여행 목적 및 클래스별로 분석한 결과를 바탕으로 전략을 제안합니다.\n",
        "\n",
        "**분석 결과 요약**\n",
        "- 남성 고객이 여성 고객보다 약간 높은 만족도를 보입니다.\n",
        "- 19-30세와 31-40세 연령대가 가장 높은 만족도를 보이는 반면, 0-18세와 71-80세 연령대는 상대적으로 낮은 만족도를 보입니다.\n",
        "- 출발 지연 시간이 길수록 고객의 만족도가 낮아집니다.\n",
        "- 비즈니스 클래스가 가장 높은 만족도를 보이며, 이코노미 클래스가 가장 낮습니다.\n",
        "- 비즈니스 여행객이 개인 여행객보다 더 높은 만족도를 보입니다.\n",
        "\n",
        "**제안된 전략**\n",
        "1. **이코노미 클래스 서비스 개선**\n",
        "   - 좌석 편안함, 기내 음식 및 음료 서비스, 기내 엔터테인먼트 옵션 개선.\n",
        "\n",
        "2. **출발 지연 시간 최소화**\n",
        "   - 체크인 절차 간소화, 수하물 처리 속도 향상, 실시간 정보 제공.\n",
        "\n",
        "3. **맞춤형 서비스 제공**\n",
        "   - 연령대별, 성별별 맞춤형 서비스 제공.\n",
        "\n",
        "4. **비즈니스 여행객 대상 추가 혜택 제공**\n",
        "   - 비즈니스 클래스 승객 대상 추가 혜택 및 맞춤형 패키지 제공.\n",
        "\n",
        "**기대 효과**\n",
        "- 고객 만족도 증가.\n",
        "- 충성 고객 비율 증가.\n",
        "- 항공사 이미지 개선 및 시장 경쟁력 강화.\n",
        "\n",
        "#### 2. 현장 직원 대상 스토리\n",
        "**배경**\n",
        "고객 만족도 향상을 위해 새로운 전략을 시행합니다. 여러분의 적극적인 참여와 협조가 필요합니다.\n",
        "\n",
        "**분석 결과 요약**\n",
        "- 출발 지연 시간이 길수록 고객 만족도가 낮습니다.\n",
        "- 이코노미 클래스 승객의 만족도가 낮습니다.\n",
        "- 특정 연령대와 성별에 따라 만족도 차이가 있습니다.\n",
        "\n",
        "**새로운 전략**\n",
        "1. **이코노미 클래스 서비스 개선**\n",
        "   - 좌석 편안함 개선: 더 많은 다리 공간과 편안한 좌석 제공.\n",
        "   - 기내 음식 및 음료 서비스 향상.\n",
        "   - 기내 엔터테인먼트 옵션 확대.\n",
        "\n",
        "2. **출발 지연 시간 최소화**\n",
        "   - 체크인 절차를 더 간소화하고, 수하물 처리를 신속하게 하여 출발 시간을 맞추도록 노력합니다.\n",
        "   - 실시간으로 고객에게 출발 지연 정보를 제공하여 불만을 최소화합니다.\n",
        "\n",
        "3. **맞춤형 서비스 제공**\n",
        "   - 젊은 고객층을 위해 최신 기술과 엔터테인먼트를 제공하고, 고령층을 위해 편안한 좌석과 건강식을 제공합니다.\n",
        "   - 성별에 따라 맞춤형 서비스를 제공합니다.\n",
        "\n",
        "4. **비즈니스 여행객 대상 추가 혜택 제공**\n",
        "   - 비즈니스 클래스 승객을 위한 추가 혜택을 제공합니다.\n",
        "\n",
        "**현장 적용 방법**\n",
        "- 각 서비스 개선 사항을 적극적으로 실천하고, 고객의 피드백을 즉시 반영합니다.\n",
        "- 정기적인 교육과 회의를 통해 개선 사항을 공유하고 논의합니다.\n",
        "\n",
        "**기대 효과**\n",
        "- 고객 만족도가 향상되면, 더 많은 충성 고객을 확보할 수 있습니다.\n",
        "- 고객의 긍정적인 피드백은 항공사의 이미지를 개선하는 데 큰 도움이 됩니다.\n",
        "\n",
        "### 6. 피드백 준비하기\n",
        "\n",
        "#### 1. 데이터 수집 전략\n",
        "1. **정기적인 고객 만족도 조사**\n",
        "   - 고객에게 정기적으로 설문조사를 실시하여 서비스 개선 사항에 대한 피드백을 받습니다.\n",
        "   - 설문조사 결과를 데이터베이스에 저장하여 분석합니다.\n",
        "\n",
        "2. **실시간 피드백 수집**\n",
        "   - 모바일 앱이나 웹사이트를 통해 고객이 실시간으로 피드백을 제공할 수 있도록 합니다.\n",
        "   - 비행 후 즉시 피드백을 요청하여 생생한 의견을 수집합니다.\n",
        "\n",
        "3. **사회적 미디어 모니터링**\n",
        "   - 소셜 미디어에서 언급된 고객의 의견을 모니터링하여 긍정적, 부정적 피드백을 분석합니다.\n",
        "\n",
        "4. **직원 피드백**\n",
        "   - 현장 직원의 의견을 수집하여 개선 사항을 파악합니다.\n",
        "   - 직원 회의를 통해 정기적으로 피드백을 공유하고 논의합니다.\n",
        "\n",
        "#### 2. 피드백 전략 수립 및 분석\n",
        "\n",
        "**피드백 수집 방법**\n",
        "- 설문조사: 이메일, 모바일 앱, 웹사이트를 통해 고객에게 정기적으로 설문조사를 보냅니다.\n",
        "- 실시간 피드백: 비행 후 고객에게 즉시 피드백을 요청합니다.\n",
        "- 소셜 미디어: 트위터, 페이스북, 인스타그램 등에서 고객의 의견을 수집하고 분석합니다.\n",
        "- 직원 피드백: 정기적인 회의와 설문조사를 통해 직원의 의견을 수집합니다.\n",
        "\n",
        "**피드백 분석 방법**\n",
        "- 데이터베이스에 저장된 피드백을 정기적으로 분석하여 주요 문제점을 파악합니다.\n",
        "- 피드백을 바탕으로 개선 사항을 도출하고, 이를 반영한 새로운 전략을 수립합니다.\n",
        "\n",
        "**현장 적용**\n",
        "- 분석 결과를 바탕으로 현장에서 즉시 적용 가능한 개선 사항을 도출합니다.\n",
        "- 정기적인 교육과 회의를 통해 직원들에게 피드백 결과를 공유하고, 이를 반영한 전략을 실행합니다.\n"
      ],
      "metadata": {
        "id": "DNmhPI7xnfSU"
      }
    }
  ]
}