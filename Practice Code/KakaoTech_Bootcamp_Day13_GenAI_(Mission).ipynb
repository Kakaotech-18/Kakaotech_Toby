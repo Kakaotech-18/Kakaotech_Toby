{
  "nbformat": 4,
  "nbformat_minor": 0,
  "metadata": {
    "colab": {
      "provenance": [],
      "gpuType": "T4"
    },
    "kernelspec": {
      "name": "python3",
      "display_name": "Python 3"
    },
    "language_info": {
      "name": "python"
    },
    "accelerator": "GPU"
  },
  "cells": [
    {
      "cell_type": "code",
      "execution_count": 1,
      "metadata": {
        "id": "q1RElBq4q99v"
      },
      "outputs": [],
      "source": [
        "import os\n",
        "import torch\n",
        "import torch.nn as nn\n",
        "import torch.optim as optim\n",
        "import torch.nn.functional as F\n",
        "from torchvision import datasets, transforms\n",
        "from torch.utils.data import DataLoader\n",
        "import matplotlib.pyplot as plt"
      ]
    },
    {
      "cell_type": "code",
      "source": [
        "# CUDA 디버깅 설정\n",
        "os.environ['CUDA_LAUNCH_BLOCKING'] = '1'"
      ],
      "metadata": {
        "id": "0SSIiCmqzGt7"
      },
      "execution_count": 2,
      "outputs": []
    },
    {
      "cell_type": "markdown",
      "source": [
        "#### MNIST 외의 다른 이미지 데이터셋으로 신경망 학습해보기 - CIFAR100"
      ],
      "metadata": {
        "id": "IgS1xSxxE2lX"
      }
    },
    {
      "cell_type": "markdown",
      "source": [
        "1. 기본 딥러닝 모델 확장\n",
        "- 신경망(SimpleNN)을 확장하여 더 깊고 복잡한 모델을 만들어보기"
      ],
      "metadata": {
        "id": "9Y-ZwtBHE096"
      }
    },
    {
      "cell_type": "code",
      "source": [
        "# 신경망 모델 정의\n",
        "class SimpleNN(nn.Module):\n",
        "    def __init__(self):\n",
        "        super(SimpleNN, self).__init__()\n",
        "        self.fc1 = nn.Linear(32 * 32 * 3, 128)  # 입력층: 28x28 이미지를 1차원 배열로 변환, 128개의 뉴런\n",
        "        self.fc2 = nn.Linear(128, 64)   # 첫 번째 히든 레이어: 128차원, 두 번째 히든 레이어: 64차원\n",
        "        self.fc3 = nn.Linear(64, 32)   # 첫 번째 히든 레이어: 128차원, 두 번째 히든 레이어: 64차원\n",
        "        self.fc4 = nn.Linear(32, 10)  # 출력층: 10개의 뉴런 (0~9 클래스)\n",
        "\n",
        "    def forward(self, x):\n",
        "        x = x.view(-1, 32 * 32 * 3)  # 이미지를 1차원 배열로 변환\n",
        "        x = F.relu(self.fc1(x))  # 은닉층: ReLU 활성화 함수 적용\n",
        "        x = F.relu(self.fc2(x))  # 은닉층: ReLU 활성화 함수 적용\n",
        "        x = F.relu(self.fc3(x))  # 은닉층: ReLU 활성화 함수 적용\n",
        "        x = self.fc4(x)  # 출력층\n",
        "        return F.log_softmax(x, dim=1)  # 소프트맥스 함수로 클래스 확률 반환"
      ],
      "metadata": {
        "id": "37x1kz9VEzMV"
      },
      "execution_count": 3,
      "outputs": []
    },
    {
      "cell_type": "code",
      "source": [
        "# 데이터셋과 데이터 로더 정의\n",
        "transform = transforms.Compose(\n",
        "    [transforms.ToTensor(),\n",
        "     transforms.Normalize((0.5, 0.5, 0.5), (0.5, 0.5, 0.5))])  # 데이터를 0.5의 평균과 0.5의 표준편차로 정규화"
      ],
      "metadata": {
        "id": "lxoUIFaczsc-"
      },
      "execution_count": 4,
      "outputs": []
    },
    {
      "cell_type": "code",
      "source": [
        "# 훈련 데이터셋과 테스트 데이터셋 다운로드 및 로드\n",
        "train_dataset = datasets.CIFAR10(root='./data', train=True, download=True, transform=transform)\n",
        "train_loader = DataLoader(train_dataset, batch_size=64, shuffle=True, num_workers=2)\n",
        "\n",
        "test_dataset = datasets.CIFAR10(root='./data', train=False, download=True, transform=transform)\n",
        "test_loader = DataLoader(test_dataset, batch_size=64, shuffle=False, num_workers=2)"
      ],
      "metadata": {
        "colab": {
          "base_uri": "https://localhost:8080/"
        },
        "id": "2NngEKljzxBI",
        "outputId": "cbd262f9-c9b4-4375-f2c2-8ceda0c36ffb"
      },
      "execution_count": 5,
      "outputs": [
        {
          "output_type": "stream",
          "name": "stdout",
          "text": [
            "Files already downloaded and verified\n",
            "Files already downloaded and verified\n"
          ]
        }
      ]
    },
    {
      "cell_type": "code",
      "source": [
        "train_dataset[0]"
      ],
      "metadata": {
        "colab": {
          "base_uri": "https://localhost:8080/"
        },
        "id": "_v-d7rs3z8p6",
        "outputId": "7980891d-857e-4ad6-aa79-2896a0895736"
      },
      "execution_count": 6,
      "outputs": [
        {
          "output_type": "execute_result",
          "data": {
            "text/plain": [
              "(tensor([[[-0.5373, -0.6627, -0.6078,  ...,  0.2392,  0.1922,  0.1608],\n",
              "          [-0.8745, -1.0000, -0.8588,  ..., -0.0353, -0.0667, -0.0431],\n",
              "          [-0.8039, -0.8745, -0.6157,  ..., -0.0745, -0.0588, -0.1451],\n",
              "          ...,\n",
              "          [ 0.6314,  0.5765,  0.5529,  ...,  0.2549, -0.5608, -0.5843],\n",
              "          [ 0.4118,  0.3569,  0.4588,  ...,  0.4431, -0.2392, -0.3490],\n",
              "          [ 0.3882,  0.3176,  0.4039,  ...,  0.6941,  0.1843, -0.0353]],\n",
              " \n",
              "         [[-0.5137, -0.6392, -0.6235,  ...,  0.0353, -0.0196, -0.0275],\n",
              "          [-0.8431, -1.0000, -0.9373,  ..., -0.3098, -0.3490, -0.3176],\n",
              "          [-0.8118, -0.9451, -0.7882,  ..., -0.3412, -0.3412, -0.4275],\n",
              "          ...,\n",
              "          [ 0.3333,  0.2000,  0.2627,  ...,  0.0431, -0.7569, -0.7333],\n",
              "          [ 0.0902, -0.0353,  0.1294,  ...,  0.1608, -0.5137, -0.5843],\n",
              "          [ 0.1294,  0.0118,  0.1137,  ...,  0.4431, -0.0745, -0.2784]],\n",
              " \n",
              "         [[-0.5059, -0.6471, -0.6627,  ..., -0.1529, -0.2000, -0.1922],\n",
              "          [-0.8431, -1.0000, -1.0000,  ..., -0.5686, -0.6078, -0.5529],\n",
              "          [-0.8353, -1.0000, -0.9373,  ..., -0.6078, -0.6078, -0.6706],\n",
              "          ...,\n",
              "          [-0.2471, -0.7333, -0.7961,  ..., -0.4510, -0.9451, -0.8431],\n",
              "          [-0.2471, -0.6706, -0.7647,  ..., -0.2627, -0.7333, -0.7333],\n",
              "          [-0.0902, -0.2627, -0.3176,  ...,  0.0980, -0.3412, -0.4353]]]),\n",
              " 6)"
            ]
          },
          "metadata": {},
          "execution_count": 6
        }
      ]
    },
    {
      "cell_type": "code",
      "source": [
        "# 모델 초기화\n",
        "device = torch.device(\"cuda\" if torch.cuda.is_available() else \"cpu\")\n",
        "model = SimpleNN().to(device)"
      ],
      "metadata": {
        "id": "ylRNmVIBEqEP"
      },
      "execution_count": 7,
      "outputs": []
    },
    {
      "cell_type": "code",
      "source": [
        "# 손실 함수와 옵티마이저 정의\n",
        "criterion = nn.CrossEntropyLoss()  # 교차 엔트로피 손실 함수\n",
        "optimizer = optim.SGD(model.parameters(), lr=0.01, momentum=0.9)  # SGD 옵티마이저"
      ],
      "metadata": {
        "id": "wI8TMpZevurr"
      },
      "execution_count": 8,
      "outputs": []
    },
    {
      "cell_type": "code",
      "source": [
        "print(model)"
      ],
      "metadata": {
        "colab": {
          "base_uri": "https://localhost:8080/"
        },
        "id": "47qlGrChvwSt",
        "outputId": "045805f2-ddd4-4c75-ffb4-a2215857a169"
      },
      "execution_count": 9,
      "outputs": [
        {
          "output_type": "stream",
          "name": "stdout",
          "text": [
            "SimpleNN(\n",
            "  (fc1): Linear(in_features=3072, out_features=128, bias=True)\n",
            "  (fc2): Linear(in_features=128, out_features=64, bias=True)\n",
            "  (fc3): Linear(in_features=64, out_features=32, bias=True)\n",
            "  (fc4): Linear(in_features=32, out_features=10, bias=True)\n",
            ")\n"
          ]
        }
      ]
    },
    {
      "cell_type": "code",
      "source": [
        "def train(model, device, train_loader, optimizer, epoch):\n",
        "    model.train()  # 모델을 학습 모드로 설정\n",
        "    train_loss = 0\n",
        "    correct = 0\n",
        "    total = 0\n",
        "    for batch_idx, (data, target) in enumerate(train_loader):\n",
        "        data, target = data.to(device), target.to(device)  # 데이터를 장치로 이동\n",
        "        optimizer.zero_grad()  # 이전 기울기 초기화\n",
        "        output = model(data)  # 모델 예측\n",
        "        loss = criterion(output, target)  # 손실 계산\n",
        "        loss.backward()  # 역전파를 통해 기울기 계산\n",
        "        optimizer.step()  # 가중치 업데이트\n",
        "\n",
        "        train_loss += loss.item()  # 배치 손실 합산\n",
        "\n",
        "        # 학습 정확도 계산\n",
        "        pred = output.argmax(dim=1, keepdim=True)\n",
        "        correct += pred.eq(target.view_as(pred)).sum().item()\n",
        "        total += target.size(0)\n",
        "\n",
        "        if batch_idx % 100 == 0:  # 100번째 배치마다 로그 출력\n",
        "            print(f'Train Epoch: {epoch} [{batch_idx * len(data)}/{len(train_loader.dataset)} '\n",
        "                  f'({100. * batch_idx / len(train_loader):.0f}%)]\\tLoss: {loss.item():.6f}')\n",
        "\n",
        "    train_loss /= len(train_loader)  # 평균 손실 계산\n",
        "    train_accuracy = 100. * correct / total\n",
        "    return train_loss, train_accuracy"
      ],
      "metadata": {
        "id": "__91Gf2QwpyK"
      },
      "execution_count": 15,
      "outputs": []
    },
    {
      "cell_type": "code",
      "source": [
        "# 모델 평가 함수 정의\n",
        "def test(model, device, test_loader):\n",
        "    model.eval()  # 모델을 평가 모드로 설정\n",
        "    test_loss = 0\n",
        "    correct = 0\n",
        "    with torch.no_grad():  # 평가 시에는 기울기를 계산하지 않음\n",
        "        for data, target in test_loader:\n",
        "            data, target = data.to(device), target.to(device)\n",
        "            output = model(data)\n",
        "            test_loss += criterion(output, target).item()  # 손실 합산\n",
        "            pred = output.argmax(dim=1, keepdim=True)  # 가장 높은 확률을 가진 클래스 예측\n",
        "            correct += pred.eq(target.view_as(pred)).sum().item()  # 맞춘 개수 합산\n",
        "\n",
        "    test_loss /= len(test_loader.dataset)\n",
        "    test_accuracy = 100. * correct / len(test_loader.dataset)\n",
        "    print(f'\\nTest set: Average loss: {test_loss:.4f}, Accuracy: {correct}/{len(test_loader.dataset)} '\n",
        "          f'({test_accuracy:.0f}%)\\n')\n",
        "    return test_loss, test_accuracy"
      ],
      "metadata": {
        "id": "9uGFDdn8w04K"
      },
      "execution_count": 16,
      "outputs": []
    },
    {
      "cell_type": "code",
      "source": [
        "epochs = 10\n",
        "train_losses, test_losses, train_accuracies, test_accuracies = [], [], [], []"
      ],
      "metadata": {
        "id": "9PWY3EzPw4Rb"
      },
      "execution_count": 24,
      "outputs": []
    },
    {
      "cell_type": "code",
      "source": [
        "print(device)"
      ],
      "metadata": {
        "colab": {
          "base_uri": "https://localhost:8080/"
        },
        "id": "E9o_atu0w-9e",
        "outputId": "191543e8-81fb-4b7f-ddd3-aaa054e848c3"
      },
      "execution_count": 18,
      "outputs": [
        {
          "output_type": "stream",
          "name": "stdout",
          "text": [
            "cuda\n"
          ]
        }
      ]
    },
    {
      "cell_type": "code",
      "source": [
        "# 모델 학습\n",
        "for epoch in range(1, epochs + 1):\n",
        "    train_loss, train_accuracy = train(model, device, train_loader, optimizer, epoch)\n",
        "    test_loss, test_accuracy = test(model, device, test_loader)\n",
        "    train_losses.append(train_loss)\n",
        "    test_losses.append(test_loss)\n",
        "    train_accuracies.append(train_accuracy)\n",
        "    test_accuracies.append(test_accuracy)"
      ],
      "metadata": {
        "colab": {
          "base_uri": "https://localhost:8080/"
        },
        "id": "II-FuvpgxBCB",
        "outputId": "bdab7e13-b5ed-4daf-a5cd-d72a2a248c39"
      },
      "execution_count": 27,
      "outputs": [
        {
          "output_type": "stream",
          "name": "stdout",
          "text": [
            "Train Epoch: 1 [0/50000 (0%)]\tLoss: 0.869901\n",
            "Train Epoch: 1 [6400/50000 (13%)]\tLoss: 1.058957\n",
            "Train Epoch: 1 [12800/50000 (26%)]\tLoss: 0.840430\n",
            "Train Epoch: 1 [19200/50000 (38%)]\tLoss: 1.111066\n",
            "Train Epoch: 1 [25600/50000 (51%)]\tLoss: 1.176010\n",
            "Train Epoch: 1 [32000/50000 (64%)]\tLoss: 1.024684\n",
            "Train Epoch: 1 [38400/50000 (77%)]\tLoss: 1.073124\n",
            "Train Epoch: 1 [44800/50000 (90%)]\tLoss: 1.021685\n",
            "\n",
            "Test set: Average loss: 0.0219, Accuracy: 5222/10000 (52%)\n",
            "\n",
            "Train Epoch: 2 [0/50000 (0%)]\tLoss: 1.173053\n",
            "Train Epoch: 2 [6400/50000 (13%)]\tLoss: 0.922772\n",
            "Train Epoch: 2 [12800/50000 (26%)]\tLoss: 1.061048\n",
            "Train Epoch: 2 [19200/50000 (38%)]\tLoss: 1.109659\n",
            "Train Epoch: 2 [25600/50000 (51%)]\tLoss: 1.178893\n",
            "Train Epoch: 2 [32000/50000 (64%)]\tLoss: 1.112521\n",
            "Train Epoch: 2 [38400/50000 (77%)]\tLoss: 0.793191\n",
            "Train Epoch: 2 [44800/50000 (90%)]\tLoss: 1.249540\n",
            "\n",
            "Test set: Average loss: 0.0222, Accuracy: 5273/10000 (53%)\n",
            "\n",
            "Train Epoch: 3 [0/50000 (0%)]\tLoss: 1.317234\n",
            "Train Epoch: 3 [6400/50000 (13%)]\tLoss: 0.974438\n",
            "Train Epoch: 3 [12800/50000 (26%)]\tLoss: 0.912277\n",
            "Train Epoch: 3 [19200/50000 (38%)]\tLoss: 0.874700\n",
            "Train Epoch: 3 [25600/50000 (51%)]\tLoss: 1.039373\n",
            "Train Epoch: 3 [32000/50000 (64%)]\tLoss: 0.764069\n",
            "Train Epoch: 3 [38400/50000 (77%)]\tLoss: 1.221682\n",
            "Train Epoch: 3 [44800/50000 (90%)]\tLoss: 1.030828\n",
            "\n",
            "Test set: Average loss: 0.0228, Accuracy: 5160/10000 (52%)\n",
            "\n",
            "Train Epoch: 4 [0/50000 (0%)]\tLoss: 0.939571\n",
            "Train Epoch: 4 [6400/50000 (13%)]\tLoss: 1.120640\n",
            "Train Epoch: 4 [12800/50000 (26%)]\tLoss: 1.290664\n",
            "Train Epoch: 4 [19200/50000 (38%)]\tLoss: 0.918944\n",
            "Train Epoch: 4 [25600/50000 (51%)]\tLoss: 1.035511\n",
            "Train Epoch: 4 [32000/50000 (64%)]\tLoss: 0.946397\n",
            "Train Epoch: 4 [38400/50000 (77%)]\tLoss: 0.869119\n",
            "Train Epoch: 4 [44800/50000 (90%)]\tLoss: 1.092960\n",
            "\n",
            "Test set: Average loss: 0.0229, Accuracy: 5149/10000 (51%)\n",
            "\n",
            "Train Epoch: 5 [0/50000 (0%)]\tLoss: 0.724543\n",
            "Train Epoch: 5 [6400/50000 (13%)]\tLoss: 0.677278\n",
            "Train Epoch: 5 [12800/50000 (26%)]\tLoss: 0.856227\n",
            "Train Epoch: 5 [19200/50000 (38%)]\tLoss: 0.928433\n",
            "Train Epoch: 5 [25600/50000 (51%)]\tLoss: 0.910807\n",
            "Train Epoch: 5 [32000/50000 (64%)]\tLoss: 1.061771\n",
            "Train Epoch: 5 [38400/50000 (77%)]\tLoss: 0.732505\n",
            "Train Epoch: 5 [44800/50000 (90%)]\tLoss: 1.009347\n",
            "\n",
            "Test set: Average loss: 0.0227, Accuracy: 5226/10000 (52%)\n",
            "\n",
            "Train Epoch: 6 [0/50000 (0%)]\tLoss: 0.807761\n",
            "Train Epoch: 6 [6400/50000 (13%)]\tLoss: 0.810356\n",
            "Train Epoch: 6 [12800/50000 (26%)]\tLoss: 0.875678\n",
            "Train Epoch: 6 [19200/50000 (38%)]\tLoss: 0.858717\n",
            "Train Epoch: 6 [25600/50000 (51%)]\tLoss: 0.917774\n",
            "Train Epoch: 6 [32000/50000 (64%)]\tLoss: 0.893079\n",
            "Train Epoch: 6 [38400/50000 (77%)]\tLoss: 1.398609\n",
            "Train Epoch: 6 [44800/50000 (90%)]\tLoss: 0.935322\n",
            "\n",
            "Test set: Average loss: 0.0232, Accuracy: 5222/10000 (52%)\n",
            "\n",
            "Train Epoch: 7 [0/50000 (0%)]\tLoss: 0.852961\n",
            "Train Epoch: 7 [6400/50000 (13%)]\tLoss: 0.974298\n",
            "Train Epoch: 7 [12800/50000 (26%)]\tLoss: 0.932803\n",
            "Train Epoch: 7 [19200/50000 (38%)]\tLoss: 0.921824\n",
            "Train Epoch: 7 [25600/50000 (51%)]\tLoss: 1.159246\n",
            "Train Epoch: 7 [32000/50000 (64%)]\tLoss: 0.942111\n",
            "Train Epoch: 7 [38400/50000 (77%)]\tLoss: 0.814159\n",
            "Train Epoch: 7 [44800/50000 (90%)]\tLoss: 0.905192\n",
            "\n",
            "Test set: Average loss: 0.0234, Accuracy: 5141/10000 (51%)\n",
            "\n",
            "Train Epoch: 8 [0/50000 (0%)]\tLoss: 0.832074\n",
            "Train Epoch: 8 [6400/50000 (13%)]\tLoss: 0.777542\n",
            "Train Epoch: 8 [12800/50000 (26%)]\tLoss: 0.919264\n",
            "Train Epoch: 8 [19200/50000 (38%)]\tLoss: 0.733618\n",
            "Train Epoch: 8 [25600/50000 (51%)]\tLoss: 0.711858\n",
            "Train Epoch: 8 [32000/50000 (64%)]\tLoss: 0.891051\n",
            "Train Epoch: 8 [38400/50000 (77%)]\tLoss: 0.936931\n",
            "Train Epoch: 8 [44800/50000 (90%)]\tLoss: 0.913639\n",
            "\n",
            "Test set: Average loss: 0.0234, Accuracy: 5196/10000 (52%)\n",
            "\n",
            "Train Epoch: 9 [0/50000 (0%)]\tLoss: 0.706386\n",
            "Train Epoch: 9 [6400/50000 (13%)]\tLoss: 0.770284\n",
            "Train Epoch: 9 [12800/50000 (26%)]\tLoss: 0.931090\n",
            "Train Epoch: 9 [19200/50000 (38%)]\tLoss: 0.797829\n",
            "Train Epoch: 9 [25600/50000 (51%)]\tLoss: 0.752555\n",
            "Train Epoch: 9 [32000/50000 (64%)]\tLoss: 0.836246\n",
            "Train Epoch: 9 [38400/50000 (77%)]\tLoss: 0.782166\n",
            "Train Epoch: 9 [44800/50000 (90%)]\tLoss: 0.878862\n",
            "\n",
            "Test set: Average loss: 0.0246, Accuracy: 5169/10000 (52%)\n",
            "\n",
            "Train Epoch: 10 [0/50000 (0%)]\tLoss: 0.850042\n",
            "Train Epoch: 10 [6400/50000 (13%)]\tLoss: 0.556237\n",
            "Train Epoch: 10 [12800/50000 (26%)]\tLoss: 0.814806\n",
            "Train Epoch: 10 [19200/50000 (38%)]\tLoss: 1.027236\n",
            "Train Epoch: 10 [25600/50000 (51%)]\tLoss: 0.837929\n",
            "Train Epoch: 10 [32000/50000 (64%)]\tLoss: 0.792922\n",
            "Train Epoch: 10 [38400/50000 (77%)]\tLoss: 0.850996\n",
            "Train Epoch: 10 [44800/50000 (90%)]\tLoss: 0.824569\n",
            "\n",
            "Test set: Average loss: 0.0239, Accuracy: 5141/10000 (51%)\n",
            "\n"
          ]
        }
      ]
    },
    {
      "cell_type": "code",
      "source": [
        "from torchsummary import summary\n",
        "summary(model, input_size=(3, 32, 32))"
      ],
      "metadata": {
        "colab": {
          "base_uri": "https://localhost:8080/"
        },
        "id": "X_kyukbwxJ-o",
        "outputId": "1c8bf2e5-151c-4974-8e3f-ca0f549cc424"
      },
      "execution_count": 28,
      "outputs": [
        {
          "output_type": "stream",
          "name": "stdout",
          "text": [
            "----------------------------------------------------------------\n",
            "        Layer (type)               Output Shape         Param #\n",
            "================================================================\n",
            "            Linear-1                  [-1, 128]         393,344\n",
            "            Linear-2                   [-1, 64]           8,256\n",
            "            Linear-3                   [-1, 32]           2,080\n",
            "            Linear-4                   [-1, 10]             330\n",
            "================================================================\n",
            "Total params: 404,010\n",
            "Trainable params: 404,010\n",
            "Non-trainable params: 0\n",
            "----------------------------------------------------------------\n",
            "Input size (MB): 0.01\n",
            "Forward/backward pass size (MB): 0.00\n",
            "Params size (MB): 1.54\n",
            "Estimated Total Size (MB): 1.55\n",
            "----------------------------------------------------------------\n"
          ]
        }
      ]
    },
    {
      "cell_type": "code",
      "source": [
        "# 정확도 그래프 그리기\n",
        "plt.plot(range(1, epochs + 1), train_accuracies, label='Train Accuracy')\n",
        "plt.plot(range(1, epochs + 1), test_accuracies, label='Test Accuracy')\n",
        "plt.xlabel('Epoch')\n",
        "plt.ylabel('Accuracy')\n",
        "plt.title('Train and Test Accuracy over Epochs')\n",
        "plt.legend()\n",
        "plt.show()"
      ],
      "metadata": {
        "colab": {
          "base_uri": "https://localhost:8080/",
          "height": 472
        },
        "id": "LdHHzE-bGN1i",
        "outputId": "db028879-d672-4275-a55f-55a0ae0140d8"
      },
      "execution_count": 30,
      "outputs": [
        {
          "output_type": "display_data",
          "data": {
            "text/plain": [
              "<Figure size 640x480 with 1 Axes>"
            ],
            "image/png": "[encoded data removed]"
          },
          "metadata": {}
        }
      ]
    }
  ]
}