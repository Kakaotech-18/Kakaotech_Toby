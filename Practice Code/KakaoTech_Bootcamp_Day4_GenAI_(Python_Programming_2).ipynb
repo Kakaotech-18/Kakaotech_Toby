{
  "nbformat": 4,
  "nbformat_minor": 0,
  "metadata": {
    "colab": {
      "provenance": []
    },
    "kernelspec": {
      "name": "python3",
      "display_name": "Python 3"
    },
    "language_info": {
      "name": "python"
    }
  },
  "cells": [
    {
      "cell_type": "markdown",
      "source": [
        "고급 자료형 (리스트, 세트, 딕셔너리, collections)\n",
        "\n"
      ],
      "metadata": {
        "id": "N-DSna94_GL4"
      }
    },
    {
      "cell_type": "code",
      "source": [
        "# 리스트 예제\n",
        "# 리스트 생성 및 기본 사용법\n",
        "fruits = [\"apple\", \"banana\", \"cherry\"]\n",
        "print(\"리스트:\", fruits)\n",
        "\n",
        "# 리스트 요소 접근\n",
        "print(\"첫 번째 요소:\", fruits[0])\n",
        "print(\"마지막 요소:\", fruits[-1])\n",
        "\n",
        "# 리스트 요소 변경\n",
        "fruits[1] = \"blueberry\"\n",
        "print(\"요소 변경 후:\", fruits)\n",
        "\n",
        "# 리스트 요소 추가\n",
        "fruits.append(\"date\")\n",
        "print(\"요소 추가 후:\", fruits)\n",
        "\n",
        "# 리스트 요소 삭제\n",
        "fruits.remove(\"apple\")\n",
        "print(\"요소 삭제 후:\", fruits)\n",
        "\n",
        "# 리스트 길이\n",
        "print(\"리스트 길이:\", len(fruits))"
      ],
      "metadata": {
        "colab": {
          "base_uri": "https://localhost:8080/"
        },
        "id": "mWFesrW6_LeI",
        "outputId": "801f5807-5519-4ed4-83c4-219a1ab99a73"
      },
      "execution_count": null,
      "outputs": [
        {
          "output_type": "stream",
          "name": "stdout",
          "text": [
            "리스트: ['apple', 'banana', 'cherry']\n",
            "첫 번째 요소: apple\n",
            "마지막 요소: cherry\n",
            "요소 변경 후: ['apple', 'blueberry', 'cherry']\n",
            "요소 추가 후: ['apple', 'blueberry', 'cherry', 'date']\n",
            "요소 삭제 후: ['blueberry', 'cherry', 'date']\n",
            "리스트 길이: 3\n"
          ]
        }
      ]
    },
    {
      "cell_type": "code",
      "source": [
        "# 세트 예제\n",
        "# 세트 생성 및 기본 사용법\n",
        "fruits = {\"apple\", \"banana\", \"cherry\"}\n",
        "print(\"세트:\", fruits)\n",
        "\n",
        "# 세트 요소 추가\n",
        "fruits.add(\"date\")\n",
        "print(\"요소 추가 후:\", fruits)\n",
        "\n",
        "# 세트 요소 삭제\n",
        "fruits.remove(\"banana\")\n",
        "print(\"요소 삭제 후:\", fruits)\n",
        "\n",
        "# 세트 길이\n",
        "print(\"세트 길이:\", len(fruits))"
      ],
      "metadata": {
        "colab": {
          "base_uri": "https://localhost:8080/"
        },
        "id": "btWpwl4B_LYw",
        "outputId": "4ab61116-1639-44ee-9ea7-239e4dee03d8"
      },
      "execution_count": null,
      "outputs": [
        {
          "output_type": "stream",
          "name": "stdout",
          "text": [
            "세트: {'banana', 'cherry', 'apple'}\n",
            "요소 추가 후: {'banana', 'date', 'cherry', 'apple'}\n",
            "요소 삭제 후: {'date', 'cherry', 'apple'}\n",
            "세트 길이: 3\n"
          ]
        }
      ]
    },
    {
      "cell_type": "code",
      "source": [
        "# 딕셔너리 예제\n",
        "# 딕셔너리 생성 및 기본 사용법\n",
        "fruit_colors = {\"apple\": \"red\", \"banana\": \"yellow\", \"cherry\": \"red\"}\n",
        "print(\"딕셔너리:\", fruit_colors)\n",
        "\n",
        "# 딕셔너리 요소 접근\n",
        "print(\"사과의 색:\", fruit_colors[\"apple\"])\n",
        "\n",
        "# 딕셔너리 요소 추가\n",
        "fruit_colors[\"date\"] = \"brown\"\n",
        "print(\"요소 추가 후:\", fruit_colors)\n",
        "\n",
        "# 딕셔너리 요소 삭제\n",
        "del fruit_colors[\"banana\"]\n",
        "print(\"요소 삭제 후:\", fruit_colors)\n",
        "\n",
        "# 딕셔너리 길이\n",
        "print(\"딕셔너리 길이:\", len(fruit_colors))"
      ],
      "metadata": {
        "colab": {
          "base_uri": "https://localhost:8080/"
        },
        "id": "NiuC4Z6a_LNu",
        "outputId": "bc807454-a9d6-4a98-8538-93de9c742aea"
      },
      "execution_count": null,
      "outputs": [
        {
          "output_type": "stream",
          "name": "stdout",
          "text": [
            "딕셔너리: {'apple': 'red', 'banana': 'yellow', 'cherry': 'red'}\n",
            "사과의 색: red\n",
            "요소 추가 후: {'apple': 'red', 'banana': 'yellow', 'cherry': 'red', 'date': 'brown'}\n",
            "요소 삭제 후: {'apple': 'red', 'cherry': 'red', 'date': 'brown'}\n",
            "딕셔너리 길이: 3\n"
          ]
        }
      ]
    },
    {
      "cell_type": "code",
      "source": [
        "# 튜플(순서 존재 x, 요소 변경 불가능) 예제\n",
        "fruits = (\"apple\", \"banana\", \"cherry\")\n",
        "print(\"튜플:\", fruits)\n",
        "\n",
        "# 튜플 요소 접근\n",
        "print(\"첫 번째 요소:\", fruits[0])\n",
        "print(\"마지막 요소:\", fruits[-1])\n",
        "\n",
        "# 튜플 언패킹\n",
        "fruit1, fruit2, fruit3 = fruits\n",
        "print(\"언패킹된 요소:\", fruit1, fruit2, fruit3)"
      ],
      "metadata": {
        "colab": {
          "base_uri": "https://localhost:8080/"
        },
        "id": "l_86i2WKHpeF",
        "outputId": "b17a1ae0-7149-45d5-be83-db80420a6428"
      },
      "execution_count": null,
      "outputs": [
        {
          "output_type": "stream",
          "name": "stdout",
          "text": [
            "튜플: ('apple', 'banana', 'cherry')\n",
            "첫 번째 요소: apple\n",
            "마지막 요소: cherry\n",
            "언패킹된 요소: apple banana cherry\n"
          ]
        }
      ]
    },
    {
      "cell_type": "code",
      "execution_count": null,
      "metadata": {
        "colab": {
          "base_uri": "https://localhost:8080/"
        },
        "id": "o5aEfkn-_EyS",
        "outputId": "993d424b-d26b-49a6-cd4a-c8d98eb97d83"
      },
      "outputs": [
        {
          "output_type": "stream",
          "name": "stdout",
          "text": [
            "Deque: deque(['banana', 'cherry', 'date'])\n",
            "NamedTuple: Fruit(name='apple', color='red')\n",
            "DefaultDict: defaultdict(<class 'int'>, {'apple': 1})\n",
            "Counter: Counter({'banana': 3, 'apple': 2, 'cherry': 1})\n"
          ]
        }
      ],
      "source": [
        "# collections 모듈 예제\n",
        "from collections import deque, namedtuple, defaultdict, Counter\n",
        "\n",
        "# deque\n",
        "dq = deque([\"apple\", \"banana\", \"cherry\"])\n",
        "dq.append(\"date\")\n",
        "dq.popleft()\n",
        "print(\"Deque:\", dq)\n",
        "\n",
        "# namedtuple\n",
        "Fruit = namedtuple('Fruit', 'name color')\n",
        "apple = Fruit(name=\"apple\", color=\"red\")\n",
        "print(\"NamedTuple:\", apple)\n",
        "\n",
        "# defaultdict\n",
        "dd = defaultdict(int)\n",
        "dd[\"apple\"] += 1\n",
        "print(\"DefaultDict:\", dd)\n",
        "\n",
        "# Counter\n",
        "cnt = Counter([\"apple\", \"banana\", \"apple\", \"cherry\", \"banana\", \"banana\"])\n",
        "print(\"Counter:\", cnt)"
      ]
    },
    {
      "cell_type": "code",
      "source": [
        "# 리스트 컴프리헨션 예제\n",
        "# 기본 리스트 컴프리헨션\n",
        "numbers = [1, 2, 3, 4, 5]\n",
        "squared_numbers = [x*2 for x in numbers]\n",
        "print(\"제곱된 숫자들:\", squared_numbers)\n",
        "\n",
        "# 조건을 포함한 리스트 컴프리헨션\n",
        "even_numbers = [x for x in numbers if x % 2 == 0]\n",
        "print(\"짝수들:\", even_numbers)"
      ],
      "metadata": {
        "colab": {
          "base_uri": "https://localhost:8080/"
        },
        "id": "CEnVITezHA63",
        "outputId": "69e4aa94-f86e-4787-8ae9-43a4f5bf5610"
      },
      "execution_count": null,
      "outputs": [
        {
          "output_type": "stream",
          "name": "stdout",
          "text": [
            "제곱된 숫자들: [2, 4, 6, 8, 10]\n",
            "짝수들: [2, 4]\n"
          ]
        }
      ]
    },
    {
      "cell_type": "code",
      "source": [
        "# 딕셔너리 컴프리헨션 예제\n",
        "numbers = [1, 2, 3, 4, 5]\n",
        "\n",
        "squared_dict = {x: x*2 for x in numbers}\n",
        "\n",
        "print(\"제곱된 딕셔너리:\", squared_dict)"
      ],
      "metadata": {
        "colab": {
          "base_uri": "https://localhost:8080/"
        },
        "id": "CYRGj2b1HA4G",
        "outputId": "86fd431a-8344-492e-c4d3-36b04ab3769b"
      },
      "execution_count": null,
      "outputs": [
        {
          "output_type": "stream",
          "name": "stdout",
          "text": [
            "제곱된 딕셔너리: {1: 2, 2: 4, 3: 6, 4: 8, 5: 10}\n"
          ]
        }
      ]
    },
    {
      "cell_type": "code",
      "source": [
        "# 집합 컴프리헨션 예제\n",
        "numbers = [1, 2, 3, 4, 5]\n",
        "\n",
        "squared_set = {x*2 for x in numbers}\n",
        "\n",
        "print(\"제곱된 집합:\", squared_set)"
      ],
      "metadata": {
        "colab": {
          "base_uri": "https://localhost:8080/"
        },
        "id": "b8riAyWoHA1t",
        "outputId": "11431776-b098-4dff-a3b3-7195fd3b6407"
      },
      "execution_count": null,
      "outputs": [
        {
          "output_type": "stream",
          "name": "stdout",
          "text": [
            "제곱된 집합: {2, 4, 6, 8, 10}\n"
          ]
        }
      ]
    },
    {
      "cell_type": "code",
      "source": [
        "# 중첩 리스트 컴프리헨션 예제\n",
        "matrix = [[1, 2, 3], [4, 5, 6], [7, 8, 9]]\n",
        "\n",
        "flattened = [num for row in matrix for num in row]\n",
        "\n",
        "print(\"Flattened List:\", flattened)"
      ],
      "metadata": {
        "colab": {
          "base_uri": "https://localhost:8080/"
        },
        "id": "nz8H8KPFHtBb",
        "outputId": "269d54de-20b5-4b27-81e1-0f93d9c52f9b"
      },
      "execution_count": null,
      "outputs": [
        {
          "output_type": "stream",
          "name": "stdout",
          "text": [
            "Flattened List: [1, 2, 3, 4, 5, 6, 7, 8, 9]\n"
          ]
        }
      ]
    },
    {
      "cell_type": "code",
      "source": [
        "import logging\n",
        "\n",
        "# 로깅 설정\n",
        "logging.basicConfig(level=logging.DEBUG,\n",
        "                    format='%(asctime)s - %(name)s - %(levelname)s - %(message)s')\n",
        "# 로깅 객체\n",
        "logger = logging.getLogger(__name__)\n",
        "\n",
        "def divide(a, b):\n",
        "    try:\n",
        "        result = a / b\n",
        "        logger.info(\"Division successful\")\n",
        "        return result\n",
        "    except ZeroDivisionError:\n",
        "        logger.error(\"Division by zero error\")\n",
        "        return None\n",
        "\n",
        "# 로깅 테스트\n",
        "print(\"Division successful\\n\", divide(10, 2))\n",
        "print(\"Division by zero error\\n\", divide(10, 0))"
      ],
      "metadata": {
        "colab": {
          "base_uri": "https://localhost:8080/"
        },
        "id": "Z4aNFmVNHAzX",
        "outputId": "71d11fd9-7e85-4abc-ba7d-401d48bdf571"
      },
      "execution_count": null,
      "outputs": [
        {
          "output_type": "stream",
          "name": "stderr",
          "text": [
            "ERROR:__main__:Division by zero error\n"
          ]
        },
        {
          "output_type": "stream",
          "name": "stdout",
          "text": [
            "Division successful\n",
            " 5.0\n",
            "Division by zero error\n",
            " None\n"
          ]
        }
      ]
    },
    {
      "cell_type": "code",
      "source": [
        "logger.setLevel(logging.INFO) # 로그 레벨 설정\n",
        "\n",
        "logger.debug(\"This is a debug message\")\n",
        "logger.info(\"This is an info message\")\n",
        "logger.warning(\"This is a warning message\")\n",
        "logger.error(\"This is an error message\")\n",
        "logger.critical(\"This is a critical message\")"
      ],
      "metadata": {
        "colab": {
          "base_uri": "https://localhost:8080/"
        },
        "id": "uc5BUgZSHxJn",
        "outputId": "d37a81b1-d7f7-4ea4-df0b-43c804ea66bb"
      },
      "execution_count": null,
      "outputs": [
        {
          "output_type": "stream",
          "name": "stderr",
          "text": [
            "INFO:__main__:This is an info message\n",
            "WARNING:__main__:This is a warning message\n",
            "ERROR:__main__:This is an error message\n",
            "CRITICAL:__main__:This is a critical message\n"
          ]
        }
      ]
    },
    {
      "cell_type": "code",
      "source": [
        "import re\n",
        "\n",
        "# 이메일 추출\n",
        "text = \"Contact us at support@example.com or sales@example.com\"\n",
        "pattern = r\"\\b[A-Za-z0-9._%+-]+@[A-Za-z0-9.-]+\\.[A-Z|a-z]{2,7}\\b\"\n",
        "matches = re.findall(pattern, text)\n",
        "print(\"이메일:\", matches)\n",
        "\n",
        "# HTML 태그 제거\n",
        "html = \"<p>This is a <b>bold</b> paragraph.</p>\"\n",
        "pattern = r\"<.*?>\"\n",
        "clean_text = re.sub(pattern, \"\", html)\n",
        "print(\"태그 제거 후 텍스트:\", clean_text)"
      ],
      "metadata": {
        "colab": {
          "base_uri": "https://localhost:8080/"
        },
        "id": "Vpjk8PxzHAwz",
        "outputId": "040dff2f-7129-4197-a748-bfe55a927487"
      },
      "execution_count": null,
      "outputs": [
        {
          "output_type": "stream",
          "name": "stdout",
          "text": [
            "이메일: ['support@example.com', 'sales@example.com']\n",
            "태그 제거 후 텍스트: This is a bold paragraph.\n"
          ]
        }
      ]
    },
    {
      "cell_type": "code",
      "source": [
        "import threading\n",
        "import time\n",
        "\n",
        "\n",
        "A  = 0\n",
        "# 숫자를 출력하는 함수\n",
        "def print_numbers():\n",
        "    global A\n",
        "    for i in range(5):\n",
        "        print(\"i:\",i)\n",
        "        print(\"공통A: \", A)\n",
        "        A+=1\n",
        "        time.sleep(1)\n",
        "\n",
        "# 두 개의 스레드 생성 및 시작\n",
        "thread1 = threading.Thread(target=print_numbers)\n",
        "thread2 = threading.Thread(target=print_numbers)\n",
        "thread1.start()\n",
        "thread2.start()\n",
        "thread1.join()\n",
        "thread2.join()"
      ],
      "metadata": {
        "colab": {
          "base_uri": "https://localhost:8080/"
        },
        "id": "2QV94SIjHAs2",
        "outputId": "6be0ec01-8d65-4c88-f906-6fb033990fca"
      },
      "execution_count": null,
      "outputs": [
        {
          "output_type": "stream",
          "name": "stdout",
          "text": [
            "i:i: 0 \n",
            "0\n",
            "공통A:  0\n",
            "공통A:  1\n",
            "i:i: 1\n",
            "공통A:  2\n",
            " 1\n",
            "공통A:  3\n",
            "i: 2\n",
            "공통A:  4\n",
            "i: 2\n",
            "공통A:  5\n",
            "i: 3\n",
            "공통A:  6\n",
            "i: 3\n",
            "공통A:  7\n",
            "i: 4\n",
            "공통A:  8\n",
            "i: 4\n",
            "공통A:  9\n"
          ]
        }
      ]
    },
    {
      "cell_type": "code",
      "source": [
        "import multiprocessing\n",
        "import time\n",
        "\n",
        "\n",
        "A  = 0\n",
        "# 숫자를 출력하는 함수\n",
        "def print_numbers():\n",
        "    global A\n",
        "    for i in range(5):\n",
        "        print(\"i:\",i)\n",
        "        print(\"공통A: \", A)\n",
        "        A+=1\n",
        "        time.sleep(1)\n",
        "\n",
        "# 두 개의 프로세스 생성 및 시작\n",
        "process1 = multiprocessing.Process(target=print_numbers)\n",
        "process2 = multiprocessing.Process(target=print_numbers)\n",
        "process1.start()\n",
        "process2.start()\n",
        "process1.join()\n",
        "process2.join()"
      ],
      "metadata": {
        "colab": {
          "base_uri": "https://localhost:8080/"
        },
        "id": "DZlEdLqKHK41",
        "outputId": "f1e2fbfc-3009-4e1d-970c-806bb87a5356"
      },
      "execution_count": null,
      "outputs": [
        {
          "output_type": "stream",
          "name": "stdout",
          "text": [
            "i: 0i:\n",
            " 공통A:  00\n",
            "\n",
            "공통A:  0\n",
            "i: 1\n",
            "공통A:  i:1 1\n",
            "공통A:  1\n",
            "\n",
            "i: 2\n",
            "i:공통A:   2\n",
            "2\n",
            "공통A:  2\n",
            "i: 3\n",
            "공통A:  3\n",
            "i: 3\n",
            "공통A:  3\n",
            "i: 4\n",
            "공통A:  4\n",
            "i: 4\n",
            "공통A:  4\n"
          ]
        }
      ]
    }
  ]
}