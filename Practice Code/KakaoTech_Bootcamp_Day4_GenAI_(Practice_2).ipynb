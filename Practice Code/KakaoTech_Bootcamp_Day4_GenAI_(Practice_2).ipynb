{
  "nbformat": 4,
  "nbformat_minor": 0,
  "metadata": {
    "colab": {
      "provenance": []
    },
    "kernelspec": {
      "name": "python3",
      "display_name": "Python 3"
    },
    "language_info": {
      "name": "python"
    }
  },
  "cells": [
    {
      "cell_type": "markdown",
      "source": [
        "# 파이썬 프로그래밍 II 종합 실습\n",
        "\n",
        "collections 모듈, comprehension, logging, 정규표현식, 멀티스레딩, 멀티프로세싱을 활용합니다.\n",
        "\n"
      ],
      "metadata": {
        "id": "o2A6nokuDOFH"
      }
    },
    {
      "cell_type": "markdown",
      "source": [
        "과제 1: Collections 모듈 활용\n",
        "\n",
        "EXAMPLE_SEQUENCE 값을 활용해보세요.\n",
        "\n",
        "1. Deque: Deque를 생성하고, 요소를 추가하고 제거하는 작업을 해보세요.\n",
        "\n",
        "2. Namedtuple: Namedtuple을 정의하고 인스턴스를 생성해보세요.\n",
        "\n",
        "3. Defaultdict: Defaultdict를 사용해보세요. 키가 없을 때 기본값을 설정하세요.\n",
        "\n",
        "4. Counter: Counter를 사용해 리스트에서 각 요소의 빈도를 세어보세요."
      ],
      "metadata": {
        "id": "wSeIu_4nDSsP"
      }
    },
    {
      "cell_type": "code",
      "execution_count": 7,
      "metadata": {
        "id": "DOHabDfaDMyp",
        "colab": {
          "base_uri": "https://localhost:8080/"
        },
        "outputId": "f594528a-cf6b-4f9b-e4c6-ad33d80cc108"
      },
      "outputs": [
        {
          "output_type": "stream",
          "name": "stdout",
          "text": [
            "Deque: deque(['cat', 'mouse', 'parrot', 'frog', 'lion'])\n",
            "NameTuple: Animal(name='dog', color='white')\n",
            "DefaultDict defaultdict(<class 'int'>, {'dog': 1})\n",
            "Counter Counter({'dog': 1, 'cat': 1, 'mouse': 1, 'parrot': 1, 'frog': 1})\n"
          ]
        }
      ],
      "source": [
        "from collections import deque, namedtuple, defaultdict, Counter\n",
        "\n",
        "# EXAMPLE_SEQUENCE = ['dog', 'cat', 'mouse', 'parrot', 'frog']\n",
        "\n",
        "# 1. Deque: Deque를 생성하고, 요소를 추가하고 제거하는 작업을 해보세요.\n",
        "dq = deque(['dog', 'cat', 'mouse', 'parrot', 'frog'])\n",
        "dq.append('lion')\n",
        "dq.popleft()\n",
        "print(\"Deque:\", dq)\n",
        "\n",
        "# 2. Namedtuple: Namedtuple을 정의하고 인스턴스를 생성해보세요.\n",
        "Animal = namedtuple('Animal', 'name color')\n",
        "dog = Animal(name=\"dog\", color=\"white\")\n",
        "print(\"NameTuple:\", dog)\n",
        "\n",
        "# 3.Defaultdict: Defaultdict를 사용해보세요. 키가 없을 때 기본값을 설정하세요.\n",
        "dd = defaultdict(int)\n",
        "dd[\"dog\"] +=1\n",
        "print(\"DefaultDict\", dd)\n",
        "\n",
        "# 4. Counter: Counter를 사용해 리스트에서 각 요소의 빈도를 세어보세요.\n",
        "cnt = Counter (['dog', 'cat', 'mouse', 'parrot', 'frog'])\n",
        "print(\"Counter\", cnt)"
      ]
    },
    {
      "cell_type": "markdown",
      "source": [
        "과제 2: Comprehension 활용\n",
        "\n",
        "EXAMPLE_SEQUENCE 값을 활용해보세요.\n",
        "\n",
        "1. 리스트 컴프리헨션: 숫자 리스트의 제곱값을 구하세요.\n",
        "\n",
        "2. 딕셔너리 컴프리헨션: 키가 숫자이고 값이 그 숫자의 제곱인 딕셔너리를 생성하세요.\n",
        "\n",
        "3. 집합 컴프리헨션: 중복된 값을 제거한 제곱값 집합을 생성하세요."
      ],
      "metadata": {
        "id": "VUAClu_dD07F"
      }
    },
    {
      "cell_type": "code",
      "source": [
        "# EXAMPLE_SEQUENCE = [1, 4, 12, 9, 22, 5, 1, 9]\n",
        "\n",
        "numbers = [1, 4, 12, 9, 22, 5, 1, 9]\n",
        "\n",
        "# 1. 리스트 컴프리헨션: 숫자 리스트의 제곱값을 구하세요.\n",
        "squared_numbers = [x**2 for x in numbers]\n",
        "print(\"List Comprehension:\", squared_numbers)\n",
        "\n",
        "# 2. 딕셔너리 컴프리헨션: 키가 숫자이고 값이 그 숫자의 제곱인 딕셔너리를 생성하세요\n",
        "squared_dict = {x: x**2 for x in numbers}\n",
        "print(\"Dictionary Comprehension:\", squared_dict)\n",
        "\n",
        "# 3. 집합 컴프리헨션: 중복된 값을 제거한 제곱값 집합을 생성하세요\n",
        "squared_set = {x**2 for x in numbers}\n",
        "print(\"Set Comprehension:\", squared_set)"
      ],
      "metadata": {
        "id": "UXRdE3o0EDwK",
        "colab": {
          "base_uri": "https://localhost:8080/"
        },
        "outputId": "a4eabaf8-cdb5-46cf-d504-81013893e211"
      },
      "execution_count": 13,
      "outputs": [
        {
          "output_type": "stream",
          "name": "stdout",
          "text": [
            "List Comprehension: [1, 16, 144, 81, 484, 25, 1, 81]\n",
            "Dictionary Comprehension: {1: 1, 4: 16, 12: 144, 9: 81, 22: 484, 5: 25}\n",
            "Set Comprehension: {1, 484, 16, 144, 81, 25}\n"
          ]
        }
      ]
    },
    {
      "cell_type": "markdown",
      "source": [
        "과제 3: Logging 활용\n",
        "\n",
        "1. 기본 로깅 설정: 로깅을 설정하고 정보를 로깅하세요. 로그의 형태는 '시간 - 에러레벨 - 메시지' 입니다.\n",
        "\n",
        "2. 예외 로깅: 예외가 발생했을 때 에러를 로깅하세요."
      ],
      "metadata": {
        "id": "j-42IEV_Ec35"
      }
    },
    {
      "cell_type": "code",
      "source": [
        "import logging\n",
        "\n",
        "logging.basicConfig(evel=logging.DEBUG,\n",
        "                   format='%(asctime)s - %(levelnames) - %(message)s')\n",
        "\n",
        "logger = logging.getLogger(__name__)\n",
        "\n",
        "# 예외 로깅 함수\n",
        "def log_exception(e):\n",
        "    logger.error(\"Exception occurred\", exc_info=True)\n",
        "\n",
        "# 예시 함수 (예외 발생 시 예외를 로깅)\n",
        "def example_function():\n",
        "    try:\n",
        "        # 예외를 발생시키기 위한 코드\n",
        "        result = 10 / 0\n",
        "    except Exception as e:\n",
        "        log_exception(e)\n",
        "\n",
        "# 로그 예시\n",
        "logger.info(\"This is an info message\")\n",
        "logger.debug(\"This is a debug message\")\n",
        "logger.warning(\"This is a warning message\")\n",
        "logger.error(\"This is an error message\")\n",
        "\n",
        "# 예시 함수 실행\n",
        "example_function()"
      ],
      "metadata": {
        "id": "Q7jfbpQTEz8N",
        "colab": {
          "base_uri": "https://localhost:8080/"
        },
        "outputId": "1a87a4c3-2e5a-453b-8ae1-3151b64dcded"
      },
      "execution_count": 16,
      "outputs": [
        {
          "output_type": "stream",
          "name": "stderr",
          "text": [
            "WARNING:__main__:This is a warning message\n",
            "ERROR:__main__:This is an error message\n",
            "ERROR:__main__:Exception occurred\n",
            "Traceback (most recent call last):\n",
            "  File \"<ipython-input-16-8fa39fced6c4>\", line 16, in example_function\n",
            "    result = 10 / 0\n",
            "ZeroDivisionError: division by zero\n"
          ]
        }
      ]
    },
    {
      "cell_type": "markdown",
      "source": [
        "과제 4: 정규 표현식 사용\n",
        "\n",
        "1. 기본 패턴 매칭: 이메일 주소를 추출하세요.\n",
        "\n",
        "2. 기본 패턴 매칭: 비식별화를 진행하세요. ID를 앞 3글자 이외는 모두 '*'로 변경합니다.\n",
        "\n",
        "3. 고급 패턴 매칭: HTML 태그를 제거하세요."
      ],
      "metadata": {
        "id": "VGcHabOVE4mI"
      }
    },
    {
      "cell_type": "code",
      "source": [
        "import re\n",
        "\n",
        "# 1. 기본 패턴 매칭: 이메일 주소를 추출하세요.\n",
        "email_text = \"MY name is Jhin, my email is kakaotech@goorm.io\"\n",
        "email_pattern = r'[a-zA-Z0-9._%+-]+@[a-zA-Z0-9.-]+\\.[a-zA-Z]{2,}'\n",
        "matches = re.findall(email_pattern, email_text)\n",
        "print(\"이메일:\", matches)\n",
        "\n",
        "# 2. 기본 패턴 매칭: 비식별화를 진행하세요. ID를 앞 3글자 이외는 모두 '*'로 변경합니다.\n",
        "id_list = [\"jhin.lee\", \"lovelove123\", \"세종대왕만세!!\", \"twin에너지123\", \"PostModern\"]\n",
        "def anonymize_id(id_str):\n",
        "  if len(id_str) < 3:\n",
        "    return id_str\n",
        "  else:\n",
        "    return id_str[:3] + '*' *(len(id_str) - 3)\n",
        "\n",
        "anymolzed_ids = [anonymize_id(id_str) for id_str in id_list]\n",
        "print(\"비식별화:\", anymolzed_ids)\n",
        "\n",
        "# 3. 고급 패턴 매칭: HTML 태그를 제거하세요.\n",
        "html = \"<p>Hello, <b>World!</b></p>\"\n",
        "pattern = r\"<.*?>\"\n",
        "clean_text= re.sub(pattern, \"\", html)\n",
        "print(\"HTML 태그 제거:\", clean_text)"
      ],
      "metadata": {
        "id": "I-9AqxWWE59J",
        "colab": {
          "base_uri": "https://localhost:8080/"
        },
        "outputId": "9bbfa547-ac3b-493c-c27d-9490d4141353"
      },
      "execution_count": 22,
      "outputs": [
        {
          "output_type": "stream",
          "name": "stdout",
          "text": [
            "이메일: ['kakaotech@goorm.io']\n",
            "비식별화: ['jhi*****', 'lov********', '세종대*****', 'twi*******', 'Pos*******']\n",
            "HTML 태그 제거: Hello, World!\n"
          ]
        }
      ]
    },
    {
      "cell_type": "markdown",
      "source": [
        "과제 5: 멀티스레딩과 멀티프로세싱\n",
        "\n",
        "1. 스레딩: 한 개의 스레드를 생성하고 실행하는 함수를 작성해주세요.\n",
        "\n",
        "2. 멀티스레딩: 두 개의 스레드를 생성하고 실행하세요.\n",
        "\n",
        "3. 멀티프로세싱: 두 개의 프로세스를 생성하고 실행하세요."
      ],
      "metadata": {
        "id": "tOrX28FZFOYA"
      }
    },
    {
      "cell_type": "code",
      "source": [
        "import threading\n",
        "import multiprocessing\n",
        "import time\n",
        "\n",
        "# 1.스레딩: 한 개의 스레드를 생성하고 실행하는 함수를 작성해주세요.\n",
        "A = 0\n",
        "# 숫자를 출력하는 함수\n",
        "def print_numbers():\n",
        "    global A\n",
        "    for i in range(5):\n",
        "        print(\"i:\",i)\n",
        "        print(\"공통A: \", A)\n",
        "        A+=1\n",
        "        time.sleep(1)\n",
        "\n",
        "# 2. 멀티스레딩: 두 개의 스레드를 생성하고 실행하세요.\n",
        "print(\"멀티스레딩\")\n",
        "thread1 = threading.Thread(target=print_numbers)\n",
        "thread2 = threading.Thread(target=print_numbers)\n",
        "thread1.start()\n",
        "thread2.start()\n",
        "thread1.join()\n",
        "thread2.join()\n",
        "\n",
        "# 3. 멀티프로세싱: 두 개의 프로세스를 생성하고 실행하세요.\n",
        "print(\"멀티프로세싱\")\n",
        "process1 = multiprocessing.Process(target=print_numbers)\n",
        "process2 = multiprocessing.Process(target=print_numbers)\n",
        "process1.start()\n",
        "process2.start()\n",
        "process1.join()\n",
        "process2.join()"
      ],
      "metadata": {
        "id": "6t3JDv6eFOEk",
        "colab": {
          "base_uri": "https://localhost:8080/"
        },
        "outputId": "c6efbcc0-9f02-4aa5-d97f-ea4e5601359d"
      },
      "execution_count": 27,
      "outputs": [
        {
          "output_type": "stream",
          "name": "stdout",
          "text": [
            "멀티스레딩\n",
            "i: 0\n",
            "공통A:  i: 0\n",
            "공통A:  0\n",
            "0\n",
            "i: 1\n",
            "공통A: i: 1\n",
            "공통A:  2\n",
            " 2\n",
            "i: 2\n",
            "공통A:  4\n",
            "i: 2\n",
            "공통A:  5\n",
            "i: 3\n",
            "공통A:  6\n",
            "i: 3\n",
            "공통A:  7\n",
            "i: 4\n",
            "공통A:  i: 8\n",
            "4\n",
            "공통A:  9\n",
            "멀티프로세싱\n",
            "i: 0\n",
            "공통A:  i:10\n",
            " 0\n",
            "공통A:  10\n",
            "i: 1\n",
            "공통A:  11\n",
            "i: 1공통A: \n",
            " 11\n",
            "i:i: 2 \n",
            "2공통A: \n",
            "공통A:   1212\n",
            "\n",
            "i:i: 3\n",
            "공통A:  13\n",
            " 3\n",
            "공통A:  13\n",
            "i: 4\n",
            "공통A:  14\n",
            "i: 4\n",
            "공통A:  14\n"
          ]
        }
      ]
    }
  ]
}