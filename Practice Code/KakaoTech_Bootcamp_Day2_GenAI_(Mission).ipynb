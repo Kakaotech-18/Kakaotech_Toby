{
  "nbformat": 4,
  "nbformat_minor": 0,
  "metadata": {
    "colab": {
      "provenance": []
    },
    "kernelspec": {
      "name": "python3",
      "display_name": "Python 3"
    },
    "language_info": {
      "name": "python"
    }
  },
  "cells": [
    {
      "cell_type": "markdown",
      "source": [
        "## Mission: Kaggle의 데이터를 선정해 데이터 전처리 파이프라인 구축해보기\n",
        "- 전처리가 쉬운 데이터를 선택하기 보단, 본인이 흥미있는 분야 데이터를 선정 권장\n",
        "- 전처리 시나리오\n",
        "- 전처리 코드\n",
        "- 전처리 전후 데이터\n",
        "- 전처리방법 적용 이유\n",
        "- 기타"
      ],
      "metadata": {
        "id": "tMz9mLxkUali"
      }
    },
    {
      "cell_type": "markdown",
      "source": [
        "## 주제선정: kbo baseball for kaggle\n",
        "### 1990 ~ 2018 korean baseball pitcher's data\n",
        "- 1990년 부터 2018년까지의 선수들의 기록을 바탕으로 다음 시즌의 AB 혹은 OPS를 예측할 수 있도록 구성 되어 있습니다.\n"
      ],
      "metadata": {
        "id": "v74EqQU7VpQs"
      }
    },
    {
      "cell_type": "markdown",
      "source": [
        "### 1. AB (At Bats)\n",
        "- **정의**: At Bats는 타자가 공식적으로 타석에 들어서서 투수와 승부를 벌인 횟수를 의미합니다.\n",
        "- **계산 방법**: AB는 안타(H), 아웃, 실책, 야수 선택으로 타석이 끝난 경우를 포함합니다. 하지만 다음과 같은 상황은 포함되지 않습니다:\n",
        "  - 볼넷(BB)\n",
        "  - 사구(HBP)\n",
        "  - 희생 번트(SH)\n",
        "  - 희생 플라이(SF)\n",
        "  - 타격 방해\n",
        "  - 주자 방해\n",
        "  \n",
        "- **예시**: 만약 한 경기에 타자가 4번 타석에 들어서서 2번 안타를 치고 1번 아웃을 당했으며 1번 볼넷을 얻었다면, AB는 3입니다.\n",
        "\n",
        "### 2. OPS (On-base Plus Slugging)\n",
        "- **정의**: OPS는 타자의 출루율(On-base Percentage, OBP)과 장타율(Slugging Percentage, SLG)을 합한 값입니다. 타자의 타격 능력과 출루 능력을 종합적으로 평가하는 지표로 사용됩니다.\n",
        "- **계산 방법**:\n",
        "  OPS = OBP + SLG\n",
        "  여기서,\n",
        "  OBP = H + BB + HBP / AB + BB + HBP + SF\n",
        "  SLG = 총루타수 (TB) / AB\n",
        "  - H: 안타 수\n",
        "  - BB: 볼넷 수\n",
        "  - HBP: 사구 수\n",
        "  - SF: 희생 플라이 수\n",
        "  - TB: 총루타수 (단타는 1루타, 2루타는 2루타, 3루타는 3루타, 홈런은 4루타로 계산)\n",
        "  \n",
        "- **예시**: 한 시즌에 타자가 150번 타석에 들어서서 40번 안타를 치고, 20번 볼넷을 얻었으며, 5번 사구를 당하고, 2번 희생 플라이를 기록했다고 가정해 보겠습니다. 또한, 10개의 2루타, 2개의 3루타, 5개의 홈런을 쳤다면:\n",
        "  - OBP 계산:\n",
        "  OBP = 40 + 20 + 5 / 150 + 20 + 5 + 2 = 65 / 177 = 0.367~\n",
        "  - SLG 계산:\n",
        "    - TB: (40 + (10 * 2) + (2 * 3) + (5 * 4) = 40 + 20 + 6 + 20 = 86)\n",
        "  - SLG = 86 / 150 = 0.573\n",
        "  - OPS 계산:\n",
        "    - OPS = 0.367 + 0.573 = 0.940\n",
        "\n",
        "OPS는 타자의 전반적인 공격력을 평가하는 데 유용하며, 높은 OPS는 뛰어난 출루 능력과 장타력을 의미합니다.\n",
        "\n",
        "이러한 지표들은 야구에서 타자의 성적을 종합적으로 평가하고 비교하는 데 중요한 역할을 합니다."
      ],
      "metadata": {
        "id": "WCmLEOyJV3xR"
      }
    },
    {
      "cell_type": "markdown",
      "source": [
        "Dataset Link: https://www.kaggle.com/datasets/bluemumin/kbo-baseball-for-kaggle?resource=download"
      ],
      "metadata": {
        "id": "1ZdWG8o0XMx5"
      }
    },
    {
      "cell_type": "code",
      "source": [
        "!pip install kaggle"
      ],
      "metadata": {
        "colab": {
          "base_uri": "https://localhost:8080/"
        },
        "id": "cnHc0egMWy3Y",
        "outputId": "35cbda16-c02a-4231-c8f2-571374b83361"
      },
      "execution_count": 1,
      "outputs": [
        {
          "output_type": "stream",
          "name": "stdout",
          "text": [
            "Requirement already satisfied: kaggle in /usr/local/lib/python3.10/dist-packages (1.6.14)\n",
            "Requirement already satisfied: six>=1.10 in /usr/local/lib/python3.10/dist-packages (from kaggle) (1.16.0)\n",
            "Requirement already satisfied: certifi>=2023.7.22 in /usr/local/lib/python3.10/dist-packages (from kaggle) (2024.6.2)\n",
            "Requirement already satisfied: python-dateutil in /usr/local/lib/python3.10/dist-packages (from kaggle) (2.8.2)\n",
            "Requirement already satisfied: requests in /usr/local/lib/python3.10/dist-packages (from kaggle) (2.31.0)\n",
            "Requirement already satisfied: tqdm in /usr/local/lib/python3.10/dist-packages (from kaggle) (4.66.4)\n",
            "Requirement already satisfied: python-slugify in /usr/local/lib/python3.10/dist-packages (from kaggle) (8.0.4)\n",
            "Requirement already satisfied: urllib3 in /usr/local/lib/python3.10/dist-packages (from kaggle) (2.0.7)\n",
            "Requirement already satisfied: bleach in /usr/local/lib/python3.10/dist-packages (from kaggle) (6.1.0)\n",
            "Requirement already satisfied: webencodings in /usr/local/lib/python3.10/dist-packages (from bleach->kaggle) (0.5.1)\n",
            "Requirement already satisfied: text-unidecode>=1.3 in /usr/local/lib/python3.10/dist-packages (from python-slugify->kaggle) (1.3)\n",
            "Requirement already satisfied: charset-normalizer<4,>=2 in /usr/local/lib/python3.10/dist-packages (from requests->kaggle) (3.3.2)\n",
            "Requirement already satisfied: idna<4,>=2.5 in /usr/local/lib/python3.10/dist-packages (from requests->kaggle) (3.7)\n"
          ]
        }
      ]
    },
    {
      "cell_type": "code",
      "execution_count": 2,
      "metadata": {
        "colab": {
          "base_uri": "https://localhost:8080/"
        },
        "id": "3NOmGJt-UKDO",
        "outputId": "6c57b47c-1e58-4b12-c60e-0a8fcd75571a"
      },
      "outputs": [
        {
          "output_type": "stream",
          "name": "stdout",
          "text": [
            "Dataset URL: https://www.kaggle.com/datasets/bluemumin/kbo-baseball-for-kaggle\n",
            "License(s): copyright-authors\n",
            "Downloading kbo-baseball-for-kaggle.zip to /content\n",
            "100% 111k/111k [00:00<00:00, 400kB/s]\n",
            "100% 111k/111k [00:00<00:00, 399kB/s]\n"
          ]
        }
      ],
      "source": [
        "!kaggle datasets download -d bluemumin/kbo-baseball-for-kaggle"
      ]
    },
    {
      "cell_type": "code",
      "source": [
        "!unzip kbo-baseball-for-kaggle"
      ],
      "metadata": {
        "colab": {
          "base_uri": "https://localhost:8080/"
        },
        "id": "mU2IoViZXaVB",
        "outputId": "8db7cddb-ff5b-481e-876c-9991ab33cf41"
      },
      "execution_count": 3,
      "outputs": [
        {
          "output_type": "stream",
          "name": "stdout",
          "text": [
            "Archive:  kbo-baseball-for-kaggle.zip\n",
            "  inflating: 2019_kbo_for_kaggle_v2.csv  \n"
          ]
        }
      ]
    },
    {
      "cell_type": "code",
      "source": [
        "# pandas 라이브러리 사용\n",
        "import pandas as pd\n",
        "\n",
        "# CSV load\n",
        "data = pd.read_csv('/content/2019_kbo_for_kaggle_v2.csv')"
      ],
      "metadata": {
        "id": "cWahRO5hXePf"
      },
      "execution_count": 4,
      "outputs": []
    },
    {
      "cell_type": "code",
      "source": [
        "# 데이터 구조 확인\n",
        "data.info()"
      ],
      "metadata": {
        "colab": {
          "base_uri": "https://localhost:8080/"
        },
        "id": "bieqCn36Xk3t",
        "outputId": "c907c237-ca54-4d65-aa38-9761fb486d6a"
      },
      "execution_count": 5,
      "outputs": [
        {
          "output_type": "stream",
          "name": "stdout",
          "text": [
            "<class 'pandas.core.frame.DataFrame'>\n",
            "RangeIndex: 1913 entries, 0 to 1912\n",
            "Data columns (total 37 columns):\n",
            " #   Column       Non-Null Count  Dtype  \n",
            "---  ------       --------------  -----  \n",
            " 0   batter_name  1913 non-null   object \n",
            " 1   age          1913 non-null   float64\n",
            " 2   G            1913 non-null   float64\n",
            " 3   PA           1913 non-null   float64\n",
            " 4   AB           1913 non-null   float64\n",
            " 5   R            1913 non-null   float64\n",
            " 6   H            1913 non-null   float64\n",
            " 7   2B           1913 non-null   float64\n",
            " 8   3B           1913 non-null   float64\n",
            " 9   HR           1913 non-null   float64\n",
            " 10  TB           1913 non-null   float64\n",
            " 11  RBI          1913 non-null   float64\n",
            " 12  SB           1913 non-null   float64\n",
            " 13  CS           1913 non-null   float64\n",
            " 14  BB           1913 non-null   float64\n",
            " 15  HBP          1913 non-null   float64\n",
            " 16  GB           1913 non-null   float64\n",
            " 17  SO           1913 non-null   float64\n",
            " 18  GDP          1913 non-null   float64\n",
            " 19  BU           1913 non-null   float64\n",
            " 20  fly          1913 non-null   float64\n",
            " 21  year         1913 non-null   int64  \n",
            " 22  salary       1913 non-null   int64  \n",
            " 23  war          1913 non-null   float64\n",
            " 24  year_born    1913 non-null   object \n",
            " 25  hand2        1913 non-null   object \n",
            " 26  cp           1913 non-null   object \n",
            " 27  tp           1913 non-null   object \n",
            " 28  1B           1913 non-null   float64\n",
            " 29  FBP          1913 non-null   float64\n",
            " 30  avg          1899 non-null   float64\n",
            " 31  OBP          1901 non-null   float64\n",
            " 32  SLG          1899 non-null   float64\n",
            " 33  OPS          1899 non-null   float64\n",
            " 34  p_year       1913 non-null   int64  \n",
            " 35  YAB          1913 non-null   float64\n",
            " 36  YOPS         1898 non-null   float64\n",
            "dtypes: float64(29), int64(3), object(5)\n",
            "memory usage: 553.1+ KB\n"
          ]
        }
      ]
    },
    {
      "cell_type": "code",
      "source": [
        "# 데이터 샘플 확인\n",
        "data.head(5)"
      ],
      "metadata": {
        "colab": {
          "base_uri": "https://localhost:8080/",
          "height": 342
        },
        "id": "q6lzkfmTXzcL",
        "outputId": "d2d9e37c-59a0-4d3a-e5af-b9d50686c7d0"
      },
      "execution_count": 6,
      "outputs": [
        {
          "output_type": "execute_result",
          "data": {
            "text/plain": [
              "  batter_name   age     G     PA     AB     R     H   2B   3B    HR  ...  tp  \\\n",
              "0         백용환  24.0  26.0   58.0   52.0   4.0   9.0  4.0  0.0   0.0  ...  포수   \n",
              "1         백용환  25.0  47.0   86.0   79.0   8.0  14.0  2.0  0.0   4.0  ...  포수   \n",
              "2         백용환  26.0  65.0  177.0  154.0  22.0  36.0  6.0  0.0  10.0  ...  포수   \n",
              "3         백용환  27.0  80.0  199.0  174.0  12.0  34.0  7.0  0.0   4.0  ...  포수   \n",
              "4         백용환  28.0  15.0   20.0   17.0   2.0   3.0  0.0  0.0   0.0  ...  포수   \n",
              "\n",
              "     1B   FBP    avg    OBP    SLG    OPS  p_year    YAB   YOPS  \n",
              "0   5.0   6.0  0.173  0.259  0.250  0.509    2014   79.0  0.580  \n",
              "1   8.0   5.0  0.177  0.226  0.354  0.580    2015  154.0  0.784  \n",
              "2  20.0  20.0  0.234  0.316  0.468  0.784    2016  174.0  0.581  \n",
              "3  23.0  20.0  0.195  0.276  0.305  0.581    2017   17.0  0.476  \n",
              "4   3.0   3.0  0.176  0.300  0.176  0.476    2018   47.0  0.691  \n",
              "\n",
              "[5 rows x 37 columns]"
            ],
            "text/html": [
              "\n",
              "  <div id=\"df-cdbdcea9-80f2-4457-b34a-13f512674938\" class=\"colab-df-container\">\n",
              "    <div>\n",
              "<style scoped>\n",
              "    .dataframe tbody tr th:only-of-type {\n",
              "        vertical-align: middle;\n",
              "    }\n",
              "\n",
              "    .dataframe tbody tr th {\n",
              "        vertical-align: top;\n",
              "    }\n",
              "\n",
              "    .dataframe thead th {\n",
              "        text-align: right;\n",
              "    }\n",
              "</style>\n",
              "<table border=\"1\" class=\"dataframe\">\n",
              "  <thead>\n",
              "    <tr style=\"text-align: right;\">\n",
              "      <th></th>\n",
              "      <th>batter_name</th>\n",
              "      <th>age</th>\n",
              "      <th>G</th>\n",
              "      <th>PA</th>\n",
              "      <th>AB</th>\n",
              "      <th>R</th>\n",
              "      <th>H</th>\n",
              "      <th>2B</th>\n",
              "      <th>3B</th>\n",
              "      <th>HR</th>\n",
              "      <th>...</th>\n",
              "      <th>tp</th>\n",
              "      <th>1B</th>\n",
              "      <th>FBP</th>\n",
              "      <th>avg</th>\n",
              "      <th>OBP</th>\n",
              "      <th>SLG</th>\n",
              "      <th>OPS</th>\n",
              "      <th>p_year</th>\n",
              "      <th>YAB</th>\n",
              "      <th>YOPS</th>\n",
              "    </tr>\n",
              "  </thead>\n",
              "  <tbody>\n",
              "    <tr>\n",
              "      <th>0</th>\n",
              "      <td>백용환</td>\n",
              "      <td>24.0</td>\n",
              "      <td>26.0</td>\n",
              "      <td>58.0</td>\n",
              "      <td>52.0</td>\n",
              "      <td>4.0</td>\n",
              "      <td>9.0</td>\n",
              "      <td>4.0</td>\n",
              "      <td>0.0</td>\n",
              "      <td>0.0</td>\n",
              "      <td>...</td>\n",
              "      <td>포수</td>\n",
              "      <td>5.0</td>\n",
              "      <td>6.0</td>\n",
              "      <td>0.173</td>\n",
              "      <td>0.259</td>\n",
              "      <td>0.250</td>\n",
              "      <td>0.509</td>\n",
              "      <td>2014</td>\n",
              "      <td>79.0</td>\n",
              "      <td>0.580</td>\n",
              "    </tr>\n",
              "    <tr>\n",
              "      <th>1</th>\n",
              "      <td>백용환</td>\n",
              "      <td>25.0</td>\n",
              "      <td>47.0</td>\n",
              "      <td>86.0</td>\n",
              "      <td>79.0</td>\n",
              "      <td>8.0</td>\n",
              "      <td>14.0</td>\n",
              "      <td>2.0</td>\n",
              "      <td>0.0</td>\n",
              "      <td>4.0</td>\n",
              "      <td>...</td>\n",
              "      <td>포수</td>\n",
              "      <td>8.0</td>\n",
              "      <td>5.0</td>\n",
              "      <td>0.177</td>\n",
              "      <td>0.226</td>\n",
              "      <td>0.354</td>\n",
              "      <td>0.580</td>\n",
              "      <td>2015</td>\n",
              "      <td>154.0</td>\n",
              "      <td>0.784</td>\n",
              "    </tr>\n",
              "    <tr>\n",
              "      <th>2</th>\n",
              "      <td>백용환</td>\n",
              "      <td>26.0</td>\n",
              "      <td>65.0</td>\n",
              "      <td>177.0</td>\n",
              "      <td>154.0</td>\n",
              "      <td>22.0</td>\n",
              "      <td>36.0</td>\n",
              "      <td>6.0</td>\n",
              "      <td>0.0</td>\n",
              "      <td>10.0</td>\n",
              "      <td>...</td>\n",
              "      <td>포수</td>\n",
              "      <td>20.0</td>\n",
              "      <td>20.0</td>\n",
              "      <td>0.234</td>\n",
              "      <td>0.316</td>\n",
              "      <td>0.468</td>\n",
              "      <td>0.784</td>\n",
              "      <td>2016</td>\n",
              "      <td>174.0</td>\n",
              "      <td>0.581</td>\n",
              "    </tr>\n",
              "    <tr>\n",
              "      <th>3</th>\n",
              "      <td>백용환</td>\n",
              "      <td>27.0</td>\n",
              "      <td>80.0</td>\n",
              "      <td>199.0</td>\n",
              "      <td>174.0</td>\n",
              "      <td>12.0</td>\n",
              "      <td>34.0</td>\n",
              "      <td>7.0</td>\n",
              "      <td>0.0</td>\n",
              "      <td>4.0</td>\n",
              "      <td>...</td>\n",
              "      <td>포수</td>\n",
              "      <td>23.0</td>\n",
              "      <td>20.0</td>\n",
              "      <td>0.195</td>\n",
              "      <td>0.276</td>\n",
              "      <td>0.305</td>\n",
              "      <td>0.581</td>\n",
              "      <td>2017</td>\n",
              "      <td>17.0</td>\n",
              "      <td>0.476</td>\n",
              "    </tr>\n",
              "    <tr>\n",
              "      <th>4</th>\n",
              "      <td>백용환</td>\n",
              "      <td>28.0</td>\n",
              "      <td>15.0</td>\n",
              "      <td>20.0</td>\n",
              "      <td>17.0</td>\n",
              "      <td>2.0</td>\n",
              "      <td>3.0</td>\n",
              "      <td>0.0</td>\n",
              "      <td>0.0</td>\n",
              "      <td>0.0</td>\n",
              "      <td>...</td>\n",
              "      <td>포수</td>\n",
              "      <td>3.0</td>\n",
              "      <td>3.0</td>\n",
              "      <td>0.176</td>\n",
              "      <td>0.300</td>\n",
              "      <td>0.176</td>\n",
              "      <td>0.476</td>\n",
              "      <td>2018</td>\n",
              "      <td>47.0</td>\n",
              "      <td>0.691</td>\n",
              "    </tr>\n",
              "  </tbody>\n",
              "</table>\n",
              "<p>5 rows × 37 columns</p>\n",
              "</div>\n",
              "    <div class=\"colab-df-buttons\">\n",
              "\n",
              "  <div class=\"colab-df-container\">\n",
              "    <button class=\"colab-df-convert\" onclick=\"convertToInteractive('df-cdbdcea9-80f2-4457-b34a-13f512674938')\"\n",
              "            title=\"Convert this dataframe to an interactive table.\"\n",
              "            style=\"display:none;\">\n",
              "\n",
              "  <svg xmlns=\"http://www.w3.org/2000/svg\" height=\"24px\" viewBox=\"0 -960 960 960\">\n",
              "    <path d=\"M120-120v-720h720v720H120Zm60-500h600v-160H180v160Zm220 220h160v-160H400v160Zm0 220h160v-160H400v160ZM180-400h160v-160H180v160Zm440 0h160v-160H620v160ZM180-180h160v-160H180v160Zm440 0h160v-160H620v160Z\"/>\n",
              "  </svg>\n",
              "    </button>\n",
              "\n",
              "  <style>\n",
              "    .colab-df-container {\n",
              "      display:flex;\n",
              "      gap: 12px;\n",
              "    }\n",
              "\n",
              "    .colab-df-convert {\n",
              "      background-color: #E8F0FE;\n",
              "      border: none;\n",
              "      border-radius: 50%;\n",
              "      cursor: pointer;\n",
              "      display: none;\n",
              "      fill: #1967D2;\n",
              "      height: 32px;\n",
              "      padding: 0 0 0 0;\n",
              "      width: 32px;\n",
              "    }\n",
              "\n",
              "    .colab-df-convert:hover {\n",
              "      background-color: #E2EBFA;\n",
              "      box-shadow: 0px 1px 2px rgba(60, 64, 67, 0.3), 0px 1px 3px 1px rgba(60, 64, 67, 0.15);\n",
              "      fill: #174EA6;\n",
              "    }\n",
              "\n",
              "    .colab-df-buttons div {\n",
              "      margin-bottom: 4px;\n",
              "    }\n",
              "\n",
              "    [theme=dark] .colab-df-convert {\n",
              "      background-color: #3B4455;\n",
              "      fill: #D2E3FC;\n",
              "    }\n",
              "\n",
              "    [theme=dark] .colab-df-convert:hover {\n",
              "      background-color: #434B5C;\n",
              "      box-shadow: 0px 1px 3px 1px rgba(0, 0, 0, 0.15);\n",
              "      filter: drop-shadow(0px 1px 2px rgba(0, 0, 0, 0.3));\n",
              "      fill: #FFFFFF;\n",
              "    }\n",
              "  </style>\n",
              "\n",
              "    <script>\n",
              "      const buttonEl =\n",
              "        document.querySelector('#df-cdbdcea9-80f2-4457-b34a-13f512674938 button.colab-df-convert');\n",
              "      buttonEl.style.display =\n",
              "        google.colab.kernel.accessAllowed ? 'block' : 'none';\n",
              "\n",
              "      async function convertToInteractive(key) {\n",
              "        const element = document.querySelector('#df-cdbdcea9-80f2-4457-b34a-13f512674938');\n",
              "        const dataTable =\n",
              "          await google.colab.kernel.invokeFunction('convertToInteractive',\n",
              "                                                    [key], {});\n",
              "        if (!dataTable) return;\n",
              "\n",
              "        const docLinkHtml = 'Like what you see? Visit the ' +\n",
              "          '<a target=\"_blank\" href=https://colab.research.google.com/notebooks/data_table.ipynb>data table notebook</a>'\n",
              "          + ' to learn more about interactive tables.';\n",
              "        element.innerHTML = '';\n",
              "        dataTable['output_type'] = 'display_data';\n",
              "        await google.colab.output.renderOutput(dataTable, element);\n",
              "        const docLink = document.createElement('div');\n",
              "        docLink.innerHTML = docLinkHtml;\n",
              "        element.appendChild(docLink);\n",
              "      }\n",
              "    </script>\n",
              "  </div>\n",
              "\n",
              "\n",
              "<div id=\"df-a41eb780-effe-4a0a-ac37-6a5387e790a2\">\n",
              "  <button class=\"colab-df-quickchart\" onclick=\"quickchart('df-a41eb780-effe-4a0a-ac37-6a5387e790a2')\"\n",
              "            title=\"Suggest charts\"\n",
              "            style=\"display:none;\">\n",
              "\n",
              "<svg xmlns=\"http://www.w3.org/2000/svg\" height=\"24px\"viewBox=\"0 0 24 24\"\n",
              "     width=\"24px\">\n",
              "    <g>\n",
              "        <path d=\"M19 3H5c-1.1 0-2 .9-2 2v14c0 1.1.9 2 2 2h14c1.1 0 2-.9 2-2V5c0-1.1-.9-2-2-2zM9 17H7v-7h2v7zm4 0h-2V7h2v10zm4 0h-2v-4h2v4z\"/>\n",
              "    </g>\n",
              "</svg>\n",
              "  </button>\n",
              "\n",
              "<style>\n",
              "  .colab-df-quickchart {\n",
              "      --bg-color: #E8F0FE;\n",
              "      --fill-color: #1967D2;\n",
              "      --hover-bg-color: #E2EBFA;\n",
              "      --hover-fill-color: #174EA6;\n",
              "      --disabled-fill-color: #AAA;\n",
              "      --disabled-bg-color: #DDD;\n",
              "  }\n",
              "\n",
              "  [theme=dark] .colab-df-quickchart {\n",
              "      --bg-color: #3B4455;\n",
              "      --fill-color: #D2E3FC;\n",
              "      --hover-bg-color: #434B5C;\n",
              "      --hover-fill-color: #FFFFFF;\n",
              "      --disabled-bg-color: #3B4455;\n",
              "      --disabled-fill-color: #666;\n",
              "  }\n",
              "\n",
              "  .colab-df-quickchart {\n",
              "    background-color: var(--bg-color);\n",
              "    border: none;\n",
              "    border-radius: 50%;\n",
              "    cursor: pointer;\n",
              "    display: none;\n",
              "    fill: var(--fill-color);\n",
              "    height: 32px;\n",
              "    padding: 0;\n",
              "    width: 32px;\n",
              "  }\n",
              "\n",
              "  .colab-df-quickchart:hover {\n",
              "    background-color: var(--hover-bg-color);\n",
              "    box-shadow: 0 1px 2px rgba(60, 64, 67, 0.3), 0 1px 3px 1px rgba(60, 64, 67, 0.15);\n",
              "    fill: var(--button-hover-fill-color);\n",
              "  }\n",
              "\n",
              "  .colab-df-quickchart-complete:disabled,\n",
              "  .colab-df-quickchart-complete:disabled:hover {\n",
              "    background-color: var(--disabled-bg-color);\n",
              "    fill: var(--disabled-fill-color);\n",
              "    box-shadow: none;\n",
              "  }\n",
              "\n",
              "  .colab-df-spinner {\n",
              "    border: 2px solid var(--fill-color);\n",
              "    border-color: transparent;\n",
              "    border-bottom-color: var(--fill-color);\n",
              "    animation:\n",
              "      spin 1s steps(1) infinite;\n",
              "  }\n",
              "\n",
              "  @keyframes spin {\n",
              "    0% {\n",
              "      border-color: transparent;\n",
              "      border-bottom-color: var(--fill-color);\n",
              "      border-left-color: var(--fill-color);\n",
              "    }\n",
              "    20% {\n",
              "      border-color: transparent;\n",
              "      border-left-color: var(--fill-color);\n",
              "      border-top-color: var(--fill-color);\n",
              "    }\n",
              "    30% {\n",
              "      border-color: transparent;\n",
              "      border-left-color: var(--fill-color);\n",
              "      border-top-color: var(--fill-color);\n",
              "      border-right-color: var(--fill-color);\n",
              "    }\n",
              "    40% {\n",
              "      border-color: transparent;\n",
              "      border-right-color: var(--fill-color);\n",
              "      border-top-color: var(--fill-color);\n",
              "    }\n",
              "    60% {\n",
              "      border-color: transparent;\n",
              "      border-right-color: var(--fill-color);\n",
              "    }\n",
              "    80% {\n",
              "      border-color: transparent;\n",
              "      border-right-color: var(--fill-color);\n",
              "      border-bottom-color: var(--fill-color);\n",
              "    }\n",
              "    90% {\n",
              "      border-color: transparent;\n",
              "      border-bottom-color: var(--fill-color);\n",
              "    }\n",
              "  }\n",
              "</style>\n",
              "\n",
              "  <script>\n",
              "    async function quickchart(key) {\n",
              "      const quickchartButtonEl =\n",
              "        document.querySelector('#' + key + ' button');\n",
              "      quickchartButtonEl.disabled = true;  // To prevent multiple clicks.\n",
              "      quickchartButtonEl.classList.add('colab-df-spinner');\n",
              "      try {\n",
              "        const charts = await google.colab.kernel.invokeFunction(\n",
              "            'suggestCharts', [key], {});\n",
              "      } catch (error) {\n",
              "        console.error('Error during call to suggestCharts:', error);\n",
              "      }\n",
              "      quickchartButtonEl.classList.remove('colab-df-spinner');\n",
              "      quickchartButtonEl.classList.add('colab-df-quickchart-complete');\n",
              "    }\n",
              "    (() => {\n",
              "      let quickchartButtonEl =\n",
              "        document.querySelector('#df-a41eb780-effe-4a0a-ac37-6a5387e790a2 button');\n",
              "      quickchartButtonEl.style.display =\n",
              "        google.colab.kernel.accessAllowed ? 'block' : 'none';\n",
              "    })();\n",
              "  </script>\n",
              "</div>\n",
              "\n",
              "    </div>\n",
              "  </div>\n"
            ],
            "application/vnd.google.colaboratory.intrinsic+json": {
              "type": "dataframe",
              "variable_name": "data"
            }
          },
          "metadata": {},
          "execution_count": 6
        }
      ]
    },
    {
      "cell_type": "code",
      "source": [
        "# 데이터 기초통계 확인\n",
        "data.describe()"
      ],
      "metadata": {
        "colab": {
          "base_uri": "https://localhost:8080/",
          "height": 350
        },
        "id": "vi9RmecCX187",
        "outputId": "ef74897b-389d-4cb8-da4a-548f91534399"
      },
      "execution_count": 7,
      "outputs": [
        {
          "output_type": "execute_result",
          "data": {
            "text/plain": [
              "               age            G           PA           AB            R  \\\n",
              "count  1913.000000  1913.000000  1913.000000  1913.000000  1913.000000   \n",
              "mean     26.879247    79.353894   261.762154   228.465238    33.994773   \n",
              "std       4.543899    44.224675   195.957729   170.588573    29.155530   \n",
              "min      18.000000     1.000000     0.000000     0.000000     0.000000   \n",
              "25%      24.000000    39.000000    64.000000    56.000000     8.000000   \n",
              "50%      27.000000    91.000000   254.000000   221.000000    28.000000   \n",
              "75%      30.000000   119.000000   441.000000   383.000000    54.000000   \n",
              "max      41.000000   144.000000   672.000000   576.000000   135.000000   \n",
              "\n",
              "                 H           2B           3B           HR           TB  ...  \\\n",
              "count  1913.000000  1913.000000  1913.000000  1913.000000  1913.000000  ...   \n",
              "mean     64.009409    11.328280     1.098798     6.357031    96.606377  ...   \n",
              "std      52.965894    10.182175     1.760849     8.454875    84.708232  ...   \n",
              "min       0.000000     0.000000     0.000000     0.000000     0.000000  ...   \n",
              "25%      12.000000     2.000000     0.000000     0.000000    17.000000  ...   \n",
              "50%      57.000000     9.000000     0.000000     3.000000    81.000000  ...   \n",
              "75%     109.000000    19.000000     2.000000     9.000000   162.000000  ...   \n",
              "max     201.000000    47.000000    17.000000    54.000000   373.000000  ...   \n",
              "\n",
              "               war           1B          FBP          avg          OBP  \\\n",
              "count  1913.000000  1913.000000  1913.000000  1899.000000  1901.000000   \n",
              "mean      1.290965    45.225301    27.546785     0.247854     0.318248   \n",
              "std       1.841447    36.955290    24.357927     0.089357     0.101919   \n",
              "min      -1.616000     0.000000     0.000000     0.000000     0.000000   \n",
              "25%      -0.047000     9.000000     5.000000     0.219000     0.289000   \n",
              "50%       0.514000    41.000000    22.000000     0.262000     0.333000   \n",
              "75%       2.305000    76.000000    44.000000     0.295000     0.371000   \n",
              "max      10.873000   142.000000   124.000000     1.000000     1.000000   \n",
              "\n",
              "               SLG          OPS       p_year          YAB         YOPS  \n",
              "count  1899.000000  1899.000000  1913.000000  1913.000000  1898.000000  \n",
              "mean      0.361953     0.679483  2012.032410   240.537376     0.678652  \n",
              "std       0.154357     0.241919     6.024791   170.187193     0.219826  \n",
              "min       0.000000     0.000000  1991.000000     0.000000     0.000000  \n",
              "25%       0.294500     0.589000  2008.000000    70.000000     0.592000  \n",
              "50%       0.372000     0.706000  2014.000000   245.000000     0.704000  \n",
              "75%       0.447500     0.813000  2017.000000   395.000000     0.809000  \n",
              "max       3.000000     4.000000  2019.000000   576.000000     2.000000  \n",
              "\n",
              "[8 rows x 32 columns]"
            ],
            "text/html": [
              "\n",
              "  <div id=\"df-b726f446-00d3-45b2-9d1e-b5e709cb3339\" class=\"colab-df-container\">\n",
              "    <div>\n",
              "<style scoped>\n",
              "    .dataframe tbody tr th:only-of-type {\n",
              "        vertical-align: middle;\n",
              "    }\n",
              "\n",
              "    .dataframe tbody tr th {\n",
              "        vertical-align: top;\n",
              "    }\n",
              "\n",
              "    .dataframe thead th {\n",
              "        text-align: right;\n",
              "    }\n",
              "</style>\n",
              "<table border=\"1\" class=\"dataframe\">\n",
              "  <thead>\n",
              "    <tr style=\"text-align: right;\">\n",
              "      <th></th>\n",
              "      <th>age</th>\n",
              "      <th>G</th>\n",
              "      <th>PA</th>\n",
              "      <th>AB</th>\n",
              "      <th>R</th>\n",
              "      <th>H</th>\n",
              "      <th>2B</th>\n",
              "      <th>3B</th>\n",
              "      <th>HR</th>\n",
              "      <th>TB</th>\n",
              "      <th>...</th>\n",
              "      <th>war</th>\n",
              "      <th>1B</th>\n",
              "      <th>FBP</th>\n",
              "      <th>avg</th>\n",
              "      <th>OBP</th>\n",
              "      <th>SLG</th>\n",
              "      <th>OPS</th>\n",
              "      <th>p_year</th>\n",
              "      <th>YAB</th>\n",
              "      <th>YOPS</th>\n",
              "    </tr>\n",
              "  </thead>\n",
              "  <tbody>\n",
              "    <tr>\n",
              "      <th>count</th>\n",
              "      <td>1913.000000</td>\n",
              "      <td>1913.000000</td>\n",
              "      <td>1913.000000</td>\n",
              "      <td>1913.000000</td>\n",
              "      <td>1913.000000</td>\n",
              "      <td>1913.000000</td>\n",
              "      <td>1913.000000</td>\n",
              "      <td>1913.000000</td>\n",
              "      <td>1913.000000</td>\n",
              "      <td>1913.000000</td>\n",
              "      <td>...</td>\n",
              "      <td>1913.000000</td>\n",
              "      <td>1913.000000</td>\n",
              "      <td>1913.000000</td>\n",
              "      <td>1899.000000</td>\n",
              "      <td>1901.000000</td>\n",
              "      <td>1899.000000</td>\n",
              "      <td>1899.000000</td>\n",
              "      <td>1913.000000</td>\n",
              "      <td>1913.000000</td>\n",
              "      <td>1898.000000</td>\n",
              "    </tr>\n",
              "    <tr>\n",
              "      <th>mean</th>\n",
              "      <td>26.879247</td>\n",
              "      <td>79.353894</td>\n",
              "      <td>261.762154</td>\n",
              "      <td>228.465238</td>\n",
              "      <td>33.994773</td>\n",
              "      <td>64.009409</td>\n",
              "      <td>11.328280</td>\n",
              "      <td>1.098798</td>\n",
              "      <td>6.357031</td>\n",
              "      <td>96.606377</td>\n",
              "      <td>...</td>\n",
              "      <td>1.290965</td>\n",
              "      <td>45.225301</td>\n",
              "      <td>27.546785</td>\n",
              "      <td>0.247854</td>\n",
              "      <td>0.318248</td>\n",
              "      <td>0.361953</td>\n",
              "      <td>0.679483</td>\n",
              "      <td>2012.032410</td>\n",
              "      <td>240.537376</td>\n",
              "      <td>0.678652</td>\n",
              "    </tr>\n",
              "    <tr>\n",
              "      <th>std</th>\n",
              "      <td>4.543899</td>\n",
              "      <td>44.224675</td>\n",
              "      <td>195.957729</td>\n",
              "      <td>170.588573</td>\n",
              "      <td>29.155530</td>\n",
              "      <td>52.965894</td>\n",
              "      <td>10.182175</td>\n",
              "      <td>1.760849</td>\n",
              "      <td>8.454875</td>\n",
              "      <td>84.708232</td>\n",
              "      <td>...</td>\n",
              "      <td>1.841447</td>\n",
              "      <td>36.955290</td>\n",
              "      <td>24.357927</td>\n",
              "      <td>0.089357</td>\n",
              "      <td>0.101919</td>\n",
              "      <td>0.154357</td>\n",
              "      <td>0.241919</td>\n",
              "      <td>6.024791</td>\n",
              "      <td>170.187193</td>\n",
              "      <td>0.219826</td>\n",
              "    </tr>\n",
              "    <tr>\n",
              "      <th>min</th>\n",
              "      <td>18.000000</td>\n",
              "      <td>1.000000</td>\n",
              "      <td>0.000000</td>\n",
              "      <td>0.000000</td>\n",
              "      <td>0.000000</td>\n",
              "      <td>0.000000</td>\n",
              "      <td>0.000000</td>\n",
              "      <td>0.000000</td>\n",
              "      <td>0.000000</td>\n",
              "      <td>0.000000</td>\n",
              "      <td>...</td>\n",
              "      <td>-1.616000</td>\n",
              "      <td>0.000000</td>\n",
              "      <td>0.000000</td>\n",
              "      <td>0.000000</td>\n",
              "      <td>0.000000</td>\n",
              "      <td>0.000000</td>\n",
              "      <td>0.000000</td>\n",
              "      <td>1991.000000</td>\n",
              "      <td>0.000000</td>\n",
              "      <td>0.000000</td>\n",
              "    </tr>\n",
              "    <tr>\n",
              "      <th>25%</th>\n",
              "      <td>24.000000</td>\n",
              "      <td>39.000000</td>\n",
              "      <td>64.000000</td>\n",
              "      <td>56.000000</td>\n",
              "      <td>8.000000</td>\n",
              "      <td>12.000000</td>\n",
              "      <td>2.000000</td>\n",
              "      <td>0.000000</td>\n",
              "      <td>0.000000</td>\n",
              "      <td>17.000000</td>\n",
              "      <td>...</td>\n",
              "      <td>-0.047000</td>\n",
              "      <td>9.000000</td>\n",
              "      <td>5.000000</td>\n",
              "      <td>0.219000</td>\n",
              "      <td>0.289000</td>\n",
              "      <td>0.294500</td>\n",
              "      <td>0.589000</td>\n",
              "      <td>2008.000000</td>\n",
              "      <td>70.000000</td>\n",
              "      <td>0.592000</td>\n",
              "    </tr>\n",
              "    <tr>\n",
              "      <th>50%</th>\n",
              "      <td>27.000000</td>\n",
              "      <td>91.000000</td>\n",
              "      <td>254.000000</td>\n",
              "      <td>221.000000</td>\n",
              "      <td>28.000000</td>\n",
              "      <td>57.000000</td>\n",
              "      <td>9.000000</td>\n",
              "      <td>0.000000</td>\n",
              "      <td>3.000000</td>\n",
              "      <td>81.000000</td>\n",
              "      <td>...</td>\n",
              "      <td>0.514000</td>\n",
              "      <td>41.000000</td>\n",
              "      <td>22.000000</td>\n",
              "      <td>0.262000</td>\n",
              "      <td>0.333000</td>\n",
              "      <td>0.372000</td>\n",
              "      <td>0.706000</td>\n",
              "      <td>2014.000000</td>\n",
              "      <td>245.000000</td>\n",
              "      <td>0.704000</td>\n",
              "    </tr>\n",
              "    <tr>\n",
              "      <th>75%</th>\n",
              "      <td>30.000000</td>\n",
              "      <td>119.000000</td>\n",
              "      <td>441.000000</td>\n",
              "      <td>383.000000</td>\n",
              "      <td>54.000000</td>\n",
              "      <td>109.000000</td>\n",
              "      <td>19.000000</td>\n",
              "      <td>2.000000</td>\n",
              "      <td>9.000000</td>\n",
              "      <td>162.000000</td>\n",
              "      <td>...</td>\n",
              "      <td>2.305000</td>\n",
              "      <td>76.000000</td>\n",
              "      <td>44.000000</td>\n",
              "      <td>0.295000</td>\n",
              "      <td>0.371000</td>\n",
              "      <td>0.447500</td>\n",
              "      <td>0.813000</td>\n",
              "      <td>2017.000000</td>\n",
              "      <td>395.000000</td>\n",
              "      <td>0.809000</td>\n",
              "    </tr>\n",
              "    <tr>\n",
              "      <th>max</th>\n",
              "      <td>41.000000</td>\n",
              "      <td>144.000000</td>\n",
              "      <td>672.000000</td>\n",
              "      <td>576.000000</td>\n",
              "      <td>135.000000</td>\n",
              "      <td>201.000000</td>\n",
              "      <td>47.000000</td>\n",
              "      <td>17.000000</td>\n",
              "      <td>54.000000</td>\n",
              "      <td>373.000000</td>\n",
              "      <td>...</td>\n",
              "      <td>10.873000</td>\n",
              "      <td>142.000000</td>\n",
              "      <td>124.000000</td>\n",
              "      <td>1.000000</td>\n",
              "      <td>1.000000</td>\n",
              "      <td>3.000000</td>\n",
              "      <td>4.000000</td>\n",
              "      <td>2019.000000</td>\n",
              "      <td>576.000000</td>\n",
              "      <td>2.000000</td>\n",
              "    </tr>\n",
              "  </tbody>\n",
              "</table>\n",
              "<p>8 rows × 32 columns</p>\n",
              "</div>\n",
              "    <div class=\"colab-df-buttons\">\n",
              "\n",
              "  <div class=\"colab-df-container\">\n",
              "    <button class=\"colab-df-convert\" onclick=\"convertToInteractive('df-b726f446-00d3-45b2-9d1e-b5e709cb3339')\"\n",
              "            title=\"Convert this dataframe to an interactive table.\"\n",
              "            style=\"display:none;\">\n",
              "\n",
              "  <svg xmlns=\"http://www.w3.org/2000/svg\" height=\"24px\" viewBox=\"0 -960 960 960\">\n",
              "    <path d=\"M120-120v-720h720v720H120Zm60-500h600v-160H180v160Zm220 220h160v-160H400v160Zm0 220h160v-160H400v160ZM180-400h160v-160H180v160Zm440 0h160v-160H620v160ZM180-180h160v-160H180v160Zm440 0h160v-160H620v160Z\"/>\n",
              "  </svg>\n",
              "    </button>\n",
              "\n",
              "  <style>\n",
              "    .colab-df-container {\n",
              "      display:flex;\n",
              "      gap: 12px;\n",
              "    }\n",
              "\n",
              "    .colab-df-convert {\n",
              "      background-color: #E8F0FE;\n",
              "      border: none;\n",
              "      border-radius: 50%;\n",
              "      cursor: pointer;\n",
              "      display: none;\n",
              "      fill: #1967D2;\n",
              "      height: 32px;\n",
              "      padding: 0 0 0 0;\n",
              "      width: 32px;\n",
              "    }\n",
              "\n",
              "    .colab-df-convert:hover {\n",
              "      background-color: #E2EBFA;\n",
              "      box-shadow: 0px 1px 2px rgba(60, 64, 67, 0.3), 0px 1px 3px 1px rgba(60, 64, 67, 0.15);\n",
              "      fill: #174EA6;\n",
              "    }\n",
              "\n",
              "    .colab-df-buttons div {\n",
              "      margin-bottom: 4px;\n",
              "    }\n",
              "\n",
              "    [theme=dark] .colab-df-convert {\n",
              "      background-color: #3B4455;\n",
              "      fill: #D2E3FC;\n",
              "    }\n",
              "\n",
              "    [theme=dark] .colab-df-convert:hover {\n",
              "      background-color: #434B5C;\n",
              "      box-shadow: 0px 1px 3px 1px rgba(0, 0, 0, 0.15);\n",
              "      filter: drop-shadow(0px 1px 2px rgba(0, 0, 0, 0.3));\n",
              "      fill: #FFFFFF;\n",
              "    }\n",
              "  </style>\n",
              "\n",
              "    <script>\n",
              "      const buttonEl =\n",
              "        document.querySelector('#df-b726f446-00d3-45b2-9d1e-b5e709cb3339 button.colab-df-convert');\n",
              "      buttonEl.style.display =\n",
              "        google.colab.kernel.accessAllowed ? 'block' : 'none';\n",
              "\n",
              "      async function convertToInteractive(key) {\n",
              "        const element = document.querySelector('#df-b726f446-00d3-45b2-9d1e-b5e709cb3339');\n",
              "        const dataTable =\n",
              "          await google.colab.kernel.invokeFunction('convertToInteractive',\n",
              "                                                    [key], {});\n",
              "        if (!dataTable) return;\n",
              "\n",
              "        const docLinkHtml = 'Like what you see? Visit the ' +\n",
              "          '<a target=\"_blank\" href=https://colab.research.google.com/notebooks/data_table.ipynb>data table notebook</a>'\n",
              "          + ' to learn more about interactive tables.';\n",
              "        element.innerHTML = '';\n",
              "        dataTable['output_type'] = 'display_data';\n",
              "        await google.colab.output.renderOutput(dataTable, element);\n",
              "        const docLink = document.createElement('div');\n",
              "        docLink.innerHTML = docLinkHtml;\n",
              "        element.appendChild(docLink);\n",
              "      }\n",
              "    </script>\n",
              "  </div>\n",
              "\n",
              "\n",
              "<div id=\"df-99af5ac2-fdd6-41a7-b1be-1d599076f02b\">\n",
              "  <button class=\"colab-df-quickchart\" onclick=\"quickchart('df-99af5ac2-fdd6-41a7-b1be-1d599076f02b')\"\n",
              "            title=\"Suggest charts\"\n",
              "            style=\"display:none;\">\n",
              "\n",
              "<svg xmlns=\"http://www.w3.org/2000/svg\" height=\"24px\"viewBox=\"0 0 24 24\"\n",
              "     width=\"24px\">\n",
              "    <g>\n",
              "        <path d=\"M19 3H5c-1.1 0-2 .9-2 2v14c0 1.1.9 2 2 2h14c1.1 0 2-.9 2-2V5c0-1.1-.9-2-2-2zM9 17H7v-7h2v7zm4 0h-2V7h2v10zm4 0h-2v-4h2v4z\"/>\n",
              "    </g>\n",
              "</svg>\n",
              "  </button>\n",
              "\n",
              "<style>\n",
              "  .colab-df-quickchart {\n",
              "      --bg-color: #E8F0FE;\n",
              "      --fill-color: #1967D2;\n",
              "      --hover-bg-color: #E2EBFA;\n",
              "      --hover-fill-color: #174EA6;\n",
              "      --disabled-fill-color: #AAA;\n",
              "      --disabled-bg-color: #DDD;\n",
              "  }\n",
              "\n",
              "  [theme=dark] .colab-df-quickchart {\n",
              "      --bg-color: #3B4455;\n",
              "      --fill-color: #D2E3FC;\n",
              "      --hover-bg-color: #434B5C;\n",
              "      --hover-fill-color: #FFFFFF;\n",
              "      --disabled-bg-color: #3B4455;\n",
              "      --disabled-fill-color: #666;\n",
              "  }\n",
              "\n",
              "  .colab-df-quickchart {\n",
              "    background-color: var(--bg-color);\n",
              "    border: none;\n",
              "    border-radius: 50%;\n",
              "    cursor: pointer;\n",
              "    display: none;\n",
              "    fill: var(--fill-color);\n",
              "    height: 32px;\n",
              "    padding: 0;\n",
              "    width: 32px;\n",
              "  }\n",
              "\n",
              "  .colab-df-quickchart:hover {\n",
              "    background-color: var(--hover-bg-color);\n",
              "    box-shadow: 0 1px 2px rgba(60, 64, 67, 0.3), 0 1px 3px 1px rgba(60, 64, 67, 0.15);\n",
              "    fill: var(--button-hover-fill-color);\n",
              "  }\n",
              "\n",
              "  .colab-df-quickchart-complete:disabled,\n",
              "  .colab-df-quickchart-complete:disabled:hover {\n",
              "    background-color: var(--disabled-bg-color);\n",
              "    fill: var(--disabled-fill-color);\n",
              "    box-shadow: none;\n",
              "  }\n",
              "\n",
              "  .colab-df-spinner {\n",
              "    border: 2px solid var(--fill-color);\n",
              "    border-color: transparent;\n",
              "    border-bottom-color: var(--fill-color);\n",
              "    animation:\n",
              "      spin 1s steps(1) infinite;\n",
              "  }\n",
              "\n",
              "  @keyframes spin {\n",
              "    0% {\n",
              "      border-color: transparent;\n",
              "      border-bottom-color: var(--fill-color);\n",
              "      border-left-color: var(--fill-color);\n",
              "    }\n",
              "    20% {\n",
              "      border-color: transparent;\n",
              "      border-left-color: var(--fill-color);\n",
              "      border-top-color: var(--fill-color);\n",
              "    }\n",
              "    30% {\n",
              "      border-color: transparent;\n",
              "      border-left-color: var(--fill-color);\n",
              "      border-top-color: var(--fill-color);\n",
              "      border-right-color: var(--fill-color);\n",
              "    }\n",
              "    40% {\n",
              "      border-color: transparent;\n",
              "      border-right-color: var(--fill-color);\n",
              "      border-top-color: var(--fill-color);\n",
              "    }\n",
              "    60% {\n",
              "      border-color: transparent;\n",
              "      border-right-color: var(--fill-color);\n",
              "    }\n",
              "    80% {\n",
              "      border-color: transparent;\n",
              "      border-right-color: var(--fill-color);\n",
              "      border-bottom-color: var(--fill-color);\n",
              "    }\n",
              "    90% {\n",
              "      border-color: transparent;\n",
              "      border-bottom-color: var(--fill-color);\n",
              "    }\n",
              "  }\n",
              "</style>\n",
              "\n",
              "  <script>\n",
              "    async function quickchart(key) {\n",
              "      const quickchartButtonEl =\n",
              "        document.querySelector('#' + key + ' button');\n",
              "      quickchartButtonEl.disabled = true;  // To prevent multiple clicks.\n",
              "      quickchartButtonEl.classList.add('colab-df-spinner');\n",
              "      try {\n",
              "        const charts = await google.colab.kernel.invokeFunction(\n",
              "            'suggestCharts', [key], {});\n",
              "      } catch (error) {\n",
              "        console.error('Error during call to suggestCharts:', error);\n",
              "      }\n",
              "      quickchartButtonEl.classList.remove('colab-df-spinner');\n",
              "      quickchartButtonEl.classList.add('colab-df-quickchart-complete');\n",
              "    }\n",
              "    (() => {\n",
              "      let quickchartButtonEl =\n",
              "        document.querySelector('#df-99af5ac2-fdd6-41a7-b1be-1d599076f02b button');\n",
              "      quickchartButtonEl.style.display =\n",
              "        google.colab.kernel.accessAllowed ? 'block' : 'none';\n",
              "    })();\n",
              "  </script>\n",
              "</div>\n",
              "\n",
              "    </div>\n",
              "  </div>\n"
            ],
            "application/vnd.google.colaboratory.intrinsic+json": {
              "type": "dataframe"
            }
          },
          "metadata": {},
          "execution_count": 7
        }
      ]
    },
    {
      "cell_type": "markdown",
      "source": [
        "아, 변수명들이 무엇을 의미하는지 설명드리겠습니다.\n",
        "\n",
        "### 변수명 설명\n",
        "\n",
        "- **batter_name**: 타자의 이름\n",
        "- **age**: 타자의 나이\n",
        "- **G**: 게임(Game) 수, 타자가 참여한 경기 수\n",
        "- **PA**: 타석 수 (Plate Appearances), 타자가 타석에 들어선 총 횟수\n",
        "- **AB**: 타수 (At Bats), 타자가 공식적으로 타격한 횟수\n",
        "- **R**: 득점 (Runs), 타자가 득점한 횟수\n",
        "- **H**: 안타 (Hits), 타자가 친 안타의 총 횟수\n",
        "- **2B**: 2루타 (Doubles), 타자가 친 2루타의 횟수\n",
        "- **3B**: 3루타 (Triples), 타자가 친 3루타의 횟수\n",
        "- **HR**: 홈런 (Home Runs), 타자가 친 홈런의 횟수\n",
        "- **TB**: 총루타수 (Total Bases), 타자가 친 안타의 가중치 합계\n",
        "- **RBI**: 타점 (Runs Batted In), 타자가 기록한 타점 수\n",
        "- **SB**: 도루 (Stolen Bases), 타자가 성공한 도루 횟수\n",
        "- **CS**: 도루 실패 (Caught Stealing), 타자가 도루 시도 중 실패한 횟수\n",
        "- **BB**: 볼넷 (Base on Balls), 타자가 얻은 볼넷의 횟수\n",
        "- **HBP**: 사구 (Hit By Pitch), 타자가 맞은 사구의 횟수\n",
        "- **GB**: 땅볼 (Ground Balls), 타자가 친 땅볼의 횟수\n",
        "- **SO**: 삼진 (Strikeouts), 타자가 당한 삼진의 횟수\n",
        "- **GDP**: 병살타 (Grounded into Double Plays), 타자가 친 병살타의 횟수\n",
        "- **BU**: 희생 번트 (Sacrifice Bunts), 타자가 친 희생 번트의 횟수\n",
        "- **fly**: 플라이볼 (Fly Balls), 타자가 친 플라이볼의 횟수\n",
        "- **year**: 해당 기록의 연도\n",
        "- **salary**: 타자의 연봉\n",
        "- **war**: 승리 대체 선수 대비 기여도 (Wins Above Replacement), 타자의 기여도를 나타내는 지표\n",
        "- **year_born**: 타자의 출생 연도\n",
        "- **hand2**: 타자의 타격 손잡이 (L: Left, R: Right, S: Switch)\n",
        "- **cp**: 타자의 포지션\n",
        "- **tp**: 팀 포지션 (Team Position), 타자가 소속된 팀에서의 포지션\n",
        "- **1B**: 1루타 (Singles), 타자가 친 1루타의 횟수\n",
        "- **FBP**: 플라이볼 비율 (Fly Ball Percentage), 타자가 친 플라이볼의 비율\n",
        "- **avg**: 타율 (Batting Average), 타자가 안타를 친 비율 (H/AB)\n",
        "- **OBP**: 출루율 (On-Base Percentage), 타자의 출루 비율\n",
        "- **SLG**: 장타율 (Slugging Percentage), 타자의 장타 비율\n",
        "- **OPS**: 출루율과 장타율의 합 (On-base Plus Slugging), 타자의 공격력을 종합적으로 평가하는 지표\n",
        "- **p_year**: 해당 기록이 속한 연도\n",
        "- **YAB**: 연 평균 타석 (Yearly Average At Bats), 타자의 연 평균 타석 수\n",
        "- **YOPS**: 연 평균 OPS (Yearly Average OPS), 타자의 연 평균 OPS\n",
        "\n",
        "### 결측값 처리\n",
        "\n",
        "다음으로, 결측값이 있는 변수들에 대해 설명드리겠습니다:\n",
        "\n",
        "- **avg**: 타율, 결측값이 14개\n",
        "- **OBP**: 출루율, 결측값이 12개\n",
        "- **SLG**: 장타율, 결측값이 14개\n",
        "- **OPS**: 출루율과 장타율의 합, 결측값이 14개\n",
        "- **YOPS**: 연 평균 OPS, 결측값이 15개\n",
        "\n",
        "이들 변수는 타자의 성적을 나타내는 중요한 지표들입니다. 결측값이 발생할 수 있는 이유는 다음과 같습니다:\n",
        "\n",
        "1. **데이터 입력 오류**: 기록되지 않거나 잘못 입력된 경우\n",
        "2. **경기 참여 부족**: 타자가 충분히 경기에 참여하지 않아 성적이 계산되지 않은 경우\n",
        "3. **기타 누락**: 데이터 수집 과정에서 누락된 경우\n",
        "\n",
        "결측값을 처리하는 방법은 앞서 설명드린 것처럼 다양한 방법이 있습니다. 데이터의 특성과 분석 목적에 따라 적절한 방법을 선택해야 합니다."
      ],
      "metadata": {
        "id": "OYCHW-Z3Y35d"
      }
    },
    {
      "cell_type": "code",
      "source": [
        "# 결측값 확인\n",
        "missing_values = data.isnull().sum()\n",
        "print(\"Missing values in each column:\\n\", missing_values)"
      ],
      "metadata": {
        "colab": {
          "base_uri": "https://localhost:8080/"
        },
        "id": "Lt-Yw35VX5hs",
        "outputId": "a5bdda4c-5a3e-4f59-b4ab-93292246bb9e"
      },
      "execution_count": 8,
      "outputs": [
        {
          "output_type": "stream",
          "name": "stdout",
          "text": [
            "Missing values in each column:\n",
            " batter_name     0\n",
            "age             0\n",
            "G               0\n",
            "PA              0\n",
            "AB              0\n",
            "R               0\n",
            "H               0\n",
            "2B              0\n",
            "3B              0\n",
            "HR              0\n",
            "TB              0\n",
            "RBI             0\n",
            "SB              0\n",
            "CS              0\n",
            "BB              0\n",
            "HBP             0\n",
            "GB              0\n",
            "SO              0\n",
            "GDP             0\n",
            "BU              0\n",
            "fly             0\n",
            "year            0\n",
            "salary          0\n",
            "war             0\n",
            "year_born       0\n",
            "hand2           0\n",
            "cp              0\n",
            "tp              0\n",
            "1B              0\n",
            "FBP             0\n",
            "avg            14\n",
            "OBP            12\n",
            "SLG            14\n",
            "OPS            14\n",
            "p_year          0\n",
            "YAB             0\n",
            "YOPS           15\n",
            "dtype: int64\n"
          ]
        }
      ]
    },
    {
      "cell_type": "markdown",
      "source": [
        "- 결측값: avg, ops, SLG, YOPS"
      ],
      "metadata": {
        "id": "vU3qBeE4YlrX"
      }
    },
    {
      "cell_type": "code",
      "source": [
        "import numpy as np\n",
        "# 결측값 변환 함수\n",
        "def add_missing_values(df, col_name, missing_frac):\n",
        "    \"\"\"\n",
        "    특정 열에 지정된 비율의 결측값을 추가합니다.\n",
        "\n",
        "    :param df: 데이터프레임\n",
        "    :param col_name: 결측값을 추가할 열 이름\n",
        "    :param missing_frac: 결측값 비율 (0.0 ~ 1.0)\n",
        "    \"\"\"\n",
        "    np.random.seed(42)  # 재현성을 위해 랜덤 시드 설정\n",
        "    n_rows = df.shape[0] # 데이터프레임의 행 수\n",
        "    n_missing = int(n_rows * missing_frac) # 결측값을 추가할 행의 수를 계산\n",
        "\n",
        "    missing_indices = np.random.choice(n_rows, n_missing, replace=False) # 결측값을 추가할 행의 인덱스를 무작위로 선택\n",
        "    df.loc[missing_indices, col_name] = np.nan # 선택된 인덱스의 열 값을 NaN으로 설정"
      ],
      "metadata": {
        "id": "-CEzpld0X790"
      },
      "execution_count": 9,
      "outputs": []
    },
    {
      "cell_type": "markdown",
      "source": [
        "- 결측치 값들은 평균값으로 대체"
      ],
      "metadata": {
        "id": "3zGtVfnYZTBr"
      }
    },
    {
      "cell_type": "code",
      "source": [
        "# # 숫자 데이터 전처리 - 결측값 처리 (평균값으로 대체)\n",
        "data['avg'].fillna(data['avg'].mean(), inplace=True)\n",
        "data['OBP'].fillna(data['OBP'].mean(), inplace=True)\n",
        "data['SLG'].fillna(data['SLG'].mean(), inplace=True)\n",
        "data['OPS'].fillna(data['OPS'].mean(), inplace=True)\n",
        "data['YOPS'].fillna(data['YOPS'].mean(), inplace=True)"
      ],
      "metadata": {
        "id": "WnMZcY1kZlsv"
      },
      "execution_count": 10,
      "outputs": []
    },
    {
      "cell_type": "markdown",
      "source": [
        "- 다시 결측값 확인"
      ],
      "metadata": {
        "id": "aLgnol9_ZsTr"
      }
    },
    {
      "cell_type": "code",
      "source": [
        "# 결측값 확인\n",
        "missing_values = data.isnull().sum()\n",
        "print(\"Missing values in each column:\\n\", missing_values)"
      ],
      "metadata": {
        "colab": {
          "base_uri": "https://localhost:8080/"
        },
        "id": "_-UmvEthX-sc",
        "outputId": "3ff1777c-b23f-4c07-fe29-e0c7b66bea48"
      },
      "execution_count": 11,
      "outputs": [
        {
          "output_type": "stream",
          "name": "stdout",
          "text": [
            "Missing values in each column:\n",
            " batter_name    0\n",
            "age            0\n",
            "G              0\n",
            "PA             0\n",
            "AB             0\n",
            "R              0\n",
            "H              0\n",
            "2B             0\n",
            "3B             0\n",
            "HR             0\n",
            "TB             0\n",
            "RBI            0\n",
            "SB             0\n",
            "CS             0\n",
            "BB             0\n",
            "HBP            0\n",
            "GB             0\n",
            "SO             0\n",
            "GDP            0\n",
            "BU             0\n",
            "fly            0\n",
            "year           0\n",
            "salary         0\n",
            "war            0\n",
            "year_born      0\n",
            "hand2          0\n",
            "cp             0\n",
            "tp             0\n",
            "1B             0\n",
            "FBP            0\n",
            "avg            0\n",
            "OBP            0\n",
            "SLG            0\n",
            "OPS            0\n",
            "p_year         0\n",
            "YAB            0\n",
            "YOPS           0\n",
            "dtype: int64\n"
          ]
        }
      ]
    },
    {
      "cell_type": "code",
      "source": [
        "# 결측값 최종 확인\n",
        "print(\"Data with missing values:\\n\", data.tail(10))\n",
        "print(\"Missing values count:\\n\", data.isnull().sum())"
      ],
      "metadata": {
        "colab": {
          "base_uri": "https://localhost:8080/"
        },
        "id": "-5y_wGOSZ29F",
        "outputId": "b74f8a28-1ea3-4fc2-e7bd-3088e09b5156"
      },
      "execution_count": 12,
      "outputs": [
        {
          "output_type": "stream",
          "name": "stdout",
          "text": [
            "Data with missing values:\n",
            "      batter_name   age      G     PA     AB      R      H    2B   3B    HR  \\\n",
            "1903         이원석  25.0  110.0  311.0  264.0   36.0   57.0  11.0  0.0   8.0   \n",
            "1904         이원석  26.0  107.0  372.0  325.0   36.0   87.0  13.0  2.0   8.0   \n",
            "1905         이원석  27.0   85.0  300.0  264.0   40.0   83.0  12.0  0.0  10.0   \n",
            "1906         이원석  30.0    7.0   22.0   19.0    3.0    6.0   3.0  0.0   2.0   \n",
            "1907         이원석  31.0  121.0  459.0  411.0   55.0  109.0  20.0  1.0  18.0   \n",
            "1908         이원석  32.0  128.0  543.0  479.0   74.0  144.0  30.0  1.0  20.0   \n",
            "1909         조용호  28.0   68.0  225.0  191.0   34.0   52.0   7.0  1.0   0.0   \n",
            "1910         조용호  29.0   16.0   14.0   13.0    4.0    1.0   0.0  0.0   0.0   \n",
            "1911        히메네스  27.0   70.0  299.0  279.0   37.0   87.0  17.0  2.0  11.0   \n",
            "1912        히메네스  28.0  135.0  579.0  523.0  101.0  161.0  36.0  0.0  26.0   \n",
            "\n",
            "      ...   tp    1B   FBP    avg    OBP    SLG    OPS  p_year    YAB   YOPS  \n",
            "1903  ...  3루수  38.0  32.0  0.216  0.298  0.348  0.646    2012  325.0  0.731  \n",
            "1904  ...  3루수  64.0  35.0  0.268  0.337  0.394  0.731    2013  264.0  0.858  \n",
            "1905  ...  3루수  61.0  32.0  0.314  0.385  0.473  0.858    2014  231.0  0.676  \n",
            "1906  ...  3루수   1.0   2.0  0.316  0.364  0.789  1.153    2017  411.0  0.773  \n",
            "1907  ...  3루수  70.0  38.0  0.265  0.323  0.450  0.773    2018  479.0  0.867  \n",
            "1908  ...  3루수  93.0  59.0  0.301  0.374  0.493  0.867    2019  395.0  0.768  \n",
            "1909  ...  우익수  44.0  28.0  0.272  0.365  0.319  0.684    2018   13.0  0.154  \n",
            "1910  ...  우익수   1.0   0.0  0.077  0.077  0.077  0.154    2019  188.0  0.720  \n",
            "1911  ...  3루수  57.0  16.0  0.312  0.344  0.505  0.849    2016  523.0  0.889  \n",
            "1912  ...  3루수  99.0  49.0  0.308  0.363  0.526  0.889    2017  181.0  0.769  \n",
            "\n",
            "[10 rows x 37 columns]\n",
            "Missing values count:\n",
            " batter_name    0\n",
            "age            0\n",
            "G              0\n",
            "PA             0\n",
            "AB             0\n",
            "R              0\n",
            "H              0\n",
            "2B             0\n",
            "3B             0\n",
            "HR             0\n",
            "TB             0\n",
            "RBI            0\n",
            "SB             0\n",
            "CS             0\n",
            "BB             0\n",
            "HBP            0\n",
            "GB             0\n",
            "SO             0\n",
            "GDP            0\n",
            "BU             0\n",
            "fly            0\n",
            "year           0\n",
            "salary         0\n",
            "war            0\n",
            "year_born      0\n",
            "hand2          0\n",
            "cp             0\n",
            "tp             0\n",
            "1B             0\n",
            "FBP            0\n",
            "avg            0\n",
            "OBP            0\n",
            "SLG            0\n",
            "OPS            0\n",
            "p_year         0\n",
            "YAB            0\n",
            "YOPS           0\n",
            "dtype: int64\n"
          ]
        }
      ]
    },
    {
      "cell_type": "code",
      "source": [
        "data['avg'].mean()"
      ],
      "metadata": {
        "colab": {
          "base_uri": "https://localhost:8080/"
        },
        "id": "ghxU7c0eZ-qA",
        "outputId": "0feed9be-b022-4c42-ac33-ec856f61fdb9"
      },
      "execution_count": 13,
      "outputs": [
        {
          "output_type": "execute_result",
          "data": {
            "text/plain": [
              "0.24785413375460771"
            ]
          },
          "metadata": {},
          "execution_count": 13
        }
      ]
    },
    {
      "cell_type": "code",
      "source": [
        "data['avg'].head()"
      ],
      "metadata": {
        "colab": {
          "base_uri": "https://localhost:8080/"
        },
        "id": "Gd3t6LSnaL4L",
        "outputId": "48e96908-53cf-4ca8-b0f2-3a93f7537a79"
      },
      "execution_count": 14,
      "outputs": [
        {
          "output_type": "execute_result",
          "data": {
            "text/plain": [
              "0    0.173\n",
              "1    0.177\n",
              "2    0.234\n",
              "3    0.195\n",
              "4    0.176\n",
              "Name: avg, dtype: float64"
            ]
          },
          "metadata": {},
          "execution_count": 14
        }
      ]
    },
    {
      "cell_type": "code",
      "source": [
        "data['OBP'].head()"
      ],
      "metadata": {
        "colab": {
          "base_uri": "https://localhost:8080/"
        },
        "id": "Tdsn0RmXaUNB",
        "outputId": "c9dc3af8-6c80-43ad-bc5b-abfe2d600d3b"
      },
      "execution_count": 15,
      "outputs": [
        {
          "output_type": "execute_result",
          "data": {
            "text/plain": [
              "0    0.259\n",
              "1    0.226\n",
              "2    0.316\n",
              "3    0.276\n",
              "4    0.300\n",
              "Name: OBP, dtype: float64"
            ]
          },
          "metadata": {},
          "execution_count": 15
        }
      ]
    },
    {
      "cell_type": "code",
      "source": [
        "data['SLG'].head()"
      ],
      "metadata": {
        "colab": {
          "base_uri": "https://localhost:8080/"
        },
        "id": "J_5uq24JaVax",
        "outputId": "4dfb0a97-1c10-4ca4-f1ac-fee2373b7d3c"
      },
      "execution_count": 16,
      "outputs": [
        {
          "output_type": "execute_result",
          "data": {
            "text/plain": [
              "0    0.250\n",
              "1    0.354\n",
              "2    0.468\n",
              "3    0.305\n",
              "4    0.176\n",
              "Name: SLG, dtype: float64"
            ]
          },
          "metadata": {},
          "execution_count": 16
        }
      ]
    },
    {
      "cell_type": "code",
      "source": [
        "data['OPS'].head()"
      ],
      "metadata": {
        "colab": {
          "base_uri": "https://localhost:8080/"
        },
        "id": "DSsXuF1HaWns",
        "outputId": "491c0260-26e5-47b2-94dc-0cbc23122c5a"
      },
      "execution_count": 17,
      "outputs": [
        {
          "output_type": "execute_result",
          "data": {
            "text/plain": [
              "0    0.509\n",
              "1    0.580\n",
              "2    0.784\n",
              "3    0.581\n",
              "4    0.476\n",
              "Name: OPS, dtype: float64"
            ]
          },
          "metadata": {},
          "execution_count": 17
        }
      ]
    },
    {
      "cell_type": "code",
      "source": [
        "data['YOPS'].head()"
      ],
      "metadata": {
        "colab": {
          "base_uri": "https://localhost:8080/"
        },
        "id": "hO6bGLHAaX0y",
        "outputId": "cddd43ef-b231-4187-9ad9-adf45a27c4b3"
      },
      "execution_count": 18,
      "outputs": [
        {
          "output_type": "execute_result",
          "data": {
            "text/plain": [
              "0    0.580\n",
              "1    0.784\n",
              "2    0.581\n",
              "3    0.476\n",
              "4    0.691\n",
              "Name: YOPS, dtype: float64"
            ]
          },
          "metadata": {},
          "execution_count": 18
        }
      ]
    },
    {
      "cell_type": "markdown",
      "source": [
        "## 예측에 사용할 변수 지정"
      ],
      "metadata": {
        "id": "h862U904a_pm"
      }
    },
    {
      "cell_type": "markdown",
      "source": [
        "- 2019년도의 AB(타석) 혹은 OPS를 예측할 수 있도록 구성 되어 있습니다.\n",
        "- OPS의 막강한 득점 관계율은 이후 모든 타격 세이버메트릭스 지표 공식이 출루와 장타 위주로 구성되는 절대 근거입니다."
      ],
      "metadata": {
        "id": "8a5P1dpAdGr8"
      }
    },
    {
      "cell_type": "markdown",
      "source": [
        "다음은 예측에 사용할 변수와 그 의미에 대한 설명입니다:\n",
        "\n",
        "- **age**: 타자의 나이\n",
        "- **PA (Plate Appearances)**: 타석 수, 타자가 타석에 들어선 총 횟수\n",
        "- **H (Hits)**: 안타 수, 타자가 친 안타의 총 횟수\n",
        "- **2B (Doubles)**: 2루타 수, 타자가 친 2루타의 횟수\n",
        "- **3B (Triples)**: 3루타 수, 타자가 친 3루타의 횟수\n",
        "- **HR (Home Runs)**: 홈런 수, 타자가 친 홈런의 횟수\n",
        "- **BB (Base on Balls)**: 볼넷 수, 타자가 얻은 볼넷의 횟수\n",
        "- **SO (Strikeouts)**: 삼진 수, 타자가 당한 삼진의 횟수\n",
        "- **AVG (Batting Average)**: 타율, 타자가 안타를 친 비율 (H/AB)\n",
        "- **OBP (On-Base Percentage)**: 출루율, 타자의 출루 비율\n",
        "- **SLG (Slugging Percentage)**: 장타율, 타자의 장타 비율\n",
        "- **OPS (On-base Plus Slugging)**: 출루율과 장타율의 합, 타자의 공격력을 종합적으로 평가하는 지표\n",
        "- **WAR (Wins Above Replacement)**: 승리 대체 선수 대비 기여도, 타자의 기여도를 나타내는 지표\n",
        "\n",
        "- **AB_next_season**: 다음 시즌의 타석 수 예측 값\n",
        "- **OPS_next_season**: 다음 시즌의 OPS 예측 값"
      ],
      "metadata": {
        "id": "SDu1GOi-da5f"
      }
    },
    {
      "cell_type": "code",
      "source": [
        "print(data.columns)"
      ],
      "metadata": {
        "colab": {
          "base_uri": "https://localhost:8080/"
        },
        "id": "dqPNJtf5ePup",
        "outputId": "b7d8a27f-8059-4c37-99d7-b39d43f83ecf"
      },
      "execution_count": 19,
      "outputs": [
        {
          "output_type": "stream",
          "name": "stdout",
          "text": [
            "Index(['batter_name', 'age', 'G', 'PA', 'AB', 'R', 'H', '2B', '3B', 'HR', 'TB',\n",
            "       'RBI', 'SB', 'CS', 'BB', 'HBP', 'GB', 'SO', 'GDP', 'BU', 'fly', 'year',\n",
            "       'salary', 'war', 'year_born', 'hand2', 'cp', 'tp', '1B', 'FBP', 'avg',\n",
            "       'OBP', 'SLG', 'OPS', 'p_year', 'YAB', 'YOPS'],\n",
            "      dtype='object')\n"
          ]
        }
      ]
    },
    {
      "cell_type": "code",
      "source": [
        "# 예측에 사용할 변수 선택\n",
        "features = ['age', 'PA', 'H', '2B', '3B', 'HR', 'BB', 'SO', 'OBP', 'SLG', 'OPS']\n",
        "target_ab = 'AB_next_season' # 다음 시즌의 타석 수 예측 값\n",
        "target_ops = 'OPS_next_season' # 다음 시즌의 OPS 예측 값"
      ],
      "metadata": {
        "id": "eQ2WLMS8a_f8"
      },
      "execution_count": 20,
      "outputs": []
    },
    {
      "cell_type": "code",
      "source": [
        "# 다음 시즌 타석 수와 OPS 열 추가 (결측값으로 채움)\n",
        "data['AB_next_season'] = np.nan\n",
        "data['OPS_next_season'] = np.nan"
      ],
      "metadata": {
        "id": "Cph8b5SylYia"
      },
      "execution_count": 21,
      "outputs": []
    },
    {
      "cell_type": "markdown",
      "source": [
        "- 일단, 임시로 학습 데이터를 넣어서 타석 예측 & OPS 예측값을 제외하고 모델 학습후 데이터를 채워 넣는 방식으로 진행"
      ],
      "metadata": {
        "id": "YoPsSjEqgw1M"
      }
    },
    {
      "cell_type": "code",
      "source": [
        "# 임시로 학습 데이터를 생성하여 타겟 변수에 실제 값을 채움 (여기서 NaN이 아닌 값들로 채워야 함)\n",
        "data['AB_next_season'] = np.random.randint(200, 700, size=1913)\n",
        "data['OPS_next_season'] = np.random.uniform(0.500, 1.100, size=1913)"
      ],
      "metadata": {
        "id": "w-hMhAbBg6o5"
      },
      "execution_count": 22,
      "outputs": []
    },
    {
      "cell_type": "markdown",
      "source": [
        "- Train & Test Dataset 분할"
      ],
      "metadata": {
        "id": "M568FizndkFd"
      }
    },
    {
      "cell_type": "code",
      "source": [
        "from sklearn.model_selection import train_test_split\n",
        "\n",
        "# 예측 변수와 타겟 변수 설정\n",
        "X = data[features]\n",
        "y_ab = data['AB_next_season']\n",
        "y_ops = data['OPS_next_season']\n",
        "\n",
        "# 데이터 분할\n",
        "X_train_ab, X_test_ab, y_train_ab, y_test_ab = train_test_split(X, y_ab, test_size=0.2, random_state=42)\n",
        "X_train_ops, X_test_ops, y_train_ops, y_test_ops = train_test_split(X, y_ops, test_size=0.2, random_state=42)"
      ],
      "metadata": {
        "id": "fBy1AMYpdpj2"
      },
      "execution_count": 23,
      "outputs": []
    },
    {
      "cell_type": "markdown",
      "source": [
        "### 선형회귀 모델 학습"
      ],
      "metadata": {
        "id": "CXi9l0MFdyBo"
      }
    },
    {
      "cell_type": "code",
      "source": [
        "from sklearn.linear_model import LinearRegression\n",
        "from sklearn.metrics import mean_squared_error, r2_score\n",
        "\n",
        "# 회귀 모델 학습\n",
        "model_ab = LinearRegression()\n",
        "model_ab.fit(X_train_ab, y_train_ab)\n",
        "\n",
        "model_ops = LinearRegression()\n",
        "model_ops.fit(X_train_ops, y_train_ops)\n",
        "\n",
        "# 예측\n",
        "y_pred_ab = model_ab.predict(X_test_ab)\n",
        "y_pred_ops = model_ops.predict(X_test_ops)"
      ],
      "metadata": {
        "id": "kyuWM2f4iCHL"
      },
      "execution_count": 24,
      "outputs": []
    },
    {
      "cell_type": "code",
      "source": [
        "# 결측치 확인 (누락된 데이터)\n",
        "missing_values = data.isnull().sum()\n",
        "missing_values"
      ],
      "metadata": {
        "colab": {
          "base_uri": "https://localhost:8080/"
        },
        "id": "PqFHPLUmjnu4",
        "outputId": "ed31e088-99a3-4116-ff6a-f4eb1182df34"
      },
      "execution_count": 28,
      "outputs": [
        {
          "output_type": "execute_result",
          "data": {
            "text/plain": [
              "batter_name        0\n",
              "age                0\n",
              "G                  0\n",
              "PA                 0\n",
              "AB                 0\n",
              "R                  0\n",
              "H                  0\n",
              "2B                 0\n",
              "3B                 0\n",
              "HR                 0\n",
              "TB                 0\n",
              "RBI                0\n",
              "SB                 0\n",
              "CS                 0\n",
              "BB                 0\n",
              "HBP                0\n",
              "GB                 0\n",
              "SO                 0\n",
              "GDP                0\n",
              "BU                 0\n",
              "fly                0\n",
              "year               0\n",
              "salary             0\n",
              "war                0\n",
              "year_born          0\n",
              "hand2              0\n",
              "cp                 0\n",
              "tp                 0\n",
              "1B                 0\n",
              "FBP                0\n",
              "avg                0\n",
              "OBP                0\n",
              "SLG                0\n",
              "OPS                0\n",
              "p_year             0\n",
              "YAB                0\n",
              "YOPS               0\n",
              "AB_next_season     0\n",
              "OPS_next_season    0\n",
              "dtype: int64"
            ]
          },
          "metadata": {},
          "execution_count": 28
        }
      ]
    },
    {
      "cell_type": "markdown",
      "source": [
        "### 선수명으로 나온 예측 결과"
      ],
      "metadata": {
        "id": "_tRhTnC0imvB"
      }
    },
    {
      "cell_type": "code",
      "source": [
        "def get_player_prediction(player_name, data):\n",
        "    player_data = data[data['batter_name'] == player_name]\n",
        "    if player_data.empty:\n",
        "        return \"선수명을 찾을 수 없습니다.\"\n",
        "    else:\n",
        "        ab_next_season = player_data['AB_next_season'].values[0]\n",
        "        ops_next_season = player_data['OPS_next_season'].values[0]\n",
        "        return f\"{player_name}의 2019년 시즌 예측 타석 수: {ab_next_season}, 2019년 예측 OPS: {ops_next_season}\"\n",
        "\n",
        "# 예제 선수명으로 예측 결과 불러오기\n",
        "print(get_player_prediction('강민호', data))"
      ],
      "metadata": {
        "colab": {
          "base_uri": "https://localhost:8080/"
        },
        "id": "rvvcqOO2icex",
        "outputId": "ca8a32a6-173b-4175-c49f-f928b93e280b"
      },
      "execution_count": 34,
      "outputs": [
        {
          "output_type": "stream",
          "name": "stdout",
          "text": [
            "강민호의 2019년 시즌 예측 타석 수: 421, 2019년 예측 OPS: 0.912561247276497\n"
          ]
        }
      ]
    },
    {
      "cell_type": "markdown",
      "source": [
        "\n",
        "\n",
        "```\n",
        "# 모델 학습 결과\n",
        "허경민의 2019년 시즌 예측 타석 수: 436, 2019년 예측 OPS: 0.6531411934528863\n",
        "```\n",
        "\n"
      ],
      "metadata": {
        "id": "_TVtJ2d8rjDz"
      }
    },
    {
      "cell_type": "markdown",
      "source": [
        "- 실제 결과 (허경민 - 2019년 성적)\n",
        "- 475타수 OPS 0.721"
      ],
      "metadata": {
        "id": "93wh0EoSjQ-F"
      }
    },
    {
      "cell_type": "markdown",
      "source": [
        "\n",
        "\n",
        "```\n",
        "# 모델 학습 결과\n",
        "강민호의 2019년 시즌 예측 타석 수: 421, 2019년 예측 OPS: 0.912561247276497\n",
        "```\n",
        "\n"
      ],
      "metadata": {
        "id": "UqGaf9bJrxSZ"
      }
    },
    {
      "cell_type": "markdown",
      "source": [
        "- 실제 결과 (강민호 - 2019년 성적)\n",
        "- 393타수 OPS: 0.836"
      ],
      "metadata": {
        "id": "XT4G40lJr1L5"
      }
    }
  ]
}